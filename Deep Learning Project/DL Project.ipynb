{
 "cells": [
  {
   "cell_type": "markdown",
   "source": [
    "# Deep Learning Project\n",
    "## Stock Market Prediction \n",
    "In this project we're gonna try to predict the values of some Stock Markets in the USA using this dataset \"Stock_Market_Data\".\n"
   ],
   "metadata": {
    "collapsed": false
   },
   "id": "aef9a68e4f7fc473"
  },
  {
   "cell_type": "code",
   "outputs": [
    {
     "name": "stdout",
     "output_type": "stream",
     "text": [
      "       Index                 Date         Open         High          Low  \\\n",
      "0        NYA           12/31/1965   528.690002   528.690002   528.690002   \n",
      "1        NYA  1966-03-01 00:00:00   527.210022   527.210022   527.210022   \n",
      "2        NYA  1966-04-01 00:00:00   527.840027   527.840027   527.840027   \n",
      "3        NYA  1966-05-01 00:00:00   531.119995   531.119995   531.119995   \n",
      "4        NYA  1966-06-01 00:00:00   532.070007   532.070007   532.070007   \n",
      "...      ...                  ...          ...          ...          ...   \n",
      "112452  N100            5/27/2021  1241.119995  1251.910034  1241.119995   \n",
      "112453  N100            5/28/2021  1249.469971  1259.209961  1249.030029   \n",
      "112454  N100            5/31/2021  1256.079956  1258.880005  1248.140015   \n",
      "112455  N100  2021-01-06 00:00:00  1254.609985  1265.660034  1254.609985   \n",
      "112456  N100  2021-02-06 00:00:00  1258.489990  1263.709961  1258.239990   \n",
      "\n",
      "              Close    Adj Close       Volume  \n",
      "0        528.690002   528.690002          0.0  \n",
      "1        527.210022   527.210022          0.0  \n",
      "2        527.840027   527.840027          0.0  \n",
      "3        531.119995   531.119995          0.0  \n",
      "4        532.070007   532.070007          0.0  \n",
      "...             ...          ...          ...  \n",
      "112452  1247.069946  1247.069946  379696400.0  \n",
      "112453  1256.599976  1256.599976  160773400.0  \n",
      "112454  1248.930054  1248.930054   91173700.0  \n",
      "112455  1258.579956  1258.579956  155179900.0  \n",
      "112456  1263.619995  1263.619995  148465000.0  \n",
      "\n",
      "[112457 rows x 8 columns]\n"
     ]
    }
   ],
   "source": [
    "import pandas as pd\n",
    "\n",
    "data = pd.read_excel (\"Stock_Market_Data.xlsx\")\n",
    "print(data)"
   ],
   "metadata": {
    "collapsed": false,
    "ExecuteTime": {
     "end_time": "2024-11-26T16:47:16.781654Z",
     "start_time": "2024-11-26T16:47:04.925046Z"
    }
   },
   "id": "855f77d675682efb",
   "execution_count": 2
  },
  {
   "cell_type": "code",
   "outputs": [
    {
     "name": "stdout",
     "output_type": "stream",
     "text": [
      "Index        0\n",
      "Date         0\n",
      "Open         0\n",
      "High         0\n",
      "Low          0\n",
      "Close        0\n",
      "Adj Close    0\n",
      "Volume       0\n",
      "dtype: int64\n"
     ]
    }
   ],
   "source": [
    "data = data.dropna() # Retira os valores nulos do dataset\n",
    "print(data.isnull().sum()) # Verifica se ainda existem dados ausentes"
   ],
   "metadata": {
    "collapsed": false,
    "ExecuteTime": {
     "end_time": "2024-11-26T17:01:54.021574Z",
     "start_time": "2024-11-26T17:01:54.000835Z"
    }
   },
   "id": "34dae1d64eabe386",
   "execution_count": 8
  },
  {
   "cell_type": "code",
   "outputs": [
    {
     "name": "stdout",
     "output_type": "stream",
     "text": [
      "Empty DataFrame\n",
      "Columns: [Index, Date, Open, High, Low, Close, Adj Close, Volume]\n",
      "Index: []\n"
     ]
    }
   ],
   "source": [
    "non_numeric_lines = data.iloc[:, 2:].apply(lambda row: row.apply(lambda x: isinstance(x, (int, float))).all(), axis=1)\n",
    "non_numeric_lines = data[~non_numeric_lines]\n",
    "print(non_numeric_lines)"
   ],
   "metadata": {
    "collapsed": false,
    "ExecuteTime": {
     "end_time": "2024-11-26T17:21:39.882806Z",
     "start_time": "2024-11-26T17:21:36.196046Z"
    }
   },
   "id": "5dae675ad0bdd247",
   "execution_count": 18
  },
  {
   "cell_type": "code",
   "outputs": [],
   "source": [],
   "metadata": {
    "collapsed": false
   },
   "id": "853398c37aa01ac9"
  }
 ],
 "metadata": {
  "kernelspec": {
   "display_name": "Python 3",
   "language": "python",
   "name": "python3"
  },
  "language_info": {
   "codemirror_mode": {
    "name": "ipython",
    "version": 2
   },
   "file_extension": ".py",
   "mimetype": "text/x-python",
   "name": "python",
   "nbconvert_exporter": "python",
   "pygments_lexer": "ipython2",
   "version": "2.7.6"
  }
 },
 "nbformat": 4,
 "nbformat_minor": 5
}

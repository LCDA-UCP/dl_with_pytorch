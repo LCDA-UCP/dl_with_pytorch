{
 "cells": [
  {
   "cell_type": "markdown",
   "source": [
    "# CNN Tutorial with PyTorch on the MNIST Dataset\n",
    "\n",
    "In this tutorial, we will build a Convolutional Neural Network (CNN) to classify handwritten digits from the MNIST dataset. We'll go through the following steps:\n",
    "\n",
    "1. **Data Loading, Processing, and Augmentation**\n",
    "2. **Data Exploration**\n",
    "3. **Model Building**\n",
    "4. **Model Training**\n",
    "5. **Model Evaluation**"
   ],
   "metadata": {
    "collapsed": false
   },
   "id": "b4ed97ee03ffbf73"
  },
  {
   "metadata": {},
   "cell_type": "markdown",
   "source": [
    "## 1. Data Loading, Processing, and Augmentation\n",
    "\n",
    "The MNIST dataset consists of 28x28 pixel grayscale images of handwritten digits (0-9). We'll use PyTorch's `torchvision` to load and preprocess the data. We will also apply some augmentations to improve our model's robustness.\n",
    "\n",
    "### Exercise\n",
    "\n",
    "1. Import the necessary libraries.\n",
    "2. Load the MNIST dataset using `torchvision.datasets`.\n",
    "3. Apply normalization to the dataset.\n",
    "4. Create data loaders for training and testing with appropriate batch sizes.\n",
    "5. Experiment with different data augmentations like rotation, translation, and flipping."
   ],
   "id": "de854ac82e9a020b"
  },
  {
   "metadata": {
    "ExecuteTime": {
     "end_time": "2024-10-25T10:48:12.728547Z",
     "start_time": "2024-10-25T10:48:12.654394Z"
    }
   },
   "cell_type": "code",
   "source": [
    "import torch\n",
    "from torch.utils.data import DataLoader\n",
    "from torchvision import datasets, transforms\n",
    "import matplotlib.pyplot as plt\n",
    "\n",
    "# Definir a transformação\n",
    "transform = transforms.ToTensor()\n",
    "\n",
    "# Carregar o conjunto de dados\n",
    "train_dataset = datasets.MNIST(root='./data', train=True, transform=transform, download=True)\n",
    "test_dataset = datasets.MNIST(root='./data', train=False, transform=transform)\n",
    "\n",
    "train_loader = DataLoader(dataset=train_dataset, batch_size=64, shuffle=True)\n",
    "test_loader = DataLoader(dataset=test_dataset, batch_size=64, shuffle=True)"
   ],
   "id": "d98248f80f8d704a",
   "outputs": [],
   "execution_count": 10
  },
  {
   "cell_type": "code",
   "outputs": [],
   "source": [],
   "metadata": {
    "collapsed": false,
    "ExecuteTime": {
     "end_time": "2024-10-25T10:48:13.810042Z",
     "start_time": "2024-10-25T10:48:13.805858Z"
    }
   },
   "id": "239e417c4d375a44",
   "execution_count": 10
  },
  {
   "metadata": {
    "ExecuteTime": {
     "end_time": "2024-10-25T10:48:14.230451Z",
     "start_time": "2024-10-25T10:48:14.172128Z"
    }
   },
   "cell_type": "code",
   "source": [
    "import torch\n",
    "from torchvision import datasets, transforms\n",
    "import matplotlib.pyplot as plt\n",
    "import numpy\n",
    "\n",
    "# Obter uma imagem e seu rótulo\n",
    "image, label = train_dataset[4]\n",
    "\n",
    "# Converter para NumPy\n",
    "image = image.numpy().squeeze()\n",
    "\n",
    "# Exibir a imagem\n",
    "plt.imshow(image, cmap='gray')\n",
    "plt.title(f'Label: {label}')\n",
    "plt.axis('off')\n",
    "plt.show()"
   ],
   "id": "4d35a16ffac61778",
   "outputs": [
    {
     "data": {
      "text/plain": "<Figure size 640x480 with 1 Axes>",
      "image/png": "[encoded data removed]"
     },
     "metadata": {},
     "output_type": "display_data"
    }
   ],
   "execution_count": 11
  },
  {
   "metadata": {
    "ExecuteTime": {
     "end_time": "2024-10-25T10:48:15.038557Z",
     "start_time": "2024-10-25T10:48:15.035474Z"
    }
   },
   "cell_type": "code",
   "source": [
    "# .."
   ],
   "id": "b973103232079f75",
   "outputs": [],
   "execution_count": 12
  },
  {
   "metadata": {},
   "cell_type": "markdown",
   "source": [
    "## 2. Data Exploration\n",
    "\n",
    "Before training our model, it's essential to explore the data. This helps us understand its distribution and visualize some examples.\n",
    "\n",
    "### Exercise\n",
    "1. Visualize a few images from the training dataset along with their labels.\n",
    "2. Print the number of samples in the training and test datasets."
   ],
   "id": "8c4d4b41cceb7666"
  },
  {
   "metadata": {
    "ExecuteTime": {
     "end_time": "2024-10-25T10:48:16.583860Z",
     "start_time": "2024-10-25T10:48:16.381378Z"
    }
   },
   "cell_type": "code",
   "source": [
    "def show_images(images, labels): \n",
    "    plt.figure(figsize=(12,6))\n",
    "    for i in range(6):\n",
    "        plt.subplot(2, 3, i+1)\n",
    "        plt.imshow(images[i].numpy().squeeze(), cmap='gray')\n",
    "        plt.title(f\"Title: {labels[i]}\")\n",
    "        plt.axis('off')\n",
    "    plt.show()\n",
    "\n",
    "data = iter(train_loader)\n",
    "images, labels = next(data)\n",
    "show_images(images, labels)"
   ],
   "id": "3d3e17130dd15243",
   "outputs": [
    {
     "data": {
      "text/plain": "<Figure size 1200x600 with 6 Axes>",
      "image/png": "[encoded data removed]"
     },
     "metadata": {},
     "output_type": "display_data"
    }
   ],
   "execution_count": 13
  },
  {
   "cell_type": "code",
   "outputs": [
    {
     "data": {
      "text/plain": "<matplotlib.image.AxesImage at 0x143079b70>"
     },
     "execution_count": 17,
     "metadata": {},
     "output_type": "execute_result"
    },
    {
     "data": {
      "text/plain": "<Figure size 640x480 with 1 Axes>",
      "image/png": "[encoded data removed]"
     },
     "metadata": {},
     "output_type": "display_data"
    }
   ],
   "source": [
    "augmentation_transform = transforms.Compose([\n",
    "    transforms.RandomVerticalFlip(p=1.0),\n",
    "])\n",
    "\n",
    "transformed_augmentation_image = augmentation_transform(train_dataset[4][0])\n",
    "\n",
    "plt.imshow(transformed_augmentation_image.numpy().squeeze(), cmap='gray')"
   ],
   "metadata": {
    "collapsed": false,
    "ExecuteTime": {
     "end_time": "2024-10-25T10:50:20.391510Z",
     "start_time": "2024-10-25T10:50:20.284142Z"
    }
   },
   "id": "ef81916815a51eda",
   "execution_count": 17
  },
  {
   "metadata": {},
   "cell_type": "markdown",
   "source": [
    "## 3. Model Building\n",
    "\n",
    "Now, we'll define our CNN architecture. A typical CNN consists of convolutional layers, activation functions, pooling layers, and a fully connected output layer.\n",
    "\n",
    "### Exercise\n",
    "1. Define a CNN class inheriting from torch.nn.Module.\n",
    "2. Include two convolutional layers, ReLU activations, max pooling, and a fully connected layer."
   ],
   "id": "ebf01dbc897fa0e3"
  },
  {
   "metadata": {
    "ExecuteTime": {
     "end_time": "2024-10-25T11:03:17.327047Z",
     "start_time": "2024-10-25T11:03:17.293646Z"
    }
   },
   "cell_type": "code",
   "source": [
    "from torch import nn\n",
    "\n",
    "class CNNModel(nn.Module):\n",
    "    def __init__(self, kernel_size, stride, padding):\n",
    "        super(CNNModel, self).__init__()\n",
    "        self.conv1 = nn.Conv2d(1, 10, kernel_size=kernel_size, stride=stride, padding=padding)\n",
    "        self.conv2 = nn.Conv2d(10, 20, kernel_size=kernel_size, stride=stride, padding=padding)\n",
    "        self.relu = nn.ReLU()\n",
    "        self.avgpool = nn.AvgPool2d(kernel_size=kernel_size, stride=stride)\n",
    "        self.fc1 = nn.Linear(11520, 110)\n",
    "        self.fc2 = nn.Linear(110, 10)\n",
    "        self.dropout = nn.Dropout(p=0.2)\n",
    "        self.softmax = nn.LogSoftmax(dim=1)\n",
    "\n",
    "    def forward(self, x):\n",
    "        x = self.conv1(x)\n",
    "        x = self.relu(x)\n",
    "        x = self.avgpool(x)\n",
    "        x = self.conv2(x)\n",
    "        x = self.relu(x)\n",
    "        x = self.avgpool(x)\n",
    "        x = x.view(x.size(0), -1)\n",
    "        x = self.fc1(x)\n",
    "        x = self.relu(x)\n",
    "        x = self.dropout(x)\n",
    "        x = self.fc2(x)\n",
    "        return  self.softmax(x)\n",
    "\n",
    "model = CNNModel(kernel_size=3, stride=1, padding=1)\n",
    "print(model)"
   ],
   "id": "86bc9381447392ae",
   "outputs": [
    {
     "name": "stdout",
     "output_type": "stream",
     "text": [
      "CNNModel(\n",
      "  (conv1): Conv2d(1, 10, kernel_size=(3, 3), stride=(1, 1), padding=(1, 1))\n",
      "  (conv2): Conv2d(10, 20, kernel_size=(3, 3), stride=(1, 1), padding=(1, 1))\n",
      "  (relu): ReLU()\n",
      "  (avgpool): AvgPool2d(kernel_size=3, stride=1, padding=0)\n",
      "  (fc1): Linear(in_features=11520, out_features=110, bias=True)\n",
      "  (fc2): Linear(in_features=110, out_features=10, bias=True)\n",
      "  (dropout): Dropout(p=0.2, inplace=False)\n",
      "  (softmax): LogSoftmax(dim=1)\n",
      ")\n"
     ]
    }
   ],
   "execution_count": 21
  },
  {
   "metadata": {},
   "cell_type": "markdown",
   "source": [
    "## 4. Model Training\n",
    "\n",
    "We'll now define the training loop to optimize our model using the cross-entropy loss function and the Adam optimizer.\n",
    "\n",
    "### Exercise\n",
    "1. Define a function to train the model for a specified number of epochs.\n",
    "2. Print the training loss after each epoch."
   ],
   "id": "ef72a0844d23519e"
  },
  {
   "metadata": {
    "ExecuteTime": {
     "end_time": "2024-10-25T11:26:20.621691Z",
     "start_time": "2024-10-25T11:17:29.659021Z"
    }
   },
   "cell_type": "code",
   "source": [
    "import torch \n",
    "\n",
    "device = torch.device(\"cuda\" if torch.cuda.is_available() else \"cpu\")\n",
    "\n",
    "model = model.to(device)\n",
    "criterion = nn.CrossEntropyLoss()\n",
    "optimizer = torch.optim.Adam(model.parameters(), lr=0.01)\n",
    "\n",
    "n_epochs = 10 \n",
    "current_loss = 0\n",
    "total = 0 \n",
    "correct = 0\n",
    "for epoch in range(n_epochs):\n",
    "    model.train()\n",
    "    for image, label in train_loader:\n",
    "        image = image.to(device)\n",
    "        label = label.to(device)\n",
    "        \n",
    "        outputs = model(image)\n",
    "        loss = criterion(outputs, label)\n",
    "        \n",
    "        optimizer.zero_grad()\n",
    "        loss.backward()\n",
    "        optimizer.step()\n",
    "        current_loss += loss.item()\n",
    "        \n",
    "        _,  preds = torch.max(outputs.data, 1)\n",
    "        \n",
    "        total += label.size(0)\n",
    "        \n",
    "        correct += (preds == label).sum()\n",
    "        \n",
    "    print(f\"Loss: {current_loss / len(train_loader)}\")\n",
    "    print(f\"Accuracy: {(correct / total) * 100:.2f}\")        "
   ],
   "id": "60e9b2d2d4323664",
   "outputs": [
    {
     "name": "stdout",
     "output_type": "stream",
     "text": [
      "Loss: 0.10530302145117239\n",
      "Accuracy: 96.80\n",
      "Loss: 0.20630387859374308\n",
      "Accuracy: 96.86\n",
      "Loss: 0.3081224735122301\n",
      "Accuracy: 96.85\n",
      "Loss: 0.40692001235023983\n",
      "Accuracy: 96.88\n",
      "Loss: 0.5035165846727586\n",
      "Accuracy: 96.92\n",
      "Loss: 0.597304631427833\n",
      "Accuracy: 96.95\n",
      "Loss: 0.6898400763086706\n",
      "Accuracy: 96.96\n",
      "Loss: 0.7804316069670408\n",
      "Accuracy: 96.99\n",
      "Loss: 0.8709422910298312\n",
      "Accuracy: 97.01\n",
      "Loss: 0.9599387491848429\n",
      "Accuracy: 97.03\n"
     ]
    }
   ],
   "execution_count": 27
  },
  {
   "metadata": {},
   "cell_type": "markdown",
   "source": [
    "## 5. Model Evaluation\n",
    "\n",
    "After training, we need to evaluate our model on the test dataset to understand its performance.\n",
    "\n",
    "### Exercise\n",
    "1. Define a function to evaluate the model's accuracy on the test set.\n",
    "2. Print the accuracy."
   ],
   "id": "5ffdb68841ef1798"
  },
  {
   "metadata": {
    "ExecuteTime": {
     "end_time": "2024-10-25T11:27:14.974132Z",
     "start_time": "2024-10-25T11:27:11.725238Z"
    }
   },
   "cell_type": "code",
   "source": [
    "model.eval()\n",
    "\n",
    "with torch.no_grad():\n",
    "    for image, label in test_loader:\n",
    "        image = image.to(device)\n",
    "        label = label.to(device)\n",
    "        outputs = model(image)\n",
    "        _,  preds = torch.max(outputs.data, 1)\n",
    "        \n",
    "        total += label.size(0)\n",
    "        \n",
    "        correct += (preds == label).sum()\n",
    "\n",
    "    print(f\"Accuracy: {(correct / total) * 100:.2f}%\")"
   ],
   "id": "753013a29969972c",
   "outputs": [
    {
     "name": "stdout",
     "output_type": "stream",
     "text": [
      "Accuracy: 97.04%\n"
     ]
    }
   ],
   "execution_count": 28
  },
  {
   "cell_type": "code",
   "outputs": [],
   "source": [],
   "metadata": {
    "collapsed": false
   },
   "id": "ccb84988b61896df"
  }
 ],
 "metadata": {
  "kernelspec": {
   "display_name": "Python 3",
   "language": "python",
   "name": "python3"
  },
  "language_info": {
   "codemirror_mode": {
    "name": "ipython",
    "version": 2
   },
   "file_extension": ".py",
   "mimetype": "text/x-python",
   "name": "python",
   "nbconvert_exporter": "python",
   "pygments_lexer": "ipython2",
   "version": "2.7.6"
  }
 },
 "nbformat": 4,
 "nbformat_minor": 5
}

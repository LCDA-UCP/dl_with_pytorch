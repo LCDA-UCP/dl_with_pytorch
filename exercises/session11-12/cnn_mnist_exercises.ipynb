{
 "cells": [
  {
   "metadata": {},
   "cell_type": "markdown",
   "source": [
    "# CNN Tutorial with PyTorch on the MNIST Dataset\n",
    "\n",
    "In this tutorial, we will build a Convolutional Neural Network (CNN) to classify handwritten digits from the MNIST dataset. We'll go through the following steps:\n",
    "\n",
    "1. **Data Loading, Processing, and Augmentation**\n",
    "2. **Data Exploration**\n",
    "3. **Model Building**\n",
    "4. **Model Training**\n",
    "5. **Model Evaluation**\n",
    "\n"
   ],
   "id": "9cf2cd67a7fb4ec1"
  },
  {
   "metadata": {},
   "cell_type": "markdown",
   "source": [
    "## 1. Data Loading, Processing, and Augmentation\n",
    "\n",
    "The MNIST dataset consists of 28x28 pixel grayscale images of handwritten digits (0-9). We'll use PyTorch's `torchvision` to load and preprocess the data. We will also apply some augmentations to improve our model's robustness.\n",
    "\n",
    "### Exercise\n",
    "\n",
    "1. Import the necessary libraries.\n",
    "2. Load the MNIST dataset using `torchvision.datasets`.\n",
    "3. Apply normalization to the dataset.\n",
    "4. Create data loaders for training and testing with appropriate batch sizes.\n",
    "5. Experiment with different data augmentations like rotation, translation, and flipping."
   ],
   "id": "de854ac82e9a020b"
  },
  {
   "metadata": {
    "ExecuteTime": {
     "end_time": "2024-10-23T19:31:20.726609Z",
     "start_time": "2024-10-23T19:31:20.723200Z"
    }
   },
   "cell_type": "code",
   "source": [
    "# .."
   ],
   "id": "d98248f80f8d704a",
   "outputs": [],
   "execution_count": 1
  },
  {
   "metadata": {
    "ExecuteTime": {
     "end_time": "2024-10-23T19:31:20.788692Z",
     "start_time": "2024-10-23T19:31:20.785726Z"
    }
   },
   "cell_type": "code",
   "source": [
    "# .."
   ],
   "id": "4d35a16ffac61778",
   "outputs": [],
   "execution_count": 2
  },
  {
   "metadata": {
    "ExecuteTime": {
     "end_time": "2024-10-23T19:31:20.932315Z",
     "start_time": "2024-10-23T19:31:20.930025Z"
    }
   },
   "cell_type": "code",
   "source": [
    "# .."
   ],
   "id": "b973103232079f75",
   "outputs": [],
   "execution_count": 3
  },
  {
   "metadata": {},
   "cell_type": "markdown",
   "source": [
    "## 2. Data Exploration\n",
    "\n",
    "Before training our model, it's essential to explore the data. This helps us understand its distribution and visualize some examples.\n",
    "\n",
    "### Exercise\n",
    "1. Visualize a few images from the training dataset along with their labels.\n",
    "2. Print the number of samples in the training and test datasets."
   ],
   "id": "8c4d4b41cceb7666"
  },
  {
   "metadata": {
    "ExecuteTime": {
     "end_time": "2024-10-23T19:31:20.980791Z",
     "start_time": "2024-10-23T19:31:20.978125Z"
    }
   },
   "cell_type": "code",
   "source": [
    "# .."
   ],
   "id": "3d3e17130dd15243",
   "outputs": [],
   "execution_count": 4
  },
  {
   "metadata": {},
   "cell_type": "markdown",
   "source": [
    "## 3. Model Building\n",
    "\n",
    "Now, we'll define our CNN architecture. A typical CNN consists of convolutional layers, activation functions, pooling layers, and a fully connected output layer.\n",
    "\n",
    "### Exercise\n",
    "1. Define a CNN class inheriting from torch.nn.Module.\n",
    "2. Include two convolutional layers, ReLU activations, max pooling, and a fully connected layer."
   ],
   "id": "ebf01dbc897fa0e3"
  },
  {
   "metadata": {
    "ExecuteTime": {
     "end_time": "2024-10-23T19:31:21.063472Z",
     "start_time": "2024-10-23T19:31:21.060612Z"
    }
   },
   "cell_type": "code",
   "source": [
    "# ..."
   ],
   "id": "86bc9381447392ae",
   "outputs": [],
   "execution_count": 5
  },
  {
   "metadata": {},
   "cell_type": "markdown",
   "source": [
    "## 4. Model Training\n",
    "\n",
    "We'll now define the training loop to optimize our model using the cross-entropy loss function and the Adam optimizer.\n",
    "\n",
    "### Exercise\n",
    "1. Define a function to train the model for a specified number of epochs.\n",
    "2. Print the training loss after each epoch."
   ],
   "id": "ef72a0844d23519e"
  },
  {
   "metadata": {
    "ExecuteTime": {
     "end_time": "2024-10-23T19:31:21.113469Z",
     "start_time": "2024-10-23T19:31:21.110559Z"
    }
   },
   "cell_type": "code",
   "source": [
    "# .."
   ],
   "id": "60e9b2d2d4323664",
   "outputs": [],
   "execution_count": 6
  },
  {
   "metadata": {},
   "cell_type": "markdown",
   "source": [
    "## 5. Model Evaluation\n",
    "\n",
    "After training, we need to evaluate our model on the test dataset to understand its performance.\n",
    "\n",
    "### Exercise\n",
    "1. Define a function to evaluate the model's accuracy on the test set.\n",
    "2. Print the accuracy."
   ],
   "id": "5ffdb68841ef1798"
  },
  {
   "metadata": {
    "ExecuteTime": {
     "end_time": "2024-10-23T19:31:21.163881Z",
     "start_time": "2024-10-23T19:31:21.161019Z"
    }
   },
   "cell_type": "code",
   "source": [
    "# .."
   ],
   "id": "753013a29969972c",
   "outputs": [],
   "execution_count": 7
  },
  {
   "metadata": {
    "ExecuteTime": {
     "end_time": "2024-10-23T19:31:21.212163Z",
     "start_time": "2024-10-23T19:31:21.209926Z"
    }
   },
   "cell_type": "code",
   "source": [],
   "id": "f97e3a9ed9ac1b32",
   "outputs": [],
   "execution_count": null
  }
 ],
 "metadata": {
  "kernelspec": {
   "display_name": "Python 3",
   "language": "python",
   "name": "python3"
  },
  "language_info": {
   "codemirror_mode": {
    "name": "ipython",
    "version": 2
   },
   "file_extension": ".py",
   "mimetype": "text/x-python",
   "name": "python",
   "nbconvert_exporter": "python",
   "pygments_lexer": "ipython2",
   "version": "2.7.6"
  }
 },
 "nbformat": 4,
 "nbformat_minor": 5
}

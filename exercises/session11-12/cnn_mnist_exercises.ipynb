{
 "cells": [
  {
   "metadata": {},
   "cell_type": "markdown",
   "source": [
    "# CNN Tutorial with PyTorch on the MNIST Dataset\n",
    "\n",
    "In this tutorial, we will build a Convolutional Neural Network (CNN) to classify handwritten digits from the MNIST dataset. We'll go through the following steps:\n",
    "\n",
    "1. **Data Loading, Processing, and Augmentation**\n",
    "2. **Data Exploration**\n",
    "3. **Model Building**\n",
    "4. **Model Training**\n",
    "5. **Model Evaluation**\n",
    "\n"
   ],
   "id": "9cf2cd67a7fb4ec1"
  },
  {
   "metadata": {},
   "cell_type": "markdown",
   "source": [
    "## 1. Data Loading, Processing, and Augmentation\n",
    "\n",
    "The MNIST dataset consists of 28x28 pixel grayscale images of handwritten digits (0-9). We'll use PyTorch's `torchvision` to load and preprocess the data. We will also apply some augmentations to improve our model's robustness.\n",
    "\n",
    "### Exercise\n",
    "\n",
    "1. Import the necessary libraries.\n",
    "2. Load the MNIST dataset using `torchvision.datasets`.\n",
    "3. Apply normalization to the dataset.\n",
    "4. Create data loaders for training and testing with appropriate batch sizes.\n",
    "5. Experiment with different data augmentations like rotation, translation, and flipping."
   ],
   "id": "de854ac82e9a020b"
  },
  {
   "metadata": {
    "ExecuteTime": {
     "end_time": "2024-10-25T10:11:33.493235400Z",
     "start_time": "2024-10-25T10:11:33.475229800Z"
    }
   },
   "cell_type": "code",
   "source": [
    "# .."
   ],
   "id": "d98248f80f8d704a",
   "outputs": [],
   "execution_count": 9
  },
  {
   "metadata": {
    "ExecuteTime": {
     "end_time": "2024-10-25T10:11:33.517831700Z",
     "start_time": "2024-10-25T10:11:33.497240Z"
    }
   },
   "cell_type": "code",
   "source": [
    "# .."
   ],
   "id": "4d35a16ffac61778",
   "outputs": [],
   "execution_count": 10
  },
  {
   "metadata": {
    "ExecuteTime": {
     "end_time": "2024-10-25T10:22:10.149031900Z",
     "start_time": "2024-10-25T10:22:10.087493600Z"
    }
   },
   "cell_type": "code",
   "source": [
    "# plot image\n",
    "import matplotlib_pyplot as plt\n",
    "from scipy._lib.cobyqa.subsolvers import optim\n",
    "\n",
    "plt.inshow(train_dataset[4][0].numpy().squeeze(), )"
   ],
   "id": "b973103232079f75",
   "outputs": [
    {
     "ename": "ModuleNotFoundError",
     "evalue": "No module named 'matplotlib_pyplot'",
     "output_type": "error",
     "traceback": [
      "\u001B[1;31m---------------------------------------------------------------------------\u001B[0m",
      "\u001B[1;31mModuleNotFoundError\u001B[0m                       Traceback (most recent call last)",
      "Cell \u001B[1;32mIn[16], line 2\u001B[0m\n\u001B[0;32m      1\u001B[0m \u001B[38;5;66;03m# plot image\u001B[39;00m\n\u001B[1;32m----> 2\u001B[0m \u001B[38;5;28;01mimport\u001B[39;00m \u001B[38;5;21;01mmatplotlib_pyplot\u001B[39;00m \u001B[38;5;28;01mas\u001B[39;00m \u001B[38;5;21;01mplt\u001B[39;00m\n\u001B[0;32m      4\u001B[0m plt\u001B[38;5;241m.\u001B[39minshow(train_dataset[\u001B[38;5;241m4\u001B[39m][\u001B[38;5;241m0\u001B[39m]\u001B[38;5;241m.\u001B[39mnumpy()\u001B[38;5;241m.\u001B[39msqueeze(), )\n",
      "\u001B[1;31mModuleNotFoundError\u001B[0m: No module named 'matplotlib_pyplot'"
     ]
    }
   ],
   "execution_count": 16
  },
  {
   "metadata": {},
   "cell_type": "markdown",
   "source": [
    "## 2. Data Exploration\n",
    "\n",
    "Before training our model, it's essential to explore the data. This helps us understand its distribution and visualize some examples.\n",
    "\n",
    "### Exercise\n",
    "1. Visualize a few images from the training dataset along with their labels.\n",
    "2. Print the number of samples in the training and test datasets."
   ],
   "id": "8c4d4b41cceb7666"
  },
  {
   "metadata": {
    "ExecuteTime": {
     "start_time": "2024-10-25T10:11:33.523728800Z"
    }
   },
   "cell_type": "code",
   "source": [
    "# .."
   ],
   "id": "3d3e17130dd15243",
   "outputs": [],
   "execution_count": null
  },
  {
   "metadata": {},
   "cell_type": "markdown",
   "source": [
    "## 3. Model Building\n",
    "\n",
    "Now, we'll define our CNN architecture. A typical CNN consists of convolutional layers, activation functions, pooling layers, and a fully connected output layer.\n",
    "\n",
    "### Exercise\n",
    "1. Define a CNN class inheriting from torch.nn.Module.\n",
    "2. Include two convolutional layers, ReLU activations, max pooling, and a fully connected layer."
   ],
   "id": "ebf01dbc897fa0e3"
  },
  {
   "metadata": {
    "ExecuteTime": {
     "end_time": "2024-10-25T10:24:25.170572Z",
     "start_time": "2024-10-25T10:24:25.162495900Z"
    }
   },
   "cell_type": "code",
   "source": [
    "from torch import nn\n",
    "\n",
    "class CNNModel(nn.Module):\n",
    "    \n",
    "    def __init__(self, kernel_size, stride, padding):\n",
    "        super(CNNModel, self), __init__()\n",
    "        self.conv1 = nn.Conv2d(1, 10, kernel_size=kernel_size, stride=stride, padding)\n",
    "        self.conv2 = nn.Conv2d(10, 20, kernel_size, stride=stride, padding=padding)\n",
    "        self.relu = nn.ReLU()\n",
    "        self.avgpool = nn.AvgPool2d(kernel_size=kernel_size, stride=stride)\n",
    "        self.fc = nn.Linear(kernel_size * kernel_size * 20, 110)\n",
    "        self.dropout = nn.Dropout(0.2)\n",
    "        self.fc2 = nn.Linear(110, 10)\n",
    "        self.softmax = nn.Softmax(dim=1)\n",
    "        \n",
    "        \n",
    "    def forward(self, x):\n",
    "        x = self.conv1(x)\n",
    "        x = self.relu(x)\n",
    "        x = self.avgpool(x)\n",
    "        x = self.conv2(x)\n",
    "        x = self.relu(x)\n",
    "        x = self.avgpool(x)\n",
    "        x = x.view(x.size(0), -1)\n",
    "        x = self.fc(x)\n",
    "        x = self.relu(x)\n",
    "        x = self.dropout(x)\n",
    "        x = self.fc2(x)\n",
    "        return self.softmax(x)\n",
    "    \n",
    "    model = CNNModel(kernel_size=3, stride=1, padding=0)\n",
    "    print(model)"
   ],
   "id": "86bc9381447392ae",
   "outputs": [
    {
     "ename": "IndentationError",
     "evalue": "unindent does not match any outer indentation level (<tokenize>, line 30)",
     "output_type": "error",
     "traceback": [
      "\u001B[1;36m  File \u001B[1;32m<tokenize>:30\u001B[1;36m\u001B[0m\n\u001B[1;33m    model = CNNModel(kernel_size=3, stride=1, padding=0)\u001B[0m\n\u001B[1;37m    ^\u001B[0m\n\u001B[1;31mIndentationError\u001B[0m\u001B[1;31m:\u001B[0m unindent does not match any outer indentation level\n"
     ]
    }
   ],
   "execution_count": 18
  },
  {
   "metadata": {},
   "cell_type": "markdown",
   "source": [
    "## 4. Model Training\n",
    "\n",
    "We'll now define the training loop to optimize our model using the cross-entropy loss function and the Adam optimizer.\n",
    "\n",
    "### Exercise\n",
    "1. Define a function to train the model for a specified number of epochs.\n",
    "2. Print the training loss after each epoch."
   ],
   "id": "ef72a0844d23519e"
  },
  {
   "metadata": {
    "ExecuteTime": {
     "end_time": "2024-10-25T11:00:26.897492200Z",
     "start_time": "2024-10-25T11:00:26.832426800Z"
    }
   },
   "cell_type": "code",
   "source": [
    "import torch \n",
    "\n",
    "device = torch.device(\"cuda\" if torch.cuda.is_available() else \"cpu\")\n",
    "\n",
    "model = model.to(device)\n",
    "criteron = nn.CrossEntropyLoss()\n",
    "optimizer = optim.SGD(model.parameters(), lr=0.001)\n",
    "\n",
    "n_epochs = 10\n",
    "\n",
    "for epoch in range(n_epochs):\n",
    "    model.train()\n",
    "    current_loss = 0\n",
    "    current_accuracy = 0\n",
    "    for images, label in train_loader:\n",
    "        image = image.to(device)\n",
    "        label = label.to(device)\n",
    "        \n",
    "        outputs = model(image)\n",
    "        loss = criteron(outputs, label)\n",
    "        \n",
    "        optimizer.zero_grad()\n",
    "        loss.backward()\n",
    "        optimizer.step()\n",
    "        current_loss += loss.item()\n",
    "        \n",
    "        preds = outputs.data\n",
    "        _, preds = torch.max(outputs.data, 1)\n",
    "        \n",
    "        total += label.size(0)\n",
    "        correct += (preds == label).sum().items()\n",
    "        \n",
    "        \n",
    "    print(f\"Loss: {current_loss / len(train_loader)}\")\n",
    "    print(f\"Accuracy: {correct / len(total) *100:.2f\")\n",
    "    \n",
    "    \n",
    "        \n",
    "        "
   ],
   "id": "60e9b2d2d4323664",
   "outputs": [
    {
     "ename": "ModuleNotFoundError",
     "evalue": "No module named 'torch'",
     "output_type": "error",
     "traceback": [
      "\u001B[1;31m---------------------------------------------------------------------------\u001B[0m",
      "\u001B[1;31mModuleNotFoundError\u001B[0m                       Traceback (most recent call last)",
      "Cell \u001B[1;32mIn[20], line 1\u001B[0m\n\u001B[1;32m----> 1\u001B[0m \u001B[38;5;28;01mimport\u001B[39;00m \u001B[38;5;21;01mtorch\u001B[39;00m \n\u001B[0;32m      3\u001B[0m device \u001B[38;5;241m=\u001B[39m torch\u001B[38;5;241m.\u001B[39mdevice(\u001B[38;5;124m\"\u001B[39m\u001B[38;5;124mcuda\u001B[39m\u001B[38;5;124m\"\u001B[39m \u001B[38;5;28;01mif\u001B[39;00m torch\u001B[38;5;241m.\u001B[39mcuda\u001B[38;5;241m.\u001B[39mis_available() \u001B[38;5;28;01melse\u001B[39;00m \u001B[38;5;124m\"\u001B[39m\u001B[38;5;124mcpu\u001B[39m\u001B[38;5;124m\"\u001B[39m)\n\u001B[0;32m      5\u001B[0m model \u001B[38;5;241m=\u001B[39m model\u001B[38;5;241m.\u001B[39mto(device)\n",
      "\u001B[1;31mModuleNotFoundError\u001B[0m: No module named 'torch'"
     ]
    }
   ],
   "execution_count": 20
  },
  {
   "metadata": {},
   "cell_type": "markdown",
   "source": [
    "## 5. Model Evaluation\n",
    "\n",
    "After training, we need to evaluate our model on the test dataset to understand its performance.\n",
    "\n",
    "### Exercise\n",
    "1. Define a function to evaluate the model's accuracy on the test set.\n",
    "2. Print the accuracy."
   ],
   "id": "5ffdb68841ef1798"
  },
  {
   "metadata": {
    "ExecuteTime": {
     "end_time": "2024-10-25T10:11:33.539608200Z",
     "start_time": "2024-10-25T10:11:33.531050Z"
    }
   },
   "cell_type": "code",
   "source": [
    "model.eval()\n",
    "\n",
    "with torch.no_grand():\n",
    "    for image,label in test_loader:\n",
    "        image = image.to(device)\n",
    "        label = label.to(device)\n",
    "        outputs = model(image)\n",
    "        _, preds = torch.max(outputs.data, 1)\n",
    "        \n",
    "        total += label.size(0)\n",
    "        correct += (preds == label).sum()\n",
    "        \n",
    "    print(f\"Accuracy: {(correct / total) * 100:.2f}%\")\n",
    "        \n",
    "        "
   ],
   "id": "753013a29969972c",
   "outputs": [],
   "execution_count": 13
  },
  {
   "metadata": {
    "ExecuteTime": {
     "end_time": "2024-10-25T10:11:33.539608200Z",
     "start_time": "2024-10-25T10:11:33.534168600Z"
    }
   },
   "cell_type": "code",
   "source": [],
   "id": "f97e3a9ed9ac1b32",
   "outputs": [],
   "execution_count": 13
  }
 ],
 "metadata": {
  "kernelspec": {
   "display_name": "Python 3",
   "language": "python",
   "name": "python3"
  },
  "language_info": {
   "codemirror_mode": {
    "name": "ipython",
    "version": 2
   },
   "file_extension": ".py",
   "mimetype": "text/x-python",
   "name": "python",
   "nbconvert_exporter": "python",
   "pygments_lexer": "ipython2",
   "version": "2.7.6"
  }
 },
 "nbformat": 4,
 "nbformat_minor": 5
}

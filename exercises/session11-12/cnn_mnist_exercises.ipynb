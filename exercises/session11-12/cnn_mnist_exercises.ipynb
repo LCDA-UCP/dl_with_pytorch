{
 "cells": [
  {
   "cell_type": "markdown",
   "id": "9cf2cd67a7fb4ec1",
   "metadata": {},
   "source": [
    "# CNN Tutorial with PyTorch on the MNIST Dataset\n",
    "\n",
    "In this tutorial, we will build a Convolutional Neural Network (CNN) to classify handwritten digits from the MNIST dataset. We'll go through the following steps:\n",
    "\n",
    "1. **Data Loading, Processing, and Augmentation**\n",
    "2. **Data Exploration**\n",
    "3. **Model Building**\n",
    "4. **Model Training**\n",
    "5. **Model Evaluation**\n",
    "\n"
   ]
  },
  {
   "cell_type": "markdown",
   "id": "de854ac82e9a020b",
   "metadata": {},
   "source": [
    "## 1. Data Loading, Processing, and Augmentation\n",
    "\n",
    "The MNIST dataset consists of 28x28 pixel grayscale images of handwritten digits (0-9). We'll use PyTorch's `torchvision` to load and preprocess the data. We will also apply some augmentations to improve our model's robustness.\n",
    "\n",
    "### Exercise\n",
    "\n",
    "1. Import the necessary libraries.\n",
    "2. Load the MNIST dataset using `torchvision.datasets`.\n",
    "3. Apply normalization to the dataset.\n",
    "4. Create data loaders for training and testing with appropriate batch sizes.\n",
    "5. Experiment with different data augmentations like rotation, translation, and flipping."
   ]
  },
  {
   "cell_type": "code",
   "execution_count": 10,
   "id": "d98248f80f8d704a",
   "metadata": {
    "ExecuteTime": {
     "end_time": "2024-10-23T19:31:20.726609Z",
     "start_time": "2024-10-23T19:31:20.723200Z"
    }
   },
<<<<<<< HEAD
=======
   "cell_type": "code",
   "source": [
    "# .."
   ],
   "id": "d98248f80f8d704a",
>>>>>>> b25fdd6b5839abd84cb9c371021362af9671f260
   "outputs": [],
   "source": [
    "from torchvision import datasets\n",
    "from torchvision import transforms\n",
    "\n",
    "transform = transforms.Compose([transforms.ToTensor(),\n",
    "                                 transforms.Normalize((0.0,), (1.0,)),\n",
    "                                 ])\n",
    "\n",
    "train_dataset = datasets.MNIST(root='./data', train=True, transform = transform, download = True)\n",
    "test_dataset =datasets.MNIST(root='./data', train=False, transform=transform)"
   ]
  },
  {
   "cell_type": "code",
   "execution_count": 11,
   "id": "4d35a16ffac61778",
   "metadata": {
    "ExecuteTime": {
     "end_time": "2024-10-23T19:31:20.788692Z",
     "start_time": "2024-10-23T19:31:20.785726Z"
    }
   },
<<<<<<< HEAD
   "outputs": [
    {
     "data": {
      "text/plain": [
       "<matplotlib.image.AxesImage at 0x218bd98ca90>"
      ]
     },
     "execution_count": 11,
     "metadata": {},
     "output_type": "execute_result"
    },
    {
     "data": {
      "image/png": "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",
      "text/plain": [
       "<Figure size 640x480 with 1 Axes>"
      ]
     },
     "metadata": {},
     "output_type": "display_data"
    }
   ],
   "source": [
    "import matplotlib.pyplot as plt\n",
    "\n",
    "plt.imshow(train_dataset[4][0].numpy().squeeze(), cmap='gray')"
   ]
=======
   "cell_type": "code",
   "source": [
    "# .."
   ],
   "id": "4d35a16ffac61778",
   "outputs": [],
   "execution_count": 2
>>>>>>> b25fdd6b5839abd84cb9c371021362af9671f260
  },
  {
   "cell_type": "code",
   "execution_count": 12,
   "id": "b973103232079f75",
   "metadata": {
    "ExecuteTime": {
     "end_time": "2024-10-23T19:31:20.932315Z",
     "start_time": "2024-10-23T19:31:20.930025Z"
    }
   },
<<<<<<< HEAD
   "outputs": [
    {
     "data": {
      "text/plain": [
       "<matplotlib.image.AxesImage at 0x218bc3d1600>"
      ]
     },
     "execution_count": 12,
     "metadata": {},
     "output_type": "execute_result"
    },
    {
     "data": {
      "image/png": "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",
      "text/plain": [
       "<Figure size 640x480 with 1 Axes>"
      ]
     },
     "metadata": {},
     "output_type": "display_data"
    }
   ],
   "source": [
    "augmentation_transform = transforms.Compose([\n",
    "    transforms.RandomHorizontalFlip(p=1.0),\n",
    "])\n",
    "\n",
    "example_image = train_dataset[4][0].numpy().squeeze()\n",
    "\n",
    "transformed_example_image = augmentation_transform(train_dataset[4][0])\n",
    "\n",
    "plt.imshow(transformed_example_image.numpy().squeeze(), cmap='gray')"
   ]
=======
   "cell_type": "code",
   "source": [
    "# plot image\n",
    "import matplotlib_pyplot as plt\n",
    "\n",
    "plt.inshow(train_dataset[4][0].numpy().squeeze(), )"
   ],
   "id": "b973103232079f75",
   "outputs": [],
   "execution_count": 3
>>>>>>> b25fdd6b5839abd84cb9c371021362af9671f260
  },
  {
   "cell_type": "markdown",
   "id": "8c4d4b41cceb7666",
   "metadata": {},
   "source": [
    "## 2. Data Exploration\n",
    "\n",
    "Before training our model, it's essential to explore the data. This helps us understand its distribution and visualize some examples.\n",
    "\n",
    "### Exercise\n",
    "1. Visualize a few images from the training dataset along with their labels.\n",
    "2. Print the number of samples in the training and test datasets."
   ]
  },
  {
   "cell_type": "code",
   "execution_count": 4,
   "id": "3d3e17130dd15243",
   "metadata": {
    "ExecuteTime": {
     "end_time": "2024-10-23T19:31:20.980791Z",
     "start_time": "2024-10-23T19:31:20.978125Z"
    }
   },
<<<<<<< HEAD
=======
   "cell_type": "code",
   "source": [
    "# .."
   ],
   "id": "3d3e17130dd15243",
>>>>>>> b25fdd6b5839abd84cb9c371021362af9671f260
   "outputs": [],
   "source": [
    "# .."
   ]
  },
  {
   "cell_type": "markdown",
   "id": "ebf01dbc897fa0e3",
   "metadata": {},
   "source": [
    "## 3. Model Building\n",
    "\n",
    "Now, we'll define our CNN architecture. A typical CNN consists of convolutional layers, activation functions, pooling layers, and a fully connected output layer.\n",
    "\n",
    "### Exercise\n",
    "1. Define a CNN class inheriting from torch.nn.Module.\n",
    "2. Include two convolutional layers, ReLU activations, max pooling, and a fully connected layer."
   ]
  },
  {
   "cell_type": "code",
   "execution_count": 5,
   "id": "86bc9381447392ae",
   "metadata": {
    "ExecuteTime": {
     "end_time": "2024-10-23T19:31:21.063472Z",
     "start_time": "2024-10-23T19:31:21.060612Z"
    }
   },
<<<<<<< HEAD
=======
   "cell_type": "code",
   "source": [
    "from torch import nn\n",
    "\n",
    "class CNNModel(nn.Module):\n",
    "    \n",
    "    def __init__(self, kernel_size, stride, padding):\n",
    "        super(CNNModel, self), __init__()\n",
    "        self.conv1 = nn.Conv2d(1, 10, kernel_size=kernel_size, stride=stride, padding)\n",
    "        self.conv2 = nn.Conv2d(10, 20, kernel_size, stride=stride, padding=padding)\n",
    "        self.relu = nn.ReLU()\n",
    "        self.avgpool = nn.AvgPool2d(kernel_size=kernel_size, stride=stride)\n",
    "        self.fc = nn.Linear(kernel_size * kernel_size * 20, 110)\n",
    "        self.dropout = nn.Dropout(0.2)\n",
    "        self.fc2 = nn.Linear(110, 10)\n",
    "        self.softmax = nn.Softmax(dim=1)\n",
    "        \n",
    "        \n",
    "    def forward(self, x):\n",
    "        x = self.conv1(x)\n",
    "        x = self.relu(x)\n",
    "        x = self.avgpool(x)\n",
    "        x = self.conv2(x)\n",
    "        x = self.relu(x)\n",
    "        x = self.avgpool(x)\n",
    "        x = x.view(x.size(0), -1)\n",
    "        x = self.fc(x)\n",
    "        x = self.relu(x)\n",
    "        x = self.dropout(x)\n",
    "        x = self.fc2(x)\n",
    "        return self.softmax(x)\n",
    "      model = CNNModel(kernel_size=3, stride=1, padding=0)\n",
    "    print(model)"
   ],
   "id": "86bc9381447392ae",
>>>>>>> b25fdd6b5839abd84cb9c371021362af9671f260
   "outputs": [],
   "source": [
    "# .."
   ]
  },
  {
   "cell_type": "markdown",
   "id": "ef72a0844d23519e",
   "metadata": {},
   "source": [
    "## 4. Model Training\n",
    "\n",
    "We'll now define the training loop to optimize our model using the cross-entropy loss function and the Adam optimizer.\n",
    "\n",
    "### Exercise\n",
    "1. Define a function to train the model for a specified number of epochs.\n",
    "2. Print the training loss after each epoch."
   ]
  },
  {
   "cell_type": "code",
   "execution_count": 6,
   "id": "60e9b2d2d4323664",
   "metadata": {
    "ExecuteTime": {
     "end_time": "2024-10-23T19:31:21.113469Z",
     "start_time": "2024-10-23T19:31:21.110559Z"
    }
   },
<<<<<<< HEAD
=======
   "cell_type": "code",
   "source": [
    "# .."
   ],
   "id": "60e9b2d2d4323664",
>>>>>>> b25fdd6b5839abd84cb9c371021362af9671f260
   "outputs": [],
   "source": [
    "# .."
   ]
  },
  {
   "cell_type": "markdown",
   "id": "5ffdb68841ef1798",
   "metadata": {},
   "source": [
    "## 5. Model Evaluation\n",
    "\n",
    "After training, we need to evaluate our model on the test dataset to understand its performance.\n",
    "\n",
    "### Exercise\n",
    "1. Define a function to evaluate the model's accuracy on the test set.\n",
    "2. Print the accuracy."
   ]
  },
  {
   "cell_type": "code",
   "execution_count": 7,
   "id": "753013a29969972c",
   "metadata": {
    "ExecuteTime": {
     "end_time": "2024-10-23T19:31:21.163881Z",
     "start_time": "2024-10-23T19:31:21.161019Z"
    }
   },
<<<<<<< HEAD
=======
   "cell_type": "code",
   "source": [
    "# .."
   ],
   "id": "753013a29969972c",
>>>>>>> b25fdd6b5839abd84cb9c371021362af9671f260
   "outputs": [],
   "source": [
    "# .."
   ]
  },
  {
   "cell_type": "code",
   "execution_count": null,
   "id": "f97e3a9ed9ac1b32",
   "metadata": {
    "ExecuteTime": {
     "end_time": "2024-10-23T19:31:21.212163Z",
     "start_time": "2024-10-23T19:31:21.209926Z"
    }
   },
<<<<<<< HEAD
=======
   "cell_type": "code",
   "source": [],
   "id": "f97e3a9ed9ac1b32",
>>>>>>> b25fdd6b5839abd84cb9c371021362af9671f260
   "outputs": [],
   "source": []
  }
 ],
 "metadata": {
  "kernelspec": {
   "display_name": "DLWITHPYTORCH",
   "language": "python",
   "name": "python3"
  },
  "language_info": {
   "codemirror_mode": {
    "name": "ipython",
    "version": 3
   },
   "file_extension": ".py",
   "mimetype": "text/x-python",
   "name": "python",
   "nbconvert_exporter": "python",
   "pygments_lexer": "ipython3",
   "version": "3.10.14"
  }
 },
 "nbformat": 4,
 "nbformat_minor": 5
}

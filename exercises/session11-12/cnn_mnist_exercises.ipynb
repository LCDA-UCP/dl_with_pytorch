{
 "cells": [
  {
   "cell_type": "markdown",
   "id": "9cf2cd67a7fb4ec1",
   "metadata": {},
   "source": [
    "# CNN Tutorial with PyTorch on the MNIST Dataset\n",
    "\n",
    "In this tutorial, we will build a Convolutional Neural Network (CNN) to classify handwritten digits from the MNIST dataset. We'll go through the following steps:\n",
    "\n",
    "1. **Data Loading, Processing, and Augmentation**\n",
    "2. **Data Exploration**\n",
    "3. **Model Building**\n",
    "4. **Model Training**\n",
    "5. **Model Evaluation**\n",
    "\n"
   ]
  },
  {
   "cell_type": "markdown",
   "id": "de854ac82e9a020b",
   "metadata": {},
   "source": [
    "## 1. Data Loading, Processing, and Augmentation\n",
    "\n",
    "The MNIST dataset consists of 28x28 pixel grayscale images of handwritten digits (0-9). We'll use PyTorch's `torchvision` to load and preprocess the data. We will also apply some augmentations to improve our model's robustness.\n",
    "\n",
    "### Exercise\n",
    "\n",
    "1. Import the necessary libraries.\n",
    "2. Load the MNIST dataset using `torchvision.datasets`.\n",
    "3. Apply normalization to the dataset.\n",
    "4. Create data loaders for training and testing with appropriate batch sizes.\n",
    "5. Experiment with different data augmentations like rotation, translation, and flipping."
   ]
  },
  {
   "cell_type": "code",
   "execution_count": null,
   "id": "d98248f80f8d704a",
   "metadata": {
    "ExecuteTime": {
     "end_time": "2024-10-23T19:31:20.726609Z",
     "start_time": "2024-10-23T19:31:20.723200Z"
    }
   },
   "outputs": [
    {
     "name": "stdout",
     "output_type": "stream",
     "text": [
      "Downloading http://yann.lecun.com/exdb/mnist/train-images-idx3-ubyte.gz\n",
      "Failed to download (trying next):\n",
      "<urlopen error [SSL: CERTIFICATE_VERIFY_FAILED] certificate verify failed: certificate has expired (_ssl.c:1006)>\n",
      "\n",
      "Downloading https://ossci-datasets.s3.amazonaws.com/mnist/train-images-idx3-ubyte.gz\n",
      "Downloading https://ossci-datasets.s3.amazonaws.com/mnist/train-images-idx3-ubyte.gz to ./data\\MNIST\\raw\\train-images-idx3-ubyte.gz\n"
     ]
    },
    {
     "name": "stderr",
     "output_type": "stream",
     "text": [
      "100%|██████████| 9912422/9912422 [00:01<00:00, 9861479.42it/s] \n"
     ]
    },
    {
     "name": "stdout",
     "output_type": "stream",
     "text": [
      "Extracting ./data\\MNIST\\raw\\train-images-idx3-ubyte.gz to ./data\\MNIST\\raw\n",
      "\n",
      "Downloading http://yann.lecun.com/exdb/mnist/train-labels-idx1-ubyte.gz\n",
      "Failed to download (trying next):\n",
      "<urlopen error [SSL: CERTIFICATE_VERIFY_FAILED] certificate verify failed: certificate has expired (_ssl.c:1006)>\n",
      "\n",
      "Downloading https://ossci-datasets.s3.amazonaws.com/mnist/train-labels-idx1-ubyte.gz\n",
      "Downloading https://ossci-datasets.s3.amazonaws.com/mnist/train-labels-idx1-ubyte.gz to ./data\\MNIST\\raw\\train-labels-idx1-ubyte.gz\n"
     ]
    },
    {
     "name": "stderr",
     "output_type": "stream",
     "text": [
      "100%|██████████| 28881/28881 [00:00<00:00, 298507.15it/s]\n"
     ]
    },
    {
     "name": "stdout",
     "output_type": "stream",
     "text": [
      "Extracting ./data\\MNIST\\raw\\train-labels-idx1-ubyte.gz to ./data\\MNIST\\raw\n",
      "\n",
      "Downloading http://yann.lecun.com/exdb/mnist/t10k-images-idx3-ubyte.gz\n",
      "Failed to download (trying next):\n",
      "<urlopen error [SSL: CERTIFICATE_VERIFY_FAILED] certificate verify failed: certificate has expired (_ssl.c:1006)>\n",
      "\n",
      "Downloading https://ossci-datasets.s3.amazonaws.com/mnist/t10k-images-idx3-ubyte.gz\n",
      "Downloading https://ossci-datasets.s3.amazonaws.com/mnist/t10k-images-idx3-ubyte.gz to ./data\\MNIST\\raw\\t10k-images-idx3-ubyte.gz\n"
     ]
    },
    {
     "name": "stderr",
     "output_type": "stream",
     "text": [
      "100%|██████████| 1648877/1648877 [00:00<00:00, 3115722.53it/s]\n"
     ]
    },
    {
     "name": "stdout",
     "output_type": "stream",
     "text": [
      "Extracting ./data\\MNIST\\raw\\t10k-images-idx3-ubyte.gz to ./data\\MNIST\\raw\n",
      "\n",
      "Downloading http://yann.lecun.com/exdb/mnist/t10k-labels-idx1-ubyte.gz\n",
      "Failed to download (trying next):\n",
      "<urlopen error [SSL: CERTIFICATE_VERIFY_FAILED] certificate verify failed: certificate has expired (_ssl.c:1006)>\n",
      "\n",
      "Downloading https://ossci-datasets.s3.amazonaws.com/mnist/t10k-labels-idx1-ubyte.gz\n",
      "Downloading https://ossci-datasets.s3.amazonaws.com/mnist/t10k-labels-idx1-ubyte.gz to ./data\\MNIST\\raw\\t10k-labels-idx1-ubyte.gz\n"
     ]
    },
    {
     "name": "stderr",
     "output_type": "stream",
     "text": [
      "100%|██████████| 4542/4542 [00:00<00:00, 1291736.42it/s]"
     ]
    },
    {
     "name": "stdout",
     "output_type": "stream",
     "text": [
      "Extracting ./data\\MNIST\\raw\\t10k-labels-idx1-ubyte.gz to ./data\\MNIST\\raw\n",
      "\n"
     ]
    },
    {
     "name": "stderr",
     "output_type": "stream",
     "text": [
      "\n"
     ]
    }
   ],
   "source": [
    "from torchvision import datasets, transforms\n",
    "from torch.utils.data import DataLoader\n",
    "\n",
    "transform = transforms.Compose([transforms.ToTensor(),\n",
    "                                transforms.Normalize((0.0,), (1.0,)),\n",
    "                                # transforms.Resize((28,28)),\n",
    "                                ])\n",
    "\n",
    "train_dataset = datasets.MNIST(root='./data', train=True, transform=transform, download=True)\n",
    "test_dataset = datasets.MNIST(root='./data', train=False, transform=transform, download=True)\n",
    "\n",
    "train_loader = DataLoader(dataset=train_dataset, batch_size=64, shuffle=True)\n",
    "test_loader = DataLoader(dataset=test_dataset, batch_size=64, shuffle=False)"
   ]
  },
  {
   "cell_type": "code",
   "execution_count": 2,
   "id": "4d35a16ffac61778",
   "metadata": {
    "ExecuteTime": {
     "end_time": "2024-10-23T19:31:20.788692Z",
     "start_time": "2024-10-23T19:31:20.785726Z"
    }
   },
   "outputs": [
    {
     "data": {
      "text/plain": [
       "<matplotlib.image.AxesImage at 0x1d35fe6ff10>"
      ]
     },
     "execution_count": 2,
     "metadata": {},
     "output_type": "execute_result"
    },
    {
     "data": {
      "image/png": "[encoded data removed]",
      "text/plain": [
       "<Figure size 640x480 with 1 Axes>"
      ]
     },
     "metadata": {},
     "output_type": "display_data"
    }
   ],
   "source": [
    "# plot image\n",
    "import matplotlib.pyplot as plt\n",
    "\n",
    "plt.imshow(train_dataset[4][0].numpy().squeeze(), cmap='gray')"
   ]
  },
  {
   "cell_type": "code",
   "execution_count": 3,
   "id": "b973103232079f75",
   "metadata": {
    "ExecuteTime": {
     "end_time": "2024-10-23T19:31:20.932315Z",
     "start_time": "2024-10-23T19:31:20.930025Z"
    }
   },
   "outputs": [
    {
     "data": {
      "text/plain": [
       "<matplotlib.image.AxesImage at 0x1d35ff17fd0>"
      ]
     },
     "execution_count": 3,
     "metadata": {},
     "output_type": "execute_result"
    },
    {
     "data": {
      "image/png": "[encoded data removed]",
      "text/plain": [
       "<Figure size 640x480 with 1 Axes>"
      ]
     },
     "metadata": {},
     "output_type": "display_data"
    }
   ],
   "source": [
    "augmentation_transform = transforms.Compose([\n",
    "    transforms.RandomVerticalFlip(p=1.0),\n",
    "])\n",
    "\n",
    "transformed_augmentation_image = augmentation_transform(train_dataset[4][0])\n",
    "\n",
    "plt.imshow(transformed_augmentation_image.numpy().squeeze(), cmap='gray')"
   ]
  },
  {
   "cell_type": "markdown",
   "id": "8c4d4b41cceb7666",
   "metadata": {},
   "source": [
    "## 2. Data Exploration\n",
    "\n",
    "Before training our model, it's essential to explore the data. This helps us understand its distribution and visualize some examples.\n",
    "\n",
    "### Exercise\n",
    "1. Visualize a few images from the training dataset along with their labels.\n",
    "2. Print the number of samples in the training and test datasets."
   ]
  },
  {
   "cell_type": "code",
   "execution_count": 4,
   "id": "3d3e17130dd15243",
   "metadata": {
    "ExecuteTime": {
     "end_time": "2024-10-23T19:31:20.980791Z",
     "start_time": "2024-10-23T19:31:20.978125Z"
    }
   },
   "outputs": [
    {
     "data": {
      "image/png": "[encoded data removed]",
      "text/plain": [
       "<Figure size 1200x600 with 6 Axes>"
      ]
     },
     "metadata": {},
     "output_type": "display_data"
    }
   ],
   "source": [
    "def show_images(images, labels): \n",
    "    plt.figure(figsize=(12,6))\n",
    "    for i in range(6):\n",
    "        plt.subplot(2, 3, i+1)\n",
    "        plt.imshow(images[i].numpy().squeeze(), cmap='gray')\n",
    "        plt.title(f\"Title: {labels[i]}\")\n",
    "        plt.axis('off')\n",
    "    plt.show()\n",
    "\n",
    "data = iter(train_loader)\n",
    "images, labels = next(data)\n",
    "show_images(images, labels)"
   ]
  },
  {
   "cell_type": "markdown",
   "id": "ebf01dbc897fa0e3",
   "metadata": {},
   "source": [
    "## 3. Model Building\n",
    "\n",
    "Now, we'll define our CNN architecture. A typical CNN consists of convolutional layers, activation functions, pooling layers, and a fully connected output layer.\n",
    "\n",
    "### Exercise\n",
    "1. Define a CNN class inheriting from torch.nn.Module.\n",
    "2. Include two convolutional layers, ReLU activations, max pooling, and a fully connected layer."
   ]
  },
  {
   "cell_type": "code",
   "execution_count": 13,
   "id": "86bc9381447392ae",
   "metadata": {
    "ExecuteTime": {
     "end_time": "2024-10-23T19:31:21.063472Z",
     "start_time": "2024-10-23T19:31:21.060612Z"
    }
   },
   "outputs": [
    {
     "name": "stdout",
     "output_type": "stream",
     "text": [
      "CNNModel(\n",
      "  (conv1): Conv2d(1, 10, kernel_size=(3, 3), stride=(1, 1), padding=(1, 1))\n",
      "  (conv2): Conv2d(10, 20, kernel_size=(3, 3), stride=(1, 1), padding=(1, 1))\n",
      "  (relu): ReLU()\n",
      "  (avgpool): AvgPool2d(kernel_size=3, stride=1, padding=0)\n",
      "  (fc1): Linear(in_features=11520, out_features=110, bias=True)\n",
      "  (fc2): Linear(in_features=110, out_features=10, bias=True)\n",
      "  (dropout): Dropout(p=0.2, inplace=False)\n",
      "  (softmax): LogSoftmax(dim=1)\n",
      ")\n"
     ]
    }
   ],
   "source": [
    "from torch import nn\n",
    "\n",
    "class CNNModel(nn.Module):\n",
    "    def __init__(self, kernel_size, stride, padding):\n",
    "        super(CNNModel, self).__init__()\n",
    "        self.conv1 = nn.Conv2d(in_channels=1, out_channels=10, kernel_size=kernel_size, stride=stride, padding=padding)\n",
    "        # in_channels -> tem a ver com rgb, como estamos a usar imagens preto e branco, usa 1, se fosse rgb era 3 (r, g ,b). Channels de entrada\n",
    "        # out_chanels -> quantos filtros\n",
    "        # kernel_size -> tamanho do(s) filtros\n",
    "        # stride -> quanto o(s) filtro(s) se desloca(m)\n",
    "        # paddin -> tamnho da borda do(s) filtro(s)\n",
    "        self.conv2 = nn.Conv2d(10, 20, kernel_size=kernel_size, stride=stride, padding=padding)\n",
    "        self.relu = nn.ReLU()\n",
    "        self.avgpool = nn.AvgPool2d(kernel_size=kernel_size, stride=stride)\n",
    "        self.fc1 = nn.Linear(11520, 110)\n",
    "        self.fc2 = nn.Linear(110, 10)\n",
    "        self.dropout = nn.Dropout(p=0.2)\n",
    "        self.softmax = nn.LogSoftmax(dim=1)\n",
    "\n",
    "    def forward(self, x):\n",
    "        x = self.conv1(x)\n",
    "        x = self.relu(x)\n",
    "        x = self.avgpool(x)\n",
    "        x = self.conv2(x)\n",
    "        x = self.relu(x)\n",
    "        x = self.avgpool(x)\n",
    "        x = x.view(x.size(0), -1)\n",
    "        x = self.fc1(x)\n",
    "        x = self.relu(x)\n",
    "        x = self.dropout(x)\n",
    "        x = self.fc2(x)\n",
    "        return  self.softmax(x)\n",
    "\n",
    "model = CNNModel(kernel_size=3, stride=1, padding=1)\n",
    "print(model)"
   ]
  },
  {
   "cell_type": "markdown",
   "id": "ef72a0844d23519e",
   "metadata": {},
   "source": [
    "## 4. Model Training\n",
    "\n",
    "We'll now define the training loop to optimize our model using the cross-entropy loss function and the Adam optimizer.\n",
    "\n",
    "### Exercise\n",
    "1. Define a function to train the model for a specified number of epochs.\n",
    "2. Print the training loss after each epoch."
   ]
  },
  {
   "cell_type": "code",
   "execution_count": 22,
   "id": "60e9b2d2d4323664",
   "metadata": {
    "ExecuteTime": {
     "end_time": "2024-10-23T19:31:21.113469Z",
     "start_time": "2024-10-23T19:31:21.110559Z"
    }
   },
   "outputs": [
    {
     "name": "stdout",
     "output_type": "stream",
     "text": [
      "Loss: 0.0809597895179539\n",
      "Accuracy: 97.47%\n",
      "Loss: 0.07689732367631176\n",
      "Accuracy: 97.61%\n",
      "Loss: 0.07936318319144178\n",
      "Accuracy: 97.42%\n",
      "Loss: 0.07870510361802234\n",
      "Accuracy: 97.50%\n",
      "Loss: 0.07485692089893667\n",
      "Accuracy: 97.67%\n",
      "Loss: 0.07610026292636547\n",
      "Accuracy: 97.60%\n",
      "Loss: 0.07521875108034214\n",
      "Accuracy: 97.65%\n",
      "Loss: 0.07623865715753504\n",
      "Accuracy: 97.62%\n",
      "Loss: 0.07482696962289648\n",
      "Accuracy: 97.65%\n",
      "Loss: 0.0737128072753494\n",
      "Accuracy: 97.73%\n"
     ]
    }
   ],
   "source": [
    "import torch\n",
    "\n",
    "device = torch.device('cuda' if torch.cuda.is_available() else \"cpu\")\n",
    "\n",
    "model = model.to(device=device)\n",
    "criteration = nn.CrossEntropyLoss()\n",
    "optimizer = torch.optim.Adam(model.parameters(), lr=0.01)\n",
    "\n",
    "n_epochs = 10\n",
    "\n",
    "for epoch in range(n_epochs):\n",
    "    model.train()\n",
    "    current_loss = 0\n",
    "    correct = 0\n",
    "    total = 0\n",
    "\n",
    "    for image, label in train_loader:\n",
    "        image = image.to(device)\n",
    "        label = label.to(device)\n",
    "\n",
    "        outputs = model(image)\n",
    "        loss = criteration(outputs, label)\n",
    "\n",
    "        optimizer.zero_grad()\n",
    "        loss.backward()\n",
    "        optimizer.step()\n",
    "\n",
    "        current_loss += loss.item()\n",
    "\n",
    "        preds = outputs.data\n",
    "        _, preds = torch.max(preds, 1)\n",
    "\n",
    "        total += label.size(0)\n",
    "        correct += (preds == label).sum()\n",
    "\n",
    "    print(f\"Loss: {current_loss / len(train_loader)}\")\n",
    "    print(f\"Accuracy: {(correct / total) * 100:.2f}%\")"
   ]
  },
  {
   "cell_type": "markdown",
   "id": "5ffdb68841ef1798",
   "metadata": {},
   "source": [
    "## 5. Model Evaluation\n",
    "\n",
    "After training, we need to evaluate our model on the test dataset to understand its performance.\n",
    "\n",
    "### Exercise\n",
    "1. Define a function to evaluate the model's accuracy on the test set.\n",
    "2. Print the accuracy."
   ]
  },
  {
   "cell_type": "code",
   "execution_count": 21,
   "id": "753013a29969972c",
   "metadata": {
    "ExecuteTime": {
     "end_time": "2024-10-23T19:31:21.163881Z",
     "start_time": "2024-10-23T19:31:21.161019Z"
    }
   },
   "outputs": [
    {
     "name": "stdout",
     "output_type": "stream",
     "text": [
      "Accuracy: 98.02%\n"
     ]
    }
   ],
   "source": [
    "model.eval()\n",
    "\n",
    "total = 0\n",
    "correct = 0\n",
    "\n",
    "with torch.no_grad():\n",
    "    for image, label in test_loader:\n",
    "        image = image.to(device)\n",
    "        label = label.to(device)\n",
    "\n",
    "        outputs = model(image)\n",
    "\n",
    "        preds = outputs.data\n",
    "        _, preds = torch.max(preds, 1)\n",
    "\n",
    "        total += label.size(0)\n",
    "        correct += (preds == label).sum()\n",
    "\n",
    "print(f\"Accuracy: {(correct / total) * 100:.2f}%\")"
   ]
  }
 ],
 "metadata": {
  "kernelspec": {
   "display_name": "Python (dl_with_pytorch)",
   "language": "python",
   "name": "dl_with_pytorch"
  },
  "language_info": {
   "codemirror_mode": {
    "name": "ipython",
    "version": 3
   },
   "file_extension": ".py",
   "mimetype": "text/x-python",
   "name": "python",
   "nbconvert_exporter": "python",
   "pygments_lexer": "ipython3",
   "version": "3.12.7"
  }
 },
 "nbformat": 4,
 "nbformat_minor": 5
}

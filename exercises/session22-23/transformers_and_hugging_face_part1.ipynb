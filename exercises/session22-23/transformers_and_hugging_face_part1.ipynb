{
 "cells": [
  {
   "metadata": {},
   "cell_type": "markdown",
   "source": [
    "# Transformers and Hugging Face\n",
    "\n",
    "In this tutorial, we will learn about Transformers and how to use them using Hugging Face.\n",
    "\n",
    "We will focus mainly on natural language processing tasks. We will use the Transformers library from Hugging Face, which provides a simple and efficient way to use pre-trained models for various NLP tasks."
   ],
   "id": "3ca274c5a23dcb0b"
  },
  {
   "metadata": {},
   "cell_type": "markdown",
   "source": [
    "## Installation\n",
    "\n",
    "To install the Transformers library, run the following command:\n",
    "\n",
    "```bash\n",
    "pip install transformers\n",
    "```\n",
    "\n",
    "or install it from the requirements.txt file:\n",
    "\n",
    "```bash\n",
    "pip install -r requirements.txt\n",
    "```"
   ],
   "id": "daa19bd46fa9104d"
  },
  {
   "metadata": {},
   "cell_type": "markdown",
   "source": [
    "## Transformers\n",
    "\n",
    "In this section, we will look at what Transformer models can do and use our first tool from the 🤗 Transformers library: the `pipeline()` function."
   ],
   "id": "582461b7283dce9f"
  },
  {
   "metadata": {},
   "cell_type": "markdown",
   "source": [
    "## Pipelines\n",
    "\n",
    "The most basic object in the 🤗 Transformers library is the `pipeline()` function. It connects a model with its necessary preprocessing and postprocessing steps, allowing us to directly input any text and get an intelligible answer:"
   ],
   "id": "66496b9ca181b816"
  },
  {
   "metadata": {
    "ExecuteTime": {
     "end_time": "2024-12-06T10:52:42.911876Z",
     "start_time": "2024-12-06T10:52:39.957932Z"
    }
   },
   "cell_type": "code",
   "source": [
    "from transformers import pipeline\n",
    "\n",
    "classifier = pipeline(\"sentiment-analysis\")\n",
    "classifier(\"I've been waiting for a HuggingFace course my whole life.\")"
   ],
   "id": "dd3a7d5bee80f0b6",
   "outputs": [
    {
     "name": "stderr",
     "output_type": "stream",
     "text": [
      "No model was supplied, defaulted to distilbert/distilbert-base-uncased-finetuned-sst-2-english and revision 714eb0f (https://huggingface.co/distilbert/distilbert-base-uncased-finetuned-sst-2-english).\n",
      "Using a pipeline without specifying a model name and revision in production is not recommended.\n",
      "Hardware accelerator e.g. GPU is available in the environment, but no `device` argument is passed to the `Pipeline` object. Model will be on CPU.\n"
     ]
    },
    {
     "data": {
      "text/plain": [
       "[{'label': 'POSITIVE', 'score': 0.9598049521446228}]"
      ]
     },
     "execution_count": 1,
     "metadata": {},
     "output_type": "execute_result"
    }
   ],
   "execution_count": 1
  },
  {
   "metadata": {},
   "cell_type": "markdown",
   "source": "We can even pass several sentences! The pipeline will return a list of dictionaries, one for each sentence:",
   "id": "e1d5ad0d8346beee"
  },
  {
   "metadata": {
    "ExecuteTime": {
     "end_time": "2024-12-05T13:11:15.811016Z",
     "start_time": "2024-12-05T13:11:15.786791Z"
    }
   },
   "cell_type": "code",
   "source": [
    "classifier([\n",
    "    \"I've been waiting for a HuggingFace course my whole life.\",\n",
    "    \"I hate this so much!\"\n",
    "])"
   ],
   "id": "d6a139c33e05479d",
   "outputs": [
    {
     "data": {
      "text/plain": [
       "[{'label': 'POSITIVE', 'score': 0.9598049521446228},\n",
       " {'label': 'NEGATIVE', 'score': 0.9994558691978455}]"
      ]
     },
     "execution_count": 2,
     "metadata": {},
     "output_type": "execute_result"
    }
   ],
   "execution_count": 2
  },
  {
   "metadata": {},
   "cell_type": "markdown",
   "source": [
    "By default, this pipeline selects a particular pretrained model that has been fine-tuned for **sentiment analysis** in **English**. The model is downloaded and cached when you create the ``classifier`` object. If you rerun the command, the cached model will be used instead and there is no need to download the model again.\n",
    "\n",
    "There are three main steps involved when you pass some text to a pipeline:\n",
    "\n",
    "1. The text is preprocessed into a format the model can understand.\n",
    "2. The preprocessed inputs are passed to the model.\n",
    "3. The predictions of the model are post-processed, so you can make sense of them.\n",
    "\n",
    "Some of the currently available pipelines are:\n",
    "\n",
    "- ``feature-extraction`` (**get the vector representation of a text**): This is useful when you need fixed-dimensional feature vectors as inputs to other models.\n",
    "- ``fill-mask``: This will fill in the masked part of the sentence. The model needs to have a masked language model head.\n",
    "- ``ner`` (**named entity recognition**): This will recognize the entities in the text (like names of people, organizations, locations, etc.)\n",
    "- ``question-answering``: This will extract the answer to a question from the provided text.\n",
    "- ``sentiment-analysis``: This will analyze the sentiment of a text.\n",
    "- ``summarization``: This will generate a summary of a long text.\n",
    "- ``text-generation``: This will generate a text based on a prompt.\n",
    "- ``translation``: This will translate a text into another language.\n",
    "- ``zero-shot-classification``: This allows you to specify which labels to use for the classification, without having to fine-tune the model on your data.\n",
    "\n",
    "Let’s have a look at a few of these!"
   ],
   "id": "d007288ed8a894ca"
  },
  {
   "metadata": {},
   "cell_type": "markdown",
   "source": [
    "## Zero-shot classification\n",
    "\n",
    "We’ll start by tackling a more challenging task where we need to classify texts that haven’t been labelled. This is a common scenario in real-world projects because annotating text is usually time-consuming and requires domain expertise. For this use case, the ``zero-shot-classification`` pipeline is very powerful: it allows you to specify which labels to use for the classification, so you don’t have to rely on the labels of the pretrained model. You’ve already seen how the model can classify a sentence as positive or negative using those two labels — but it can also classify the text using any other set of labels you like."
   ],
   "id": "dc9648a8d36a784e"
  },
  {
   "metadata": {
    "ExecuteTime": {
     "end_time": "2024-12-06T10:57:26.935266Z",
     "start_time": "2024-12-06T10:57:25.880561Z"
    }
   },
   "cell_type": "code",
   "source": [
    "from transformers import pipeline\n",
    "\n",
    "classifier = pipeline(\"zero-shot-classification\")\n",
    "classifier(\n",
    "    \"This is a course about the Transformers library\",\n",
    "    candidate_labels=[\"education\", \"politics\", \"business\"],\n",
    ")"
   ],
   "id": "d858dea4ef388dd2",
   "outputs": [
    {
     "name": "stderr",
     "output_type": "stream",
     "text": [
      "No model was supplied, defaulted to facebook/bart-large-mnli and revision d7645e1 (https://huggingface.co/facebook/bart-large-mnli).\n",
      "Using a pipeline without specifying a model name and revision in production is not recommended.\n",
      "Hardware accelerator e.g. GPU is available in the environment, but no `device` argument is passed to the `Pipeline` object. Model will be on CPU.\n"
     ]
    },
    {
     "data": {
      "text/plain": [
       "{'sequence': 'This is a course about the Transformers library',\n",
       " 'labels': ['education', 'business', 'politics'],\n",
       " 'scores': [0.8445988893508911, 0.11197426915168762, 0.04342694580554962]}"
      ]
     },
     "execution_count": 3,
     "metadata": {},
     "output_type": "execute_result"
    }
   ],
   "execution_count": 3
  },
  {
   "metadata": {},
   "cell_type": "markdown",
   "source": "This pipeline is called ``zero-shot`` because you don’t need to fine-tune the model on your data to use it. It can directly return probability scores for any list of labels you want!\n",
   "id": "8f18487e77e3235"
  },
  {
   "metadata": {},
   "cell_type": "markdown",
   "source": [
    "## Text Generation\n",
    "\n",
    "Now let’s see how to use a pipeline to generate some text. The main idea here is that you provide a prompt and the model will auto-complete it by generating the remaining text. This is similar to the predictive text feature that is found on many phones. Text generation involves randomness, so it’s normal if you don’t always get the same results.\n"
   ],
   "id": "1dbddc5ee27a6de4"
  },
  {
   "metadata": {
    "ExecuteTime": {
     "end_time": "2024-12-06T10:59:21.184595Z",
     "start_time": "2024-12-06T10:59:19.603077Z"
    }
   },
   "cell_type": "code",
   "source": [
    "from transformers import pipeline\n",
    "\n",
    "generator = pipeline(\"text-generation\")\n",
    "generator(\"In this course, we will teach you how to\")"
   ],
   "id": "cffa13fb71a41ce",
   "outputs": [
    {
     "name": "stderr",
     "output_type": "stream",
     "text": [
      "No model was supplied, defaulted to openai-community/gpt2 and revision 607a30d (https://huggingface.co/openai-community/gpt2).\n",
      "Using a pipeline without specifying a model name and revision in production is not recommended.\n",
      "Hardware accelerator e.g. GPU is available in the environment, but no `device` argument is passed to the `Pipeline` object. Model will be on CPU.\n",
      "Setting `pad_token_id` to `eos_token_id`:None for open-end generation.\n"
     ]
    },
    {
     "data": {
      "text/plain": [
       "[{'generated_text': 'In this course, we will teach you how to use a combination of computer programming and SQL to create and manage user generated websites. We will provide you tips, guides, and strategies to implement all the techniques we teach you.\\n\\nCourse Structure\\n'}]"
      ]
     },
     "execution_count": 4,
     "metadata": {},
     "output_type": "execute_result"
    }
   ],
   "execution_count": 4
  },
  {
   "metadata": {},
   "cell_type": "markdown",
   "source": "You can control how many different sequences are generated with the argument ``num_return_sequences`` and the total length of the output text with the argument ``max_length``.\n",
   "id": "80a6889e49ba8c85"
  },
  {
   "metadata": {
    "ExecuteTime": {
     "end_time": "2024-12-06T11:00:04.601411Z",
     "start_time": "2024-12-06T11:00:04.254677Z"
    }
   },
   "cell_type": "code",
   "source": [
    "generator(\n",
    "    \"In this course, we will teach you how to\",\n",
    "    max_length=30,\n",
    "    num_return_sequences=2,\n",
    ")"
   ],
   "id": "397237b6f072679e",
   "outputs": [
    {
     "name": "stderr",
     "output_type": "stream",
     "text": [
      "Truncation was not explicitly activated but `max_length` is provided a specific value, please use `truncation=True` to explicitly truncate examples to max length. Defaulting to 'longest_first' truncation strategy. If you encode pairs of sequences (GLUE-style) with the tokenizer you can select this strategy more precisely by providing a specific strategy to `truncation`.\n",
      "Setting `pad_token_id` to `eos_token_id`:None for open-end generation.\n"
     ]
    },
    {
     "data": {
      "text/plain": [
       "[{'generated_text': \"In this course, we will teach you how to set up a simple web portal using jQuery:\\n\\nvar portalUrl = require ( './r\"},\n",
       " {'generated_text': 'In this course, we will teach you how to program your smartphone with iOS SDK and the iOS programming language. The first step is integrating your own app'}]"
      ]
     },
     "execution_count": 5,
     "metadata": {},
     "output_type": "execute_result"
    }
   ],
   "execution_count": 5
  },
  {
   "metadata": {},
   "cell_type": "markdown",
   "source": [
    "## Using any model from the Hub in a pipeline\n",
    "\n",
    "The previous examples used the default model for the task at hand, but you can also choose a particular model from the Hub to use in a pipeline for a specific task — say, text generation. Go to the Model Hub and click on the corresponding tag on the left to display only the supported models for that task.\n",
    "\n",
    "Let’s try the ``distilgpt2`` model! Here’s how to load it in the same pipeline as before:\n"
   ],
   "id": "f17f1a3be911a8d3"
  },
  {
   "metadata": {
    "ExecuteTime": {
     "end_time": "2024-12-06T11:00:51.318864Z",
     "start_time": "2024-12-06T11:00:50.289809Z"
    }
   },
   "cell_type": "code",
   "source": [
    "from transformers import pipeline\n",
    "\n",
    "generator = pipeline(\"text-generation\", model=\"distilgpt2\")\n",
    "generator(\n",
    "    \"In this course, we will teach you how to\",\n",
    "    max_length=30,\n",
    "    num_return_sequences=2,\n",
    ")"
   ],
   "id": "bf7d9fdfeaecd37e",
   "outputs": [
    {
     "name": "stderr",
     "output_type": "stream",
     "text": [
      "Hardware accelerator e.g. GPU is available in the environment, but no `device` argument is passed to the `Pipeline` object. Model will be on CPU.\n",
      "Truncation was not explicitly activated but `max_length` is provided a specific value, please use `truncation=True` to explicitly truncate examples to max length. Defaulting to 'longest_first' truncation strategy. If you encode pairs of sequences (GLUE-style) with the tokenizer you can select this strategy more precisely by providing a specific strategy to `truncation`.\n",
      "Setting `pad_token_id` to `eos_token_id`:None for open-end generation.\n"
     ]
    },
    {
     "data": {
      "text/plain": [
       "[{'generated_text': 'In this course, we will teach you how to learn to use the word ‴david,‴n, and to be sure‴'},\n",
       " {'generated_text': 'In this course, we will teach you how to play the game with a lot of experience and new ways to learn, and then we will guide you'}]"
      ]
     },
     "execution_count": 6,
     "metadata": {},
     "output_type": "execute_result"
    }
   ],
   "execution_count": 6
  },
  {
   "metadata": {},
   "cell_type": "markdown",
   "source": [
    "You can refine your search for a model by clicking on the language tags, and pick a model that will generate text in another language. The Model Hub even contains checkpoints for multilingual models that support several languages.\n",
    "\n",
    "Once you select a model by clicking on it, you’ll see that there is a widget enabling you to try it directly online. This way you can quickly test the model’s capabilities before downloading it.\n"
   ],
   "id": "ef4724b29b365957"
  },
  {
   "metadata": {},
   "cell_type": "markdown",
   "source": [
    "## Mask filling\n",
    "\n",
    "The next pipeline you’ll try is fill-mask. The idea of this task is to fill in the blanks in a given text:"
   ],
   "id": "e7523b28a38e77cc"
  },
  {
   "metadata": {
    "ExecuteTime": {
     "end_time": "2024-12-06T11:01:25.782177Z",
     "start_time": "2024-12-06T11:01:25.132305Z"
    }
   },
   "cell_type": "code",
   "source": [
    "from transformers import pipeline\n",
    "\n",
    "unmasker = pipeline(\"fill-mask\")\n",
    "unmasker(\"This course will teach you all about <mask> models.\", top_k=2)"
   ],
   "id": "ab7f7d31def046f",
   "outputs": [
    {
     "name": "stderr",
     "output_type": "stream",
     "text": [
      "No model was supplied, defaulted to distilbert/distilroberta-base and revision fb53ab8 (https://huggingface.co/distilbert/distilroberta-base).\n",
      "Using a pipeline without specifying a model name and revision in production is not recommended.\n",
      "Some weights of the model checkpoint at distilbert/distilroberta-base were not used when initializing RobertaForMaskedLM: ['roberta.pooler.dense.bias', 'roberta.pooler.dense.weight']\n",
      "- This IS expected if you are initializing RobertaForMaskedLM from the checkpoint of a model trained on another task or with another architecture (e.g. initializing a BertForSequenceClassification model from a BertForPreTraining model).\n",
      "- This IS NOT expected if you are initializing RobertaForMaskedLM from the checkpoint of a model that you expect to be exactly identical (initializing a BertForSequenceClassification model from a BertForSequenceClassification model).\n",
      "Hardware accelerator e.g. GPU is available in the environment, but no `device` argument is passed to the `Pipeline` object. Model will be on CPU.\n"
     ]
    },
    {
     "data": {
      "text/plain": [
       "[{'score': 0.19198483228683472,\n",
       "  'token': 30412,\n",
       "  'token_str': ' mathematical',\n",
       "  'sequence': 'This course will teach you all about mathematical models.'},\n",
       " {'score': 0.04209210351109505,\n",
       "  'token': 38163,\n",
       "  'token_str': ' computational',\n",
       "  'sequence': 'This course will teach you all about computational models.'}]"
      ]
     },
     "execution_count": 7,
     "metadata": {},
     "output_type": "execute_result"
    }
   ],
   "execution_count": 7
  },
  {
   "metadata": {},
   "cell_type": "markdown",
   "source": "The ``top_k`` argument controls how many possibilities you want to be displayed. Note that here the model fills in the special ``<mask>`` word, which is often referred to as a mask token. Other mask-filling models might have different mask tokens, so it’s always good to verify the proper mask word when exploring other models. One way to check it is by looking at the mask word used in the widget.\n",
   "id": "451462e52b221271"
  },
  {
   "metadata": {},
   "cell_type": "markdown",
   "source": [
    "## Named Entity Recognition (NER)\n",
    "\n",
    "Named entity recognition (``NER``) is a task where the model has to find which parts of the input text correspond to entities such as persons, locations, or organizations. Let’s look at an example:\n"
   ],
   "id": "837ad486e2c53182"
  },
  {
   "metadata": {
    "ExecuteTime": {
     "end_time": "2024-12-06T11:41:44.170267Z",
     "start_time": "2024-12-06T11:41:40.807395Z"
    }
   },
   "cell_type": "code",
   "source": [
    "from transformers import pipeline\n",
    "\n",
    "ner = pipeline(\"ner\", grouped_entities=True)\n",
    "ner(\"My name is Sylvain and I work at Hugging Face in Brooklyn.\")"
   ],
   "id": "1f54c0f80a329989",
   "outputs": [
    {
     "name": "stderr",
     "output_type": "stream",
     "text": [
      "No model was supplied, defaulted to dbmdz/bert-large-cased-finetuned-conll03-english and revision 4c53496 (https://huggingface.co/dbmdz/bert-large-cased-finetuned-conll03-english).\n",
      "Using a pipeline without specifying a model name and revision in production is not recommended.\n",
      "Some weights of the model checkpoint at dbmdz/bert-large-cased-finetuned-conll03-english were not used when initializing BertForTokenClassification: ['bert.pooler.dense.bias', 'bert.pooler.dense.weight']\n",
      "- This IS expected if you are initializing BertForTokenClassification from the checkpoint of a model trained on another task or with another architecture (e.g. initializing a BertForSequenceClassification model from a BertForPreTraining model).\n",
      "- This IS NOT expected if you are initializing BertForTokenClassification from the checkpoint of a model that you expect to be exactly identical (initializing a BertForSequenceClassification model from a BertForSequenceClassification model).\n",
      "Hardware accelerator e.g. GPU is available in the environment, but no `device` argument is passed to the `Pipeline` object. Model will be on CPU.\n",
      "/home/lcda/miniconda3/envs/dl_with_pytorch/lib/python3.10/site-packages/transformers/pipelines/token_classification.py:170: UserWarning: `grouped_entities` is deprecated and will be removed in version v5.0.0, defaulted to `aggregation_strategy=\"simple\"` instead.\n",
      "  warnings.warn(\n"
     ]
    },
    {
     "data": {
      "text/plain": [
       "[{'entity_group': 'PER',\n",
       "  'score': 0.9981694,\n",
       "  'word': 'Sylvain',\n",
       "  'start': 11,\n",
       "  'end': 18},\n",
       " {'entity_group': 'ORG',\n",
       "  'score': 0.9796019,\n",
       "  'word': 'Hugging Face',\n",
       "  'start': 33,\n",
       "  'end': 45},\n",
       " {'entity_group': 'LOC',\n",
       "  'score': 0.9932106,\n",
       "  'word': 'Brooklyn',\n",
       "  'start': 49,\n",
       "  'end': 57}]"
      ]
     },
     "execution_count": 1,
     "metadata": {},
     "output_type": "execute_result"
    }
   ],
   "execution_count": 1
  },
  {
   "metadata": {},
   "cell_type": "markdown",
   "source": [
    "Here the model correctly identified that ``Sylvain`` is a person (**PER**), ``Hugging Face`` an organization (**ORG**), and ``Brooklyn`` a location (**LOC**).\n",
    "\n",
    "We pass the option ``grouped_entities=True`` in the pipeline creation function to tell the pipeline to regroup together the parts of the sentence that correspond to the same entity: here the model correctly grouped “Hugging” and “Face” as a single organization, even though the name consists of multiple words.\n"
   ],
   "id": "57b48b92793af770"
  },
  {
   "metadata": {},
   "cell_type": "markdown",
   "source": [
    "## Exercises:\n",
    "\n",
    "### Create a pipeline for `question-answering`:"
   ],
   "id": "2db94e80171872a8"
  },
  {
   "metadata": {
    "ExecuteTime": {
     "end_time": "2024-12-06T11:20:14.194711Z",
     "start_time": "2024-12-06T11:19:58.246683Z"
    }
   },
   "cell_type": "code",
   "source": [
    "qestion = \"How many programming languages does Bloom support?\"\n",
    "context = \"BLOOM has 176 billion parameters and can generate text in 46 languages natural languages and 13 programming languages.\"\n",
    "\n",
    "qa = pipeline(\"question-answering\")\n",
    "qa(question=qestion, context=context)"
   ],
   "id": "f8efde5d434bb7ea",
   "outputs": [
    {
     "name": "stderr",
     "output_type": "stream",
     "text": [
      "No model was supplied, defaulted to distilbert/distilbert-base-cased-distilled-squad and revision 564e9b5 (https://huggingface.co/distilbert/distilbert-base-cased-distilled-squad).\n",
      "Using a pipeline without specifying a model name and revision in production is not recommended.\n"
     ]
    },
    {
     "data": {
      "text/plain": [
       "config.json:   0%|          | 0.00/473 [00:00<?, ?B/s]"
      ],
      "application/vnd.jupyter.widget-view+json": {
       "version_major": 2,
       "version_minor": 0,
       "model_id": "6d99b171317149ddb9adfe89321806e8"
      }
     },
     "metadata": {},
     "output_type": "display_data"
    },
    {
     "data": {
      "text/plain": [
       "model.safetensors:   0%|          | 0.00/261M [00:00<?, ?B/s]"
      ],
      "application/vnd.jupyter.widget-view+json": {
       "version_major": 2,
       "version_minor": 0,
       "model_id": "bcdd03249c7b4245b37222755e870b6d"
      }
     },
     "metadata": {},
     "output_type": "display_data"
    },
    {
     "data": {
      "text/plain": [
       "tokenizer_config.json:   0%|          | 0.00/49.0 [00:00<?, ?B/s]"
      ],
      "application/vnd.jupyter.widget-view+json": {
       "version_major": 2,
       "version_minor": 0,
       "model_id": "1869f404bbe54c99bf519ec5c980516f"
      }
     },
     "metadata": {},
     "output_type": "display_data"
    },
    {
     "data": {
      "text/plain": [
       "vocab.txt:   0%|          | 0.00/213k [00:00<?, ?B/s]"
      ],
      "application/vnd.jupyter.widget-view+json": {
       "version_major": 2,
       "version_minor": 0,
       "model_id": "8b57896661db4342aa0de66172c47e28"
      }
     },
     "metadata": {},
     "output_type": "display_data"
    },
    {
     "data": {
      "text/plain": [
       "tokenizer.json:   0%|          | 0.00/436k [00:00<?, ?B/s]"
      ],
      "application/vnd.jupyter.widget-view+json": {
       "version_major": 2,
       "version_minor": 0,
       "model_id": "055f4bcf31b94cbdbde1267184677f68"
      }
     },
     "metadata": {},
     "output_type": "display_data"
    },
    {
     "name": "stderr",
     "output_type": "stream",
     "text": [
      "Hardware accelerator e.g. GPU is available in the environment, but no `device` argument is passed to the `Pipeline` object. Model will be on CPU.\n"
     ]
    },
    {
     "data": {
      "text/plain": [
       "{'score': 0.9470309615135193, 'start': 93, 'end': 95, 'answer': '13'}"
      ]
     },
     "execution_count": 8,
     "metadata": {},
     "output_type": "execute_result"
    }
   ],
   "execution_count": 8
  },
  {
   "metadata": {},
   "cell_type": "markdown",
   "source": "### Create a pipeline for `summarization`:",
   "id": "5cfa5682150f7641"
  },
  {
   "metadata": {
    "ExecuteTime": {
     "end_time": "2024-12-06T11:32:49.597175Z",
     "start_time": "2024-12-06T11:32:48.332069Z"
    }
   },
   "cell_type": "code",
   "source": [
    "texto = \"\"\"\n",
    "João Pereira foi jogador profissional entre 2003 e 2021, atuando principalmente como lateral-direito. Ficou conhecido pela sua extrema agressividade em campo. Tendo feito a sua formação no Benfica, estreou-se pelos encarnados em 2003.\n",
    "\n",
    "José António Camacho chamou-o, tendo vindo a marcar dois golos contra o Paços de Ferreira. Na temporada de 2004–05 marcou um golo ao Beira Mar que veio a ajudar o Benfica a passar para a eliminatória seguinte da Taça de Portugal. O Estádio do Bessa ficou marcado para João Pereira, uma vez que lá se estreou tanto na Primeira Liga como na Taça UEFA.\n",
    "\n",
    "Após ser emprestado ao Gil Vicente na época 2005–06, o jogador foi adquirido em definitivo e também actuou pelos Gilistas na época 2006–07.\n",
    "\n",
    "No mercado de inverno de 2009–10, João Pereira foi contratado pelo Sporting. No verão de 2012 assinou com o Valencia por três épocas, tendo custado 3 milhões de euros.[1]\n",
    "\n",
    "No fim do mercado de inverno de 2015, em janeiro, o lateral assinou contrato com o alemão Hannover 96.[2]\n",
    "\n",
    "A 13 de julho de 2015, regressou ao clube que o catapultou para o futebol internacional, o Sporting.[3] Saiu em 2017 rumo ao futebol turco e assinou com o Trabzonspor, regressando aos Leões em 2021, onde sagrou-se campeão nacional. \"\"\"\n",
    "\n",
    "summarizer = pipeline(\"summarization\", device=\"cuda\")\n",
    "summarizer(texto)"
   ],
   "id": "b02cca962d66426b",
   "outputs": [
    {
     "name": "stderr",
     "output_type": "stream",
     "text": [
      "No model was supplied, defaulted to sshleifer/distilbart-cnn-12-6 and revision a4f8f3e (https://huggingface.co/sshleifer/distilbart-cnn-12-6).\n",
      "Using a pipeline without specifying a model name and revision in production is not recommended.\n"
     ]
    },
    {
     "data": {
      "text/plain": [
       "[{'summary_text': ' João Pereira foi part of a team that ajudged o Benfica at the Beira Mar in 2004–05 . Ficou conhecido pela sua extrema agressividade em campo . Feigned with Sporting in 2012, assinou com o Valencia por três .'}]"
      ]
     },
     "execution_count": 15,
     "metadata": {},
     "output_type": "execute_result"
    }
   ],
   "execution_count": 15
  },
  {
   "metadata": {},
   "cell_type": "markdown",
   "source": "### Create a pipeline for `translation`:",
   "id": "20e11e1ddb61a99b"
  },
  {
   "metadata": {
    "ExecuteTime": {
     "end_time": "2024-12-06T11:41:53.347605Z",
     "start_time": "2024-12-06T11:41:48.985624Z"
    }
   },
   "cell_type": "code",
   "source": [
    "text = \"My name is banana.\"\n",
    "translated = pipeline('translation_en_to_nl', model=\"vvn/en-to-dutch-marianmt\")\n",
    "translated(text)"
   ],
   "id": "cc33319c75444807",
   "outputs": [
    {
     "data": {
      "text/plain": [
       "source.spm:   0%|          | 0.00/790k [00:00<?, ?B/s]"
      ],
      "application/vnd.jupyter.widget-view+json": {
       "version_major": 2,
       "version_minor": 0,
       "model_id": "52888e5486134a679c9edf996a176176"
      }
     },
     "metadata": {},
     "output_type": "display_data"
    },
    {
     "data": {
      "text/plain": [
       "target.spm:   0%|          | 0.00/814k [00:00<?, ?B/s]"
      ],
      "application/vnd.jupyter.widget-view+json": {
       "version_major": 2,
       "version_minor": 0,
       "model_id": "907fbfb1e116475ba9c65d002f1b3420"
      }
     },
     "metadata": {},
     "output_type": "display_data"
    },
    {
     "data": {
      "text/plain": [
       "vocab.json:   0%|          | 0.00/1.79M [00:00<?, ?B/s]"
      ],
      "application/vnd.jupyter.widget-view+json": {
       "version_major": 2,
       "version_minor": 0,
       "model_id": "5d9c56d0f2e74434ad684785838e43df"
      }
     },
     "metadata": {},
     "output_type": "display_data"
    },
    {
     "data": {
      "text/plain": [
       "special_tokens_map.json:   0%|          | 0.00/65.0 [00:00<?, ?B/s]"
      ],
      "application/vnd.jupyter.widget-view+json": {
       "version_major": 2,
       "version_minor": 0,
       "model_id": "488aee524e2544a1b58633cc94a9b5ae"
      }
     },
     "metadata": {},
     "output_type": "display_data"
    },
    {
     "name": "stderr",
     "output_type": "stream",
     "text": [
      "/home/lcda/miniconda3/envs/dl_with_pytorch/lib/python3.10/site-packages/transformers/models/marian/tokenization_marian.py:175: UserWarning: Recommended: pip install sacremoses.\n",
      "  warnings.warn(\"Recommended: pip install sacremoses.\")\n",
      "Hardware accelerator e.g. GPU is available in the environment, but no `device` argument is passed to the `Pipeline` object. Model will be on CPU.\n"
     ]
    },
    {
     "data": {
      "text/plain": [
       "[{'translation_text': 'Mijn naam is banaan.'}]"
      ]
     },
     "execution_count": 2,
     "metadata": {},
     "output_type": "execute_result"
    }
   ],
   "execution_count": 2
  },
  {
   "metadata": {},
   "cell_type": "markdown",
   "source": [
    "## How do Transformers work?\n",
    "\n",
    "### A bit of Transformer history\n",
    "\n",
    "Here are some reference points in the (short) history of Transformer models:\n",
    "\n",
    "<img src=\"img/transformers.png\">\n",
    "\n",
    "The Transformer architecture was introduced in **June 2017**. The focus of the original research was on translation tasks. This was followed by the introduction of several influential models, including:\n",
    "\n",
    "- **June 2018**: ``GPT``, the first pretrained Transformer model, used for fine-tuning on various NLP tasks and obtained state-of-the-art results.\n",
    "- **October 2018**: ``BERT``, another large pretrained model, this one designed to produce better summaries of sentences (more on this in the next chapter!).\n",
    "- **February 2019**: ``GPT-2``, an improved (and bigger) version of GPT that was not immediately publicly released due to ethical concerns.\n",
    "- **October 2019**: ``DistilBERT``, a distilled version of BERT that is 60% faster, 40% lighter in memory, and still retains 97% of BERT’s performance.\n",
    "- **October 2019**: ``BART`` and ``T5``, two large pretrained models using the same architecture as the original Transformer model (the first to do so).\n",
    "- **May 2020**: ``GPT-3``, an even bigger version of GPT-2 that is able to perform well on a variety of tasks without the need for fine-tuning (called **zero-shot learning**).\n",
    "\n",
    "This list is far from comprehensive and is just meant to highlight a few of the different kinds of Transformer models. Broadly, they can be grouped into three categories:\n",
    "\n",
    "1. **GPT-like** (also called auto-regressive Transformer models)\n",
    "2. **BERT-like** (also called auto-encoding Transformer models)\n",
    "3. **BART/T5-like** (also called sequence-to-sequence Transformer models)\n",
    "\n",
    "\n"
   ],
   "id": "c5235671a70f600"
  },
  {
   "metadata": {},
   "cell_type": "markdown",
   "source": [
    "## Transformers are language models \n",
    "\n",
    "All the Transformer models mentioned above (``GPT``, ``BERT``, ``BART``, ``T5``, etc.) have been trained as **language models**. This means they have been trained on large amounts of raw text in a **self-supervised** fashion. **Self-supervised learning** is a type of training in which the objective is automatically computed from the inputs of the model. That means that humans are not needed to label the data!\n",
    "\n",
    "This type of model develops a statistical understanding of the language it has been trained on, but it’s not very useful for specific practical tasks. Because of this, the general pretrained model then goes through a process called **transfer learning**. During this process, the model is fine-tuned in a **supervised** way — that is, using human-annotated labels — on a given task.\n",
    "\n",
    "An example of a task is predicting the next word in a sentence having read the ``n`` previous words. This is called **causal language modeling** because the output depends on the past and present inputs, but not the future ones.\n",
    "\n",
    "<img src=\"img/next-word.png\">\n",
    "\n",
    "Another example is **masked language modeling**, in which the model predicts a masked word in the sentence.\n",
    "\n",
    "<img src=\"img/masked.png\">\n",
    "\n",
    "\n"
   ],
   "id": "1703b2b95164d390"
  },
  {
   "metadata": {},
   "cell_type": "markdown",
   "source": [
    "## Transformers are big models\n",
    "\n",
    "Apart from a few outliers (like `DistilBERT`), the general strategy to achieve better performance is by increasing the models’ sizes as well as the amount of data they are pretrained on.\n",
    "\n",
    "<img src=\"img/llms.png\">\n",
    "\n",
    "Unfortunately, training a model, especially a large one, requires a large amount of data. This becomes very costly in terms of time and compute resources. It even translates to environmental impact, as can be seen in the following graph.\n",
    "\n",
    "<img src=\"img/co2.png\">\n",
    "\n"
   ],
   "id": "c071867c0b39f200"
  },
  {
   "metadata": {},
   "cell_type": "markdown",
   "source": [
    "## Transfer Learning\n",
    "\n",
    "**Pretraining** is the act of training a model from scratch: the weights are randomly initialized, and the training starts without any prior knowledge.\n",
    "\n",
    "<img src=\"img/llm-training.png\">\n",
    "\n",
    "This pretraining is usually done on very large amounts of data. Therefore, it requires a very large corpus of data, and training can take up to several weeks.\n",
    "\n",
    "**Fine-tuning**, on the other hand, is the training done after a model has been pretrained. To perform fine-tuning, you first acquire a pretrained language model, then perform additional training with a dataset specific to your task. Wait — why not simply train the model for your final use case from scratch? There are a couple of reasons:\n",
    "\n",
    "1. The pretrained model was already trained on a dataset that has some similarities with the fine-tuning dataset. The fine-tuning process is thus able to take advantage of knowledge acquired by the initial model during pretraining (for instance, with NLP problems, the pretrained model will have some kind of statistical understanding of the language you are using for your task).\n",
    "\n",
    "2. Since the pretrained model was already trained on lots of data, the fine-tuning requires way less data to get decent results.\n",
    "\n",
    "3. For the same reason, the amount of time and resources needed to get good results are much lower.\n",
    "\n",
    "For example, one could leverage a pretrained model trained on the English language and then fine-tune it on an ``arXiv`` corpus, resulting in a science/research-based model. The fine-tuning will only require a limited amount of data: the knowledge the pretrained model has acquired is “transferred,” hence the term **transfer learning**.\n",
    "\n",
    "<img src=\"img/fine-tuning.png\">\n",
    "\n",
    "Fine-tuning a model therefore has lower **time**, **data**, **financial**, and **environmental** costs. It is also quicker and easier to iterate over different fine-tuning schemes, as the training is less constraining than a full pretraining.\n",
    "\n",
    "This process will also achieve better results than training from scratch (unless you have lots of data), which is why you should always try to leverage a **pretrained model** — one as close as possible to the task you have at hand — and fine-tune it.\n",
    "\n",
    "\n",
    "\n"
   ],
   "id": "a65f9db67a32e9e3"
  },
  {
   "metadata": {},
   "cell_type": "markdown",
   "source": [
    "## General Architecture of a Transformer model\n",
    "\n",
    "The model is primarily composed of two blocks:\n",
    "\n",
    "- **Encoder** (left): The encoder receives an input and builds a representation of it (its features). This means that the model is optimized to acquire understanding from the input.\n",
    "\n",
    "- **Decoder** (right): The decoder uses the encoder’s representation (features) along with other inputs to generate a target sequence. This means that the model is optimized for generating outputs.\n",
    "\n",
    "<img src=\"img/general-architecture.png\">\n",
    "\n",
    "Each of these parts can be used independently, depending on the task:\n",
    "\n",
    "- **Encoder-only models**: Good for tasks that require understanding of the input, such as sentence classification and named entity recognition.\n",
    "\n",
    "- **Decoder-only models**: Good for generative tasks such as text generation.\n",
    "\n",
    "- **Encoder-decoder models** or **sequence-to-sequence models**: Good for generative tasks that require an input, such as translation or summarization.\n",
    "\n",
    "\n",
    "\n"
   ],
   "id": "e98d63c7fc6b3e66"
  },
  {
   "metadata": {},
   "cell_type": "markdown",
   "source": [
    "## Attention layers\n",
    "\n",
    "A key feature of **Transformer models** is that they are built with special layers called **attention layers**. In fact, the title of the paper introducing the Transformer architecture was *“Attention Is All You Need”*! In a nutshell, attention layers will tell the model to pay specific attention to certain words in the sentence you passed it (and more or less ignore the others) when dealing with the representation of each word.\n",
    "\n",
    "To put this into context, consider the task of translating text from English to French. Given the input *“You like this course”*, a translation model will need to also attend to the adjacent word *“You”* to get the proper translation for the word *“like”*, because in French the verb *“like”* is conjugated differently depending on the subject. The rest of the sentence, however, is not useful for the translation of that word. In the same vein, when translating *“this”*, the model will also need to pay attention to the word *“course”*, because *“this”* translates differently depending on whether the associated noun is masculine or feminine. Again, the other words in the sentence will not matter for the translation of *“course”*. With more complex sentences (and more complex grammar rules), the model would need to pay special attention to words that might appear farther away in the sentence to properly translate each word.\n",
    "\n",
    "The same concept applies to any task associated with **natural language**: a word by itself has a meaning, but that meaning is deeply affected by the context, which can be any other word (or words) before or after the word being studied.\n",
    "\n",
    "Now that you have an idea of what **attention layers** are all about, let’s take a closer look at the **Transformer architecture**.\n"
   ],
   "id": "d0f724022b49862e"
  },
  {
   "metadata": {},
   "cell_type": "markdown",
   "source": [
    "## The original architecture\n",
    "\n",
    "The **Transformer architecture** was originally designed for translation. During training, the **encoder** receives inputs (sentences) in a certain language, while the **decoder** receives the same sentences in the desired target language. In the encoder, the attention layers can use all the words in a sentence (since, as we just saw, the translation of a given word can depend on what comes after as well as what comes before it in the sentence). The decoder, however, works sequentially and can only pay attention to the words in the sentence that it has already translated (i.e., only the words before the word currently being generated). For example, when we have predicted the first three words of the translated target, we give them to the decoder, which then uses all the inputs from the encoder to try to predict the fourth word.\n",
    "\n",
    "To speed things up during training (when the model has access to target sentences), the decoder is fed the whole target, but it is not allowed to use future words. If it had access to the word at position 2 when trying to predict the word at position 2, the problem would not be very hard! For instance, when trying to predict the fourth word, the attention layer will only have access to the words in positions 1 to 3.\n",
    "\n",
    "The original **Transformer architecture** looked like this, with the encoder on the left and the decoder on the right:\n",
    "\n",
    "<img src=\"img/original_transformer.png\">\n",
    "\n",
    "Note that the **first attention layer** in a decoder block pays attention to all (past) inputs to the decoder, while the **second attention layer** uses the output of the encoder. This allows the decoder to access the entire input sentence to best predict the current word. This is especially useful because different languages often have grammatical rules that rearrange word order, or context provided later in a sentence may influence the translation of a particular word.\n",
    "\n",
    "An **attention mask** can also be used in the encoder/decoder to prevent the model from focusing on certain special tokens — for example, the **padding tokens** that are added to standardize the length of inputs when batching sentences together.\n"
   ],
   "id": "d8fa773111430194"
  },
  {
   "metadata": {},
   "cell_type": "markdown",
   "source": [
    "## Encoder Models\n",
    "\n",
    "### Encoder Models\n",
    "\n",
    "Encoder models use only the **encoder** of a Transformer model. At each stage, the attention layers can access **all the words** in the initial sentence, making them suitable for tasks that require an understanding of the full input. These models are often characterized as having **bi-directional** attention, meaning they process text from both directions (left-to-right and right-to-left). This is why they are also called **auto-encoding models**.\n",
    "\n",
    "The **pretraining** of these models typically involves **corrupting** a given sentence (e.g., by masking random words) and then tasking the model with **reconstructing** the original sentence. This self-supervised approach helps the model acquire a broad understanding of language.\n",
    "\n",
    "### Best-Suited Tasks:\n",
    "- Sentence classification\n",
    "- Named entity recognition (NER)\n",
    "- Word classification\n",
    "- Extractive question answering\n",
    "\n",
    "### Representative Models:\n",
    "- **ALBERT**\n",
    "- **BERT**\n",
    "- **DistilBERT**\n",
    "- **ELECTRA**\n",
    "- **RoBERTa**\n",
    "\n",
    "<img src=\"img/bert.png\">\n"
   ],
   "id": "cb5603a6d6ab7862"
  },
  {
   "metadata": {},
   "cell_type": "markdown",
   "source": [
    "## Decoder Models\n",
    "\n",
    "### Decoder Models\n",
    "\n",
    "Decoder models use only the **decoder** of a Transformer model. At each stage, for a given word, the attention layers can only access the words positioned **before** it in the sentence. This makes them suitable for tasks where predicting the next word is necessary. These models are often called **auto-regressive models**.\n",
    "\n",
    "The **pretraining** of decoder models typically involves **predicting the next word** in a sentence, which helps the model learn language generation.\n",
    "\n",
    "### Best-Suited Tasks:\n",
    "- Text generation\n",
    "- Language modeling\n",
    "\n",
    "### Representative Models:\n",
    "- **CTRL**\n",
    "- **GPT**\n",
    "- **GPT-2**\n",
    "- **Transformer XL**\n",
    "\n",
    "<img src=\"img/gpt_arch.png\">\n"
   ],
   "id": "1a76588969bcf5e0"
  },
  {
   "metadata": {},
   "cell_type": "markdown",
   "source": [
    "## Sequence-to-sequence models (Encoder-Decoder models)\n",
    "\n",
    "### Encoder-Decoder Models (Sequence-to-Sequence Models)\n",
    "\n",
    "Encoder-decoder models, also known as **sequence-to-sequence models**, use both parts of the Transformer architecture. \n",
    "\n",
    "- **Encoder**: At each stage, the attention layers can access all the words in the initial sentence.\n",
    "- **Decoder**: The attention layers can only access the words positioned before a given word in the input.\n",
    "\n",
    "The **pretraining** of these models can involve the objectives of either encoder or decoder models, but it often includes more complex objectives. For instance, **T5** is pretrained by replacing random spans of text (which can contain several words) with a single **mask** word, and the model's objective is to predict the text that the mask replaces.\n",
    "\n",
    "### Best-Suited Tasks:\n",
    "- Summarization\n",
    "- Translation\n",
    "- Generative question answering\n",
    "\n",
    "### Representative Models:\n",
    "- **BART**\n",
    "- **mBART**\n",
    "- **Marian**\n",
    "- **T5**\n",
    "\n",
    "<img src=\"img/all_arch.png\">\n"
   ],
   "id": "b76124a0d4e9be01"
  },
  {
   "metadata": {},
   "cell_type": "markdown",
   "source": [
    "## Bias and Limitations\n",
    "\n",
    "### Limitations of Pretrained Models in Production\n",
    "\n",
    "While pretrained models or their fine-tuned versions can be powerful tools for various tasks, it's important to be aware of their limitations, especially when using them in production.\n",
    "\n",
    "The **biggest limitation** arises from the nature of pretraining. To enable pretraining on large datasets, researchers often scrape vast amounts of data from the internet. This means that the model might be exposed to **both high-quality and low-quality content**. As a result, some models may unintentionally learn biases, inaccuracies, or undesirable patterns from the internet's vast and unfiltered content.\n"
   ],
   "id": "d1893a92b0bc06"
  },
  {
   "metadata": {},
   "cell_type": "markdown",
   "source": [
    "#### Example: Fill-Mask Pipeline with BERT\n",
    "\n",
    "Consider a **fill-mask** pipeline using BERT. When tasked with filling in a masked word, the model might sometimes produce results based on content it learned during pretraining, which could be biased or inappropriate, especially if the dataset includes noisy or problematic sources."
   ],
   "id": "f8e2880918ae0cdf"
  },
  {
   "metadata": {
    "ExecuteTime": {
     "end_time": "2024-12-06T11:54:11.981063Z",
     "start_time": "2024-12-06T11:54:10.876792Z"
    }
   },
   "cell_type": "code",
   "source": [
    "from transformers import pipeline\n",
    "\n",
    "unmasker = pipeline(\"fill-mask\", model=\"bert-base-uncased\")\n",
    "result = unmasker(\"This man works as a [MASK].\")\n",
    "print([r[\"token_str\"] for r in result])\n",
    "\n",
    "result = unmasker(\"This woman works as a [MASK].\")\n",
    "print([r[\"token_str\"] for r in result])"
   ],
   "id": "792bc6df9e8dd481",
   "outputs": [
    {
     "name": "stderr",
     "output_type": "stream",
     "text": [
      "BertForMaskedLM has generative capabilities, as `prepare_inputs_for_generation` is explicitly overwritten. However, it doesn't directly inherit from `GenerationMixin`. From 👉v4.50👈 onwards, `PreTrainedModel` will NOT inherit from `GenerationMixin`, and this model will lose the ability to call `generate` and other related functions.\n",
      "  - If you're using `trust_remote_code=True`, you can get rid of this warning by loading the model with an auto class. See https://huggingface.co/docs/transformers/en/model_doc/auto#auto-classes\n",
      "  - If you are the owner of the model architecture code, please modify your model class such that it inherits from `GenerationMixin` (after `PreTrainedModel`, otherwise you'll get an exception).\n",
      "  - If you are not the owner of the model architecture class, please contact the model code owner to update it.\n",
      "Some weights of the model checkpoint at bert-base-uncased were not used when initializing BertForMaskedLM: ['bert.pooler.dense.bias', 'bert.pooler.dense.weight', 'cls.seq_relationship.bias', 'cls.seq_relationship.weight']\n",
      "- This IS expected if you are initializing BertForMaskedLM from the checkpoint of a model trained on another task or with another architecture (e.g. initializing a BertForSequenceClassification model from a BertForPreTraining model).\n",
      "- This IS NOT expected if you are initializing BertForMaskedLM from the checkpoint of a model that you expect to be exactly identical (initializing a BertForSequenceClassification model from a BertForSequenceClassification model).\n",
      "Hardware accelerator e.g. GPU is available in the environment, but no `device` argument is passed to the `Pipeline` object. Model will be on CPU.\n"
     ]
    },
    {
     "name": "stdout",
     "output_type": "stream",
     "text": [
      "['carpenter', 'lawyer', 'farmer', 'businessman', 'doctor']\n",
      "['nurse', 'maid', 'teacher', 'waitress', 'prostitute']\n"
     ]
    }
   ],
   "execution_count": 3
  },
  {
   "metadata": {},
   "cell_type": "markdown",
   "source": [
    "### Gender Bias in Pretrained Models\n",
    "\n",
    "When tasked with filling in missing words, the BERT model (trained on neutral datasets like English Wikipedia and BookCorpus) might still produce biased results. For instance, when asked to fill in the missing word in the sentence \"The woman went to work as a [MASK],\" the model might generate terms associated with a specific gender, such as \"waitress\" or even \"prostitute,\" which are occupations often linked to one gender. \n",
    "\n",
    "In some cases, it may offer a more gender-neutral response like \"waiter/waitress,\" but this doesn't solve the deeper issue. Despite BERT being trained on seemingly neutral datasets, it still inherits biases from the data it was trained on. \n",
    "\n",
    "This illustrates that pretrained models can inadvertently generate **sexist, racist, or homophobic content**, even when their training data is carefully selected. Fine-tuning the model on your specific data does not necessarily eliminate these intrinsic biases.\n",
    "\n",
    "### Takeaway\n",
    "When using pretrained models, always be aware that the model might generate biased or harmful content, and ensure to evaluate and mitigate these risks before deploying them in production.\n"
   ],
   "id": "829204eb9124ab1b"
  },
  {
   "metadata": {},
   "cell_type": "markdown",
   "source": [
    "## Summary\n",
    "\n",
    "### Summary of Transformer Models and Their Use Cases\n",
    "\n",
    "We explored the following topics:\n",
    "\n",
    "- **Using the `pipeline()` function** from 🤗 Transformers for various NLP tasks.\n",
    "- **Searching for and using models** from the Hugging Face Model Hub.\n",
    "\n",
    "We also discussed the core architecture of Transformer models, highlighting the importance of **transfer learning** and **fine-tuning**. Depending on the task you need to solve, you can use either the full architecture or only the encoder or decoder. Here's a summary of these different approaches:\n",
    "\n",
    "| **Model Type**              | **Description**                                                                                       | **Typical Use Cases**                                                                   |\n",
    "|-----------------------------|-------------------------------------------------------------------------------------------------------|-----------------------------------------------------------------------------------------| \n",
    "| **Encoder-only models**     | Use only the encoder of the Transformer model. Understands input sentences.                           | Sentence classification, named entity recognition (NER), extractive question answering. | \n",
    "| **Decoder-only models**     | Use only the decoder. Focus on generating text from prior context.                                    | Text generation, autoregressive tasks (e.g., GPT, GPT-2).                               | \n",
    "| **Encoder-decoder models**  | Use both encoder and decoder. Suitable for tasks that involve both understanding and generating text. | Translation, summarization, generative question answering (e.g., T5, BART).             |\n",
    "\n",
    "### Key Takeaways:\n",
    "- **Transfer learning**: Pretraining on a large dataset and then fine-tuning on a task-specific dataset allows models to learn more efficiently.\n",
    "- **Encoder vs. Decoder**: Choose based on whether the task involves understanding input (encoder) or generating output (decoder).\n",
    "- **Fine-tuning**: Adapt pretrained models to your specific needs with relatively small amounts of task-specific data.\n",
    "\n",
    "By leveraging these models effectively, you can solve a wide range of NLP problems using state-of-the-art performance.\n"
   ],
   "id": "b392677575a76aca"
  },
  {
   "metadata": {},
   "cell_type": "markdown",
   "source": [
    "# Quiz\n",
    "\n",
    "### 1. Explore the Hub and look for the roberta-large-mnli checkpoint. What task does it perform?\n",
    "\n",
    "<ol type=\"a\">\n",
    "  <li>Summarization</li>\n",
    "  <li>Text Classification</li>\n",
    "  <li>Text Generation</li>\n",
    "</ol>"
   ],
   "id": "315227262c781fcb"
  },
  {
   "metadata": {},
   "cell_type": "markdown",
   "source": [
    "### 2. What will the following code return?\n",
    "\n",
    "```python\n",
    "from transformers import pipeline\n",
    "\n",
    "ner = pipeline(\"ner\", grouped_entities=True)\n",
    "ner(\"My name is Sylvain and I work at Hugging Face in Brooklyn.\")\n",
    "```\n",
    "\n",
    "<ol type=\"a\">\n",
    "  <li>It will return classification scores for this sentence, with labels \"positive\" or \"negative\".</li>\n",
    "  <li> It will return a generated text completing this sentence.</li>\n",
    "  <li>It will return the words representing persons, organizations or locations.</li>\n",
    "</ol>\n",
    "\n"
   ],
   "id": "a111e561b431bf91"
  },
  {
   "metadata": {},
   "cell_type": "markdown",
   "source": [
    "### 3. What should replace \"…\" in this code sample?\n",
    "\n",
    "```python\n",
    "from transformers import pipeline\n",
    "\n",
    "filler = pipeline(\"fill-mask\", model=\"bert-base-cased\")\n",
    "result = filler(\"...\")\n",
    "```\n",
    "\n",
    "<ol type=\"a\">\n",
    "  <li> This <mask> has been waiting for you.</li>\n",
    "  <li>This [MASK] has been waiting for you.</li>\n",
    "  <li>This man has been waiting for you.</li>\n",
    "</ol>"
   ],
   "id": "3ffdd1c5e49f6baf"
  },
  {
   "metadata": {},
   "cell_type": "markdown",
   "source": [
    "### 4. Why will this code fail?\n",
    "\n",
    "```python\n",
    "from transformers import pipeline\n",
    "\n",
    "classifier = pipeline(\"zero-shot-classification\")\n",
    "result = classifier(\"This is a course about the Transformers library\")\n",
    "```\n",
    "\n",
    "<ol type=\"a\">\n",
    "  <li>This pipeline requires that labels be given to classify this text.</li>\n",
    "  <li>This pipeline requires several sentences, not just one.</li>\n",
    "  <li>The 🤗 Transformers library is broken, as usual.</li>\n",
    "  <li> This pipeline requires longer inputs; this one is too short.</li>\n",
    "</ol>"
   ],
   "id": "a0fbc23b1f5ff281"
  },
  {
   "metadata": {},
   "cell_type": "markdown",
   "source": [
    "### 5. What does “transfer learning” mean?\n",
    "\n",
    "<ol type=\"a\">\n",
    "  <li>Transferring the knowledge of a pretrained model to a new model by training it on the same dataset.</li>\n",
    "  <li>Transferring the knowledge of a pretrained model to a new model by initializing the second model with the first model's weights.</li>\n",
    "  <li>Transferring the knowledge of a pretrained model to a new model by building the second model with the same architecture as the first model.</li>\n",
    "</ol>\n"
   ],
   "id": "d369c64dc25ef1be"
  },
  {
   "metadata": {},
   "cell_type": "markdown",
   "source": [
    "### 6. True or false? A language model usually does not need labels for its pretraining.\n",
    "\n",
    "<ol type=\"a\">\n",
    "  <li>True</li>\n",
    "  <li>False</li>\n",
    "</ol>\n"
   ],
   "id": "6be84106ee32dc2a"
  },
  {
   "metadata": {},
   "cell_type": "markdown",
   "source": [
    "### 7. Which of these types of models would you use for completing prompts with generated text?\n",
    "\n",
    "<ol type=\"a\">\n",
    "  <li>An encoder model</li>\n",
    "  <li>A decoder model</li>\n",
    "  <li>a sequence-to-sequence model</li>\n",
    "</ol>"
   ],
   "id": "5333a3f7867af6f1"
  },
  {
   "metadata": {},
   "cell_type": "markdown",
   "source": [
    "### 8.  Which of those types of models would you use for summarizing texts?\n",
    "\n",
    "<ol type=\"a\">\n",
    "  <li>An encoder model</li>\n",
    "  <li>A decoder model</li>\n",
    "  <li>a sequence-to-sequence model</li>\n",
    "</ol>"
   ],
   "id": "adc568669aa807b6"
  },
  {
   "metadata": {},
   "cell_type": "markdown",
   "source": [
    "### 9.  Which of these types of models would you use for classifying text inputs according to certain labels?\n",
    "\n",
    "<ol type=\"a\">\n",
    "  <li>An encoder model</li>\n",
    "  <li>A decoder model</li>\n",
    "  <li>a sequence-to-sequence model</li>\n",
    "</ol>"
   ],
   "id": "ea84d70e63274113"
  },
  {
   "metadata": {},
   "cell_type": "markdown",
   "source": [
    "### 10. What possible source can the bias observed in a model have?\n",
    "\n",
    "<ol type=\"a\">\n",
    "  <li>The model is a fine-tuned version of a pretrained model and it picked up its bias from it.</li>\n",
    "  <li>The data the model was trained on is biased.</li>\n",
    "  <li>The metric the model was optimizing for is biased.</li>\n",
    "  <li>All of the above.</li>\n",
    "</ol>"
   ],
   "id": "a2c523fe6dbc3e5e"
  },
  {
   "metadata": {
    "ExecuteTime": {
     "end_time": "2024-12-05T13:14:03.959300Z",
     "start_time": "2024-12-05T13:14:03.957503Z"
    }
   },
   "cell_type": "code",
   "source": "",
   "id": "bb48e106baaf9250",
   "outputs": [],
   "execution_count": null
  }
 ],
 "metadata": {
  "kernelspec": {
   "display_name": "Python 3",
   "language": "python",
   "name": "python3"
  },
  "language_info": {
   "codemirror_mode": {
    "name": "ipython",
    "version": 2
   },
   "file_extension": ".py",
   "mimetype": "text/x-python",
   "name": "python",
   "nbconvert_exporter": "python",
   "pygments_lexer": "ipython2",
   "version": "2.7.6"
  }
 },
 "nbformat": 4,
 "nbformat_minor": 5
}

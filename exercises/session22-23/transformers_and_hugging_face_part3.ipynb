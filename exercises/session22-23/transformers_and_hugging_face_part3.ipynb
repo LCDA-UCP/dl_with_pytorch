{
 "cells": [
  {
   "metadata": {},
   "cell_type": "markdown",
   "source": [
    "# Introduction\n",
    "\n",
    "In Part 2, we explored how to use tokenizers and pretrained models to make predictions. But what if you want to fine-tune a pretrained model for your own dataset? That’s the topic of this part! You will learn:\n",
    "\n",
    "- How to prepare a large dataset from the Hub\n",
    "- How to use the high-level Trainer API to fine-tune a model\n",
    "- How to use a custom training loop\n",
    "- How to leverage the 🤗 Accelerate library to easily run that custom training loop on any distributed setup\n",
    "\n",
    "In order to upload your trained checkpoints to the Hugging Face Hub, you will need a huggingface.co account: [create an account](https://huggingface.co/join).\n"
   ],
   "id": "595bbe5f0b8e3e38"
  },
  {
   "metadata": {},
   "cell_type": "markdown",
   "source": [
    "# Processing the data\n",
    "\n",
    "Continuing with the example from the previous part, here is how we would train a sequence classifier on one batch in PyTorch:"
   ],
   "id": "5611fcf780daa277"
  },
  {
   "metadata": {},
   "cell_type": "code",
   "outputs": [],
   "execution_count": null,
   "source": [
    "import torch\n",
    "from transformers import AdamW, AutoTokenizer, AutoModelForSequenceClassification\n",
    "\n",
    "# Same as before\n",
    "checkpoint = \"bert-base-uncased\"\n",
    "tokenizer = AutoTokenizer.from_pretrained(checkpoint)\n",
    "model = AutoModelForSequenceClassification.from_pretrained(checkpoint)\n",
    "sequences = [\n",
    "    \"I've been waiting for a HuggingFace course my whole life.\",\n",
    "    \"This course is amazing!\",\n",
    "]\n",
    "batch = tokenizer(sequences, padding=True, truncation=True, return_tensors=\"pt\")\n",
    "\n",
    "# This is new\n",
    "batch[\"labels\"] = torch.tensor([1, 1])\n",
    "\n",
    "optimizer = AdamW(model.parameters())\n",
    "loss = model(**batch).loss\n",
    "loss.backward()\n",
    "optimizer.step()"
   ],
   "id": "d644f278b5f22ec0"
  },
  {
   "metadata": {},
   "cell_type": "markdown",
   "source": [
    "Of course, just training the model on two sentences is not going to yield very good results. To get better results, you will need to prepare a bigger dataset.\n",
    "\n",
    "In this section, we will use as an example the **MRPC (Microsoft Research Paraphrase Corpus)** dataset, introduced in a paper by William B. Dolan and Chris Brockett. The dataset consists of 5,801 pairs of sentences, with a label indicating if they are paraphrases or not (i.e., if both sentences mean the same thing). We’ve selected it for this chapter because it’s a small dataset, so it’s easy to experiment with training on it.\n"
   ],
   "id": "55f56df2a4eacf"
  },
  {
   "metadata": {},
   "cell_type": "markdown",
   "source": [
    "## Loading a dataset from the Hub\n",
    "\n",
    "The Hub doesn’t just contain models; it also has multiple datasets in lots of different languages. You can browse the datasets [here](https://huggingface.co/datasets), and we recommend you try to load and process a new dataset once you have gone through this section (see the general documentation [here](https://huggingface.co/docs/datasets/loading)). But for now, let’s focus on the MRPC dataset! This is one of the 10 datasets composing the **GLUE** benchmark, which is an academic benchmark that is used to measure the performance of ML models across 10 different text classification tasks.\n",
    "\n",
    "The 🤗 Datasets library provides a very simple command to download and cache a dataset on the Hub. \n",
    "\n",
    "We can install the library with pip:\n",
    "```bash\n",
    "pip install datasets\n",
    "```\n",
    "\n",
    "We can download the MRPC dataset like this:\n"
   ],
   "id": "f4681a5f2419772c"
  },
  {
   "metadata": {},
   "cell_type": "code",
   "outputs": [],
   "execution_count": null,
   "source": [
    "from datasets import load_dataset\n",
    "\n",
    "raw_datasets = load_dataset(\"glue\", \"mrpc\")\n",
    "raw_datasets"
   ],
   "id": "bc3ef83272a5308a"
  },
  {
   "metadata": {},
   "cell_type": "markdown",
   "source": [
    "```python\n",
    "DatasetDict({\n",
    "    train: Dataset({\n",
    "        features: ['sentence1', 'sentence2', 'label', 'idx'],\n",
    "        num_rows: 3668\n",
    "    })\n",
    "    validation: Dataset({\n",
    "        features: ['sentence1', 'sentence2', 'label', 'idx'],\n",
    "        num_rows: 408\n",
    "    })\n",
    "    test: Dataset({\n",
    "        features: ['sentence1', 'sentence2', 'label', 'idx'],\n",
    "        num_rows: 1725\n",
    "    })\n",
    "})\n",
    "```"
   ],
   "id": "af20eac18781996e"
  },
  {
   "metadata": {},
   "cell_type": "markdown",
   "source": [
    "As you can see, we get a `DatasetDict` object which contains the training set, the validation set, and the test set. Each of those contains several columns (`sentence1`, `sentence2`, `label`, and `idx`) and a variable number of rows, which are the number of elements in each set (so, there are 3,668 pairs of sentences in the training set, 408 in the validation set, and 1,725 in the test set).\n",
    "\n",
    "This command downloads and caches the dataset, by default in `~/.cache/huggingface/datasets`.\n",
    "\n",
    "We can access each pair of sentences in our `raw_datasets` object by indexing, like with a dictionary:\n"
   ],
   "id": "63147d2464d3f627"
  },
  {
   "metadata": {},
   "cell_type": "code",
   "outputs": [],
   "execution_count": null,
   "source": [
    "raw_train_dataset = raw_datasets[\"train\"]\n",
    "raw_train_dataset[0]"
   ],
   "id": "3baaea3fd2f961e0"
  },
  {
   "metadata": {},
   "cell_type": "markdown",
   "source": [
    "```python\n",
    "{'idx': 0,\n",
    " 'label': 1,\n",
    " 'sentence1': 'Amrozi accused his brother , whom he called \" the witness \" , of deliberately distorting his evidence .',\n",
    " 'sentence2': 'Referring to him as only \" the witness \" , Amrozi accused his brother of deliberately distorting his evidence .'}\n",
    "```"
   ],
   "id": "4f38fb7a315ae6ee"
  },
  {
   "metadata": {},
   "cell_type": "markdown",
   "source": [
    "We can see the labels are already integers, so we won’t have to do any preprocessing there. To know which integer corresponds to which label, we can inspect the features of our `raw_train_dataset`. This will tell us the type of each column:\n"
   ],
   "id": "a8372b0ffa9a1bd"
  },
  {
   "metadata": {},
   "cell_type": "code",
   "outputs": [],
   "execution_count": null,
   "source": [
    "raw_train_dataset.features"
   ],
   "id": "2167dba59c9d319d"
  },
  {
   "metadata": {},
   "cell_type": "markdown",
   "source": [
    "```python\n",
    "{'sentence1': Value(dtype='string', id=None),\n",
    " 'sentence2': Value(dtype='string', id=None),\n",
    " 'label': ClassLabel(num_classes=2, names=['not_equivalent', 'equivalent'], names_file=None, id=None),\n",
    " 'idx': Value(dtype='int32', id=None)}\n",
    "```"
   ],
   "id": "576d6c79c0467a92"
  },
  {
   "metadata": {},
   "cell_type": "markdown",
   "source": [
    "Behind the scenes, `label` is of type `ClassLabel`, and the mapping of integers to label names is stored in the `names` folder. `0` corresponds to `not_equivalent`, and `1` corresponds to `equivalent`."
   ],
   "id": "bf9edf50e41e9b8f"
  },
  {
   "metadata": {},
   "cell_type": "markdown",
   "source": [
    "To preprocess the dataset, we need to convert the text to numbers the model can make sense of. As you saw in the previous chapter, this is done with a tokenizer. We can feed the tokenizer one sentence or a list of sentences, so we can directly tokenize all the first sentences and all the second sentences of each pair like this:\n"
   ],
   "id": "22a730169fc01d8"
  },
  {
   "metadata": {},
   "cell_type": "code",
   "outputs": [],
   "execution_count": null,
   "source": [
    "from transformers import AutoTokenizer\n",
    "\n",
    "checkpoint = \"bert-base-uncased\"\n",
    "tokenizer = AutoTokenizer.from_pretrained(checkpoint)\n",
    "tokenized_sentences_1 = tokenizer(raw_datasets[\"train\"][\"sentence1\"])\n",
    "tokenized_sentences_2 = tokenizer(raw_datasets[\"train\"][\"sentence2\"])"
   ],
   "id": "5f0cecdc4cc8612c"
  },
  {
   "metadata": {},
   "cell_type": "markdown",
   "source": [
    "However, we can’t just pass two sequences to the model and get a prediction of whether the two sentences are paraphrases or not. We need to handle the two sequences as a pair, and apply the appropriate preprocessing. Fortunately, the tokenizer can also take a pair of sequences and prepare it the way our BERT model expects:\n"
   ],
   "id": "94655e5a66450d77"
  },
  {
   "metadata": {},
   "cell_type": "code",
   "outputs": [],
   "execution_count": null,
   "source": [
    "inputs = tokenizer(\"This is the first sentence.\", \"This is the second one.\")\n",
    "inputs"
   ],
   "id": "78db4d20ec732d41"
  },
  {
   "metadata": {},
   "cell_type": "markdown",
   "source": [
    "```python\n",
    "{ \n",
    "  'input_ids': [101, 2023, 2003, 1996, 2034, 6251, 1012, 102, 2023, 2003, 1996, 2117, 2028, 1012, 102],\n",
    "  'token_type_ids': [0, 0, 0, 0, 0, 0, 0, 0, 1, 1, 1, 1, 1, 1, 1],\n",
    "  'attention_mask': [1, 1, 1, 1, 1, 1, 1, 1, 1, 1, 1, 1, 1, 1, 1]\n",
    "}\n",
    "```"
   ],
   "id": "6be9d32b7e8b6059"
  },
  {
   "metadata": {},
   "cell_type": "markdown",
   "source": [
    "We discussed the `input_ids` and `attention_mask` keys in Part 2, but we put off talking about `token_type_ids`. In this example, this is what tells the model which part of the input is the first sentence and which is the second sentence."
   ],
   "id": "a7b76b5ddf4f96fd"
  },
  {
   "metadata": {},
   "cell_type": "markdown",
   "source": [
    "If we decode the IDs inside input_ids back to words:"
   ],
   "id": "4d320cc6d8196ecb"
  },
  {
   "metadata": {},
   "cell_type": "code",
   "outputs": [],
   "execution_count": null,
   "source": [
    "tokenizer.convert_ids_to_tokens(inputs[\"input_ids\"])"
   ],
   "id": "9227c32405c6470a"
  },
  {
   "metadata": {},
   "cell_type": "markdown",
   "source": [
    "We will get:\n",
    "```python\n",
    "['[CLS]', 'this', 'is', 'the', 'first', 'sentence', '.', '[SEP]', 'this', 'is', 'the', 'second', 'one', '.', '[SEP]']\n",
    "```"
   ],
   "id": "a8fec5f47f1771e2"
  },
  {
   "metadata": {},
   "cell_type": "markdown",
   "source": [
    "So we see the model expects the inputs to be of the form `[CLS] sentence1 [SEP] sentence2 [SEP]` when there are two sentences. Aligning this with the `token_type_ids` gives us:\n",
    "\n",
    "```python\n",
    "['[CLS]', 'this', 'is', 'the', 'first', 'sentence', '.', '[SEP]', 'this', 'is', 'the', 'second', 'one', '.', '[SEP]']\n",
    "[      0,      0,    0,     0,       0,          0,   0,       0,      1,    1,     1,        1,     1,   1,       1]\n",
    "```"
   ],
   "id": "b41584e9cfe65906"
  },
  {
   "metadata": {},
   "cell_type": "markdown",
   "source": [
    "As you can see, the parts of the input corresponding to `[CLS] sentence1 [SEP]` all have a token type ID of 0, while the other parts, corresponding to `sentence2 [SEP]`, all have a token type ID of 1.\n",
    "\n",
    "Note that if you select a different checkpoint, you won’t necessarily have the `token_type_ids` in your tokenized inputs (for instance, they’re not returned if you use a DistilBERT model). They are only returned when the model will know what to do with them, because it has seen them during its pretraining.\n",
    "\n",
    "Here, BERT is pretrained with token type IDs, and on top of the masked language modeling objective we talked about in Part 1, it has an additional objective called next sentence prediction. The goal with this task is to model the relationship between pairs of sentences.\n",
    "\n",
    "With next sentence prediction, the model is provided pairs of sentences (with randomly masked tokens) and asked to predict whether the second sentence follows the first. To make the task non-trivial, half of the time the sentences follow each other in the original document they were extracted from, and the other half of the time the two sentences come from two different documents.\n",
    "\n",
    "In general, you don’t need to worry about whether or not there are `token_type_ids` in your tokenized inputs: as long as you use the same checkpoint for the tokenizer and the model, everything will be fine as the tokenizer knows what to provide to its model.\n",
    "\n",
    "Now that we have seen how our tokenizer can deal with one pair of sentences, we can use it to tokenize our whole dataset: like in the previous part, we can feed the tokenizer a list of pairs of sentences by giving it the list of first sentences, then the list of second sentences. This is also compatible with the padding and truncation options we saw in Part 2. So, one way to preprocess the training dataset is:\n"
   ],
   "id": "80626f202e62e1f5"
  },
  {
   "metadata": {},
   "cell_type": "code",
   "outputs": [],
   "execution_count": null,
   "source": [
    "tokenized_dataset = tokenizer(\n",
    "    raw_datasets[\"train\"][\"sentence1\"],\n",
    "    raw_datasets[\"train\"][\"sentence2\"],\n",
    "    padding=True,\n",
    "    truncation=True,\n",
    ")"
   ],
   "id": "385a1c7fb68b64ff"
  },
  {
   "metadata": {},
   "cell_type": "markdown",
   "source": [
    "This works well, but it has the disadvantage of returning a dictionary (with our keys, `input_ids`, `attention_mask`, and `token_type_ids`, and values that are lists of lists). It will also only work if you have enough RAM to store your whole dataset during the tokenization (whereas the datasets from the 🤗 Datasets library are [Apache Arrow](https://arrow.apache.org/) files stored on the disk, so you only keep the samples you ask for loaded in memory).\n",
    "\n",
    "To keep the data as a dataset, we will use the `Dataset.map()` method. This also allows us some extra flexibility, if we need more preprocessing done than just tokenization. The `map()` method works by applying a function on each element of the dataset, so let’s define a function that tokenizes our inputs:\n"
   ],
   "id": "51cf7b65f33353a2"
  },
  {
   "metadata": {},
   "cell_type": "code",
   "outputs": [],
   "execution_count": null,
   "source": [
    "def tokenize_function(example):\n",
    "    return tokenizer(example[\"sentence1\"], example[\"sentence2\"], truncation=True)"
   ],
   "id": "efede0e92aacdaea"
  },
  {
   "metadata": {},
   "cell_type": "markdown",
   "source": [
    "This function takes a dictionary (like the items of our dataset) and returns a new dictionary with the keys `input_ids`, `attention_mask`, and `token_type_ids`. Note that it also works if the example dictionary contains several samples (each key as a list of sentences) since the tokenizer works on lists of pairs of sentences, as seen before. This will allow us to use the option `batched=True` in our call to `map()`, which will greatly speed up the tokenization. The tokenizer is backed by a tokenizer written in Rust from the 🤗 [Tokenizers library](https://github.com/huggingface/tokenizers). This tokenizer can be very fast, but only if we give it lots of inputs at once.\n",
    "\n",
    "Note that we’ve left the `padding` argument out in our tokenization function for now. This is because padding all the samples to the maximum length is not efficient: it’s better to pad the samples when we’re building a batch, as then we only need to pad to the maximum length in that batch, and not the maximum length in the entire dataset. This can save a lot of time and processing power when the inputs have very variable lengths!\n",
    "\n",
    "Here is how we apply the tokenization function on all our datasets at once. We’re using `batched=True` in our call to `map` so the function is applied to multiple elements of our dataset at once, and not on each element separately. This allows for faster preprocessing.\n"
   ],
   "id": "89e7a1e9ca73e01"
  },
  {
   "metadata": {},
   "cell_type": "code",
   "outputs": [],
   "execution_count": null,
   "source": [
    "tokenized_datasets = raw_datasets.map(tokenize_function, batched=True)\n",
    "tokenized_datasets"
   ],
   "id": "778ba0dc377de363"
  },
  {
   "metadata": {},
   "cell_type": "markdown",
   "source": [
    "The way the 🤗 Datasets library applies this processing is by adding new fields to the datasets, one for each key in the dictionary returned by the preprocessing function:"
   ],
   "id": "f08b57ab7858ca7a"
  },
  {
   "metadata": {},
   "cell_type": "markdown",
   "source": [
    "```python\n",
    "DatasetDict({\n",
    "    train: Dataset({\n",
    "        features: ['attention_mask', 'idx', 'input_ids', 'label', 'sentence1', 'sentence2', 'token_type_ids'],\n",
    "        num_rows: 3668\n",
    "    })\n",
    "    validation: Dataset({\n",
    "        features: ['attention_mask', 'idx', 'input_ids', 'label', 'sentence1', 'sentence2', 'token_type_ids'],\n",
    "        num_rows: 408\n",
    "    })\n",
    "    test: Dataset({\n",
    "        features: ['attention_mask', 'idx', 'input_ids', 'label', 'sentence1', 'sentence2', 'token_type_ids'],\n",
    "        num_rows: 1725\n",
    "    })\n",
    "})\n",
    "```"
   ],
   "id": "7e240433244d9d60"
  },
  {
   "metadata": {},
   "cell_type": "markdown",
   "source": [
    "You can even use multiprocessing when applying your preprocessing function with `map()` by passing along a `num_proc` argument. We didn’t do this here because the 🤗 Tokenizers library already uses multiple threads to tokenize our samples faster, but if you are not using a fast tokenizer backed by this library, this could speed up your preprocessing.\n",
    "\n",
    "Our `tokenize_function` returns a dictionary with the keys `input_ids`, `attention_mask`, and `token_type_ids`, so those three fields are added to all splits of our dataset. Note that we could also have changed existing fields if our preprocessing function returned a new value for an existing key in the dataset to which we applied `map()`.\n",
    "\n",
    "The last thing we will need to do is pad all the examples to the length of the longest element when we batch elements together — a technique we refer to as **dynamic padding**.\n"
   ],
   "id": "8970a7046ca331da"
  },
  {
   "metadata": {},
   "cell_type": "markdown",
   "source": [
    "### Dynamic padding\n",
    "\n",
    "The function that is responsible for putting together samples inside a batch is called a **collate function**. It’s an argument you can pass when you build a `DataLoader`, the default being a function that will just convert your samples to PyTorch tensors and concatenate them (recursively if your elements are lists, tuples, or dictionaries). This won’t be possible in our case since the inputs we have won’t all be of the same size. We have deliberately postponed the padding, to only apply it as necessary on each batch and avoid having over-long inputs with a lot of padding. This will speed up training by quite a bit, but note that if you’re training on a TPU it can cause problems — TPUs prefer fixed shapes, even when that requires extra padding.\n",
    "\n",
    "To do this in practice, we have to define a collate function that will apply the correct amount of padding to the items of the dataset we want to batch together. Fortunately, the 🤗 Transformers library provides us with such a function via `DataCollatorWithPadding`. It takes a tokenizer when you instantiate it (to know which padding token to use, and whether the model expects padding to be on the left or on the right of the inputs) and will do everything you need:\n"
   ],
   "id": "eb9368477275779a"
  },
  {
   "metadata": {},
   "cell_type": "code",
   "outputs": [],
   "execution_count": null,
   "source": [
    "from transformers import DataCollatorWithPadding\n",
    "\n",
    "data_collator = DataCollatorWithPadding(tokenizer=tokenizer)"
   ],
   "id": "a3e671ba251c5d24"
  },
  {
   "metadata": {},
   "cell_type": "markdown",
   "source": [
    "To test this new toy, let’s grab a few samples from our training set that we would like to batch together. Here, we remove the columns `idx`, `sentence1`, and `sentence2` as they won’t be needed and contain strings (and we can’t create tensors with strings) and have a look at the lengths of each entry in the batch:\n"
   ],
   "id": "683e21e64291dbe7"
  },
  {
   "metadata": {},
   "cell_type": "code",
   "outputs": [],
   "execution_count": null,
   "source": [
    "samples = tokenized_datasets[\"train\"][:8]\n",
    "samples = {k: v for k, v in samples.items() if k not in [\"idx\", \"sentence1\", \"sentence2\"]}\n",
    "[len(x) for x in samples[\"input_ids\"]]"
   ],
   "id": "e492e579b4976e94"
  },
  {
   "metadata": {},
   "cell_type": "markdown",
   "source": [
    "```python\n",
    "[50, 59, 47, 67, 59, 50, 62, 32]\n",
    "```"
   ],
   "id": "5f32a3bcbba7328d"
  },
  {
   "metadata": {},
   "cell_type": "markdown",
   "source": [
    "No surprise, we get samples of varying length, from 32 to 67. Dynamic padding means the samples in this batch should all be padded to a length of 67, the maximum length inside the batch. Without dynamic padding, all of the samples would have to be padded to the maximum length in the whole dataset, or the maximum length the model can accept. Let’s double-check that our `data_collator` is dynamically padding the batch properly:\n"
   ],
   "id": "d47062f7467650da"
  },
  {
   "metadata": {},
   "cell_type": "code",
   "outputs": [],
   "execution_count": null,
   "source": [
    "batch = data_collator(samples)\n",
    "{k: v.shape for k, v in batch.items()}"
   ],
   "id": "f16585987ab717b1"
  },
  {
   "metadata": {},
   "cell_type": "markdown",
   "source": [
    "```python\n",
    "{'attention_mask': torch.Size([8, 67]),\n",
    " 'input_ids': torch.Size([8, 67]),\n",
    " 'token_type_ids': torch.Size([8, 67]),\n",
    " 'labels': torch.Size([8])}\n",
    "\n",
    "```"
   ],
   "id": "46aa371cf78b4ce8"
  },
  {
   "metadata": {},
   "cell_type": "markdown",
   "source": [
    "Looking good! Now that we’ve gone from raw text to batches our model can deal with, we’re ready to fine-tune it!"
   ],
   "id": "2114bd647d6a38a8"
  },
  {
   "metadata": {},
   "cell_type": "markdown",
   "source": [
    "# Fine-tuning a model with the Trainer API\n",
    "\n",
    "🤗 Transformers provides a `Trainer` class to help you fine-tune any of the pretrained models it provides on your dataset. Once you’ve done all the data preprocessing work in the last section, you have just a few steps left to define the `Trainer`.\n",
    "\n",
    "The code examples below assume you have already executed the examples in the previous section. Here is a short summary recapping what you need:\n"
   ],
   "id": "5d1c79fc5d152134"
  },
  {
   "metadata": {},
   "cell_type": "code",
   "outputs": [],
   "execution_count": null,
   "source": [
    "from datasets import load_dataset\n",
    "from transformers import AutoTokenizer, DataCollatorWithPadding\n",
    "\n",
    "raw_datasets = load_dataset(\"glue\", \"mrpc\")\n",
    "checkpoint = \"bert-base-uncased\"\n",
    "tokenizer = AutoTokenizer.from_pretrained(checkpoint)\n",
    "\n",
    "\n",
    "def tokenize_function(example):\n",
    "    return tokenizer(example[\"sentence1\"], example[\"sentence2\"], truncation=True)\n",
    "\n",
    "\n",
    "tokenized_datasets = raw_datasets.map(tokenize_function, batched=True)\n",
    "data_collator = DataCollatorWithPadding(tokenizer=tokenizer)"
   ],
   "id": "f507b0f8e820e754"
  },
  {
   "metadata": {},
   "cell_type": "markdown",
   "source": [
    "## Training\n",
    "\n",
    "The first step before we can define our `Trainer` is to define a `TrainingArguments` class that will contain all the hyperparameters the `Trainer` will use for training and evaluation. The only argument you have to provide is a directory where the trained model will be saved, as well as the checkpoints along the way. For all the rest, you can leave the defaults, which should work pretty well for a basic fine-tuning.\n"
   ],
   "id": "26dd06204860e0a8"
  },
  {
   "metadata": {},
   "cell_type": "code",
   "outputs": [],
   "execution_count": null,
   "source": [
    "from transformers import TrainingArguments\n",
    "\n",
    "training_args = TrainingArguments(\"test-trainer\")"
   ],
   "id": "7600824e29e706c0"
  },
  {
   "metadata": {},
   "cell_type": "markdown",
   "source": [
    "The second step is to define our model. We will use the `AutoModelForSequenceClassification` class, with two labels:"
   ],
   "id": "d7adbbfc5335e72a"
  },
  {
   "metadata": {},
   "cell_type": "code",
   "outputs": [],
   "execution_count": null,
   "source": [
    "from transformers import AutoModelForSequenceClassification\n",
    "\n",
    "model = AutoModelForSequenceClassification.from_pretrained(checkpoint, num_labels=2)"
   ],
   "id": "1b42cba5f3d8c2e"
  },
  {
   "metadata": {},
   "cell_type": "markdown",
   "source": [
    "You will notice that unlike in [Part 2](transformers_and_hugging_face_part2.ipynb), you get a warning after instantiating this pretrained model. This is because BERT has not been pretrained on classifying pairs of sentences, so the head of the pretrained model has been discarded and a new head suitable for sequence classification has been added instead. The warnings indicate that some weights were not used (the ones corresponding to the dropped pretraining head) and that some others were randomly initialized (the ones for the new head). It concludes by encouraging you to train the model, which is exactly what we are going to do now.\n",
    "\n",
    "Once we have our model, we can define a `Trainer` by passing it all the objects constructed up to now — the model, the `training_args`, the training and validation datasets, our `data_collator`, and our tokenizer:\n"
   ],
   "id": "d80d3e5df04df37"
  },
  {
   "metadata": {},
   "cell_type": "code",
   "outputs": [],
   "execution_count": null,
   "source": [
    "from transformers import Trainer\n",
    "\n",
    "trainer = Trainer(\n",
    "    model,\n",
    "    training_args,\n",
    "    train_dataset=tokenized_datasets[\"train\"],\n",
    "    eval_dataset=tokenized_datasets[\"validation\"],\n",
    "    data_collator=data_collator,\n",
    "    tokenizer=tokenizer,\n",
    ")"
   ],
   "id": "e107984cc436b857"
  },
  {
   "metadata": {},
   "cell_type": "markdown",
   "source": [
    "Note that when you pass the tokenizer as we did here, the default `data_collator` used by the `Trainer` will be a `DataCollatorWithPadding` as defined previously, so you can skip the line `data_collator=data_collator` in this call. It was still important to show you this part of the processing!\n",
    "\n",
    "To fine-tune the model on our dataset, we just have to call the `train()` method of our `Trainer`:\n"
   ],
   "id": "6cf6ea85b20d549a"
  },
  {
   "metadata": {},
   "cell_type": "code",
   "outputs": [],
   "execution_count": null,
   "source": [
    "trainer.train()"
   ],
   "id": "6e78a8338c80180a"
  },
  {
   "metadata": {},
   "cell_type": "markdown",
   "source": [
    "This will start the fine-tuning (which should take a couple of minutes on a GPU) and report the training loss every 500 steps. It won’t, however, tell you how well (or badly) your model is performing. This is because:\n",
    "\n",
    "- We didn’t tell the Trainer to evaluate during training by setting `evaluation_strategy` to either \"steps\" (evaluate every `eval_steps`) or \"epoch\" (evaluate at the end of each epoch).\n",
    "- We didn’t provide the Trainer with a `compute_metrics()` function to calculate a metric during said evaluation (otherwise the evaluation would just have printed the loss, which is not a very intuitive number).\n"
   ],
   "id": "ae4210443faedddc"
  },
  {
   "metadata": {},
   "cell_type": "markdown",
   "source": [
    "### Evaluation\n",
    "\n",
    "Let’s see how we can build a useful `compute_metrics()` function and use it the next time we train. The function must take an `EvalPrediction` object (which is a named tuple with a `predictions` field and a `label_ids` field) and will return a dictionary mapping strings to floats (the strings being the names of the metrics returned, and the floats their values). To get some predictions from our model, we can use the `Trainer.predict()` command:\n"
   ],
   "id": "102486c8c3c01daf"
  },
  {
   "metadata": {},
   "cell_type": "code",
   "outputs": [],
   "execution_count": null,
   "source": [
    "predictions = trainer.predict(tokenized_datasets[\"validation\"])\n",
    "print(predictions.predictions.shape, predictions.label_ids.shape)"
   ],
   "id": "9586b7dab7bbe054"
  },
  {
   "metadata": {},
   "cell_type": "markdown",
   "source": [
    "```python\n",
    "(408, 2) (408,)\n",
    "```"
   ],
   "id": "fe3b25af1ce3748d"
  },
  {
   "metadata": {},
   "cell_type": "markdown",
   "source": [
    "The output of the `predict()` method is another named tuple with three fields: `predictions`, `label_ids`, and `metrics`. The `metrics` field will just contain the loss on the dataset passed, as well as some time metrics (how long it took to predict, in total and on average). Once we complete our `compute_metrics()` function and pass it to the `Trainer`, that field will also contain the metrics returned by `compute_metrics()`.\n",
    "\n",
    "As you can see, `predictions` is a two-dimensional array with shape `408 x 2` (408 being the number of elements in the dataset we used). Those are the logits for each element of the dataset we passed to `predict()` (as you saw in the previous chapter, all Transformer models return logits). To transform them into predictions that we can compare to our labels, we need to take the index with the maximum value on the second axis:\n"
   ],
   "id": "736e15165a484faa"
  },
  {
   "metadata": {},
   "cell_type": "code",
   "outputs": [],
   "execution_count": null,
   "source": [
    "import numpy as np\n",
    "\n",
    "preds = np.argmax(predictions.predictions, axis=-1)"
   ],
   "id": "a14a46f13c35f55b"
  },
  {
   "metadata": {},
   "cell_type": "markdown",
   "source": [
    "We can now compare those `preds` to the labels. To build our `compute_metrics()` function, we will rely on the metrics from the 🤗 [Evaluate library](https://github.com/huggingface/evaluate/). \n",
    "\n",
    "We can install the library with pip:\n",
    "```bash\n",
    "pip install evaluate\n",
    "```\n",
    "\n",
    "We can load the metrics associated with the MRPC dataset as easily as we loaded the dataset, this time with the `evaluate.load()` function. The object returned has a `compute()` method we can use to do the metric calculation:\n"
   ],
   "id": "255963c1260d9c0f"
  },
  {
   "metadata": {},
   "cell_type": "code",
   "outputs": [],
   "execution_count": null,
   "source": [
    "import evaluate\n",
    "\n",
    "metric = evaluate.load(\"glue\", \"mrpc\")\n",
    "metric.compute(predictions=preds, references=predictions.label_ids)"
   ],
   "id": "5b7ad72a45a4b276"
  },
  {
   "metadata": {},
   "cell_type": "markdown",
   "source": [
    "```python\n",
    "{'accuracy': 0.8578431372549019, 'f1': 0.8996539792387542}\n",
    "```"
   ],
   "id": "3990d2d85df49acb"
  },
  {
   "metadata": {},
   "cell_type": "markdown",
   "source": [
    "The exact results you get may vary, as the random initialization of the model head might change the metrics it achieved. Here, we can see our model has an accuracy of 85.78% on the validation set and an F1 score of 89.97. Those are the two metrics used to evaluate results on the MRPC dataset for the GLUE benchmark. The table in the BERT paper reported an F1 score of 88.9 for the base model. That was the uncased model, while we are currently using the cased model, which explains the better result.\n",
    "\n",
    "Wrapping everything together, we get our `compute_metrics()` function:\n"
   ],
   "id": "f77d8925d1e638a7"
  },
  {
   "metadata": {},
   "cell_type": "code",
   "outputs": [],
   "execution_count": null,
   "source": [
    "def compute_metrics(eval_preds):\n",
    "    metric = evaluate.load(\"glue\", \"mrpc\")\n",
    "    logits, labels = eval_preds\n",
    "    predictions = np.argmax(logits, axis=-1)\n",
    "    return metric.compute(predictions=predictions, references=labels)"
   ],
   "id": "922413d12e527f81"
  },
  {
   "metadata": {},
   "cell_type": "markdown",
   "source": [
    "And to see it used in action to report metrics at the end of each epoch, here is how we define a new Trainer with this `compute_metrics()` function:"
   ],
   "id": "181d092d4b2787d1"
  },
  {
   "metadata": {},
   "cell_type": "code",
   "outputs": [],
   "execution_count": null,
   "source": [
    "training_args = TrainingArguments(\"test-trainer\", evaluation_strategy=\"epoch\")\n",
    "model = AutoModelForSequenceClassification.from_pretrained(checkpoint, num_labels=2)\n",
    "\n",
    "trainer = Trainer(\n",
    "    model,\n",
    "    training_args,\n",
    "    train_dataset=tokenized_datasets[\"train\"],\n",
    "    eval_dataset=tokenized_datasets[\"validation\"],\n",
    "    data_collator=data_collator,\n",
    "    tokenizer=tokenizer,\n",
    "    compute_metrics=compute_metrics,\n",
    ")"
   ],
   "id": "998e0646cb4e451b"
  },
  {
   "metadata": {},
   "cell_type": "markdown",
   "source": [
    "Note that we create a new `TrainingArguments` with its `evaluation_strategy` set to `\"epoch\"` and a new model — otherwise, we would just be continuing the training of the model we have already trained. To launch a new training run, we execute:\n"
   ],
   "id": "b7f7768052dd7c6d"
  },
  {
   "metadata": {},
   "cell_type": "code",
   "outputs": [],
   "execution_count": null,
   "source": [
    "trainer.train()"
   ],
   "id": "69eb40e67682d85c"
  },
  {
   "metadata": {},
   "cell_type": "markdown",
   "source": [
    "This time, it will report the validation loss and metrics at the end of each epoch on top of the training loss. Again, the exact accuracy/F1 score you reach might be a bit different from what we found, because of the random head initialization of the model, but it should be in the same ballpark."
   ],
   "id": "5001ab88acf6ed6b"
  },
  {
   "metadata": {},
   "cell_type": "markdown",
   "source": [
    "# A full training\n",
    "\n",
    "Now we’ll see how to achieve the same results as we did in the last section without using the Trainer class. Again, we assume you have done the data processing in section 2. Here is a short summary covering everything you will need:\n"
   ],
   "id": "9fdca70f82fe7b60"
  },
  {
   "metadata": {},
   "cell_type": "code",
   "outputs": [],
   "execution_count": null,
   "source": [
    "from datasets import load_dataset\n",
    "from transformers import AutoTokenizer, DataCollatorWithPadding\n",
    "\n",
    "raw_datasets = load_dataset(\"glue\", \"mrpc\")\n",
    "checkpoint = \"bert-base-uncased\"\n",
    "tokenizer = AutoTokenizer.from_pretrained(checkpoint)\n",
    "\n",
    "\n",
    "def tokenize_function(example):\n",
    "    return tokenizer(example[\"sentence1\"], example[\"sentence2\"], truncation=True)\n",
    "\n",
    "\n",
    "tokenized_datasets = raw_datasets.map(tokenize_function, batched=True)\n",
    "data_collator = DataCollatorWithPadding(tokenizer=tokenizer)"
   ],
   "id": "a32772d988d8a6b9"
  },
  {
   "metadata": {},
   "cell_type": "markdown",
   "source": [
    "## Prepare for training\n",
    "\n",
    "Before actually writing our training loop, we will need to define a few objects. The first ones are the dataloaders we will use to iterate over batches. But before we can define those dataloaders, we need to apply a bit of postprocessing to our tokenized_datasets, to take care of some things that the Trainer did for us automatically. Specifically, we need to:\n",
    "\n",
    "- Remove the columns corresponding to values the model does not expect (like the sentence1 and sentence2 columns).\n",
    "- Rename the column `label` to `labels` (because the model expects the argument to be named `labels`).\n",
    "- Set the format of the datasets so they return PyTorch tensors instead of lists.\n",
    "\n",
    "Our `tokenized_datasets` has one method for each of those steps:\n"
   ],
   "id": "60b6650dc2954478"
  },
  {
   "metadata": {},
   "cell_type": "code",
   "outputs": [],
   "execution_count": null,
   "source": [
    "tokenized_datasets = tokenized_datasets.remove_columns([\"sentence1\", \"sentence2\", \"idx\"])\n",
    "tokenized_datasets = tokenized_datasets.rename_column(\"label\", \"labels\")\n",
    "tokenized_datasets.set_format(\"torch\")\n",
    "tokenized_datasets[\"train\"].column_names"
   ],
   "id": "72351987356c000b"
  },
  {
   "metadata": {},
   "cell_type": "markdown",
   "source": [
    "We can then check that the result only has columns that our model will accept:\n",
    "```python\n",
    "['attention_mask', 'input_ids', 'labels', 'token_type_ids']\n",
    "```"
   ],
   "id": "dde4f831f6148b6a"
  },
  {
   "metadata": {},
   "cell_type": "markdown",
   "source": [
    "Now that this is done, we can easily define our dataloaders:"
   ],
   "id": "747489a91d9db4b3"
  },
  {
   "metadata": {},
   "cell_type": "code",
   "outputs": [],
   "execution_count": null,
   "source": [
    "from torch.utils.data import DataLoader\n",
    "\n",
    "train_dataloader = DataLoader(\n",
    "    tokenized_datasets[\"train\"], shuffle=True, batch_size=8, collate_fn=data_collator\n",
    ")\n",
    "eval_dataloader = DataLoader(\n",
    "    tokenized_datasets[\"validation\"], batch_size=8, collate_fn=data_collator\n",
    ")"
   ],
   "id": "814d284e32127ad5"
  },
  {
   "metadata": {},
   "cell_type": "markdown",
   "source": [
    "To quickly check there is no mistake in the data processing, we can inspect a batch like this:"
   ],
   "id": "6bb51aeef3b2b97a"
  },
  {
   "metadata": {},
   "cell_type": "code",
   "outputs": [],
   "execution_count": null,
   "source": [
    "for batch in train_dataloader:\n",
    "    break\n",
    "{k: v.shape for k, v in batch.items()}"
   ],
   "id": "4bef7fece0dd895b"
  },
  {
   "metadata": {},
   "cell_type": "markdown",
   "source": [
    "```python\n",
    "{'attention_mask': torch.Size([8, 65]),\n",
    " 'input_ids': torch.Size([8, 65]),\n",
    " 'labels': torch.Size([8]),\n",
    " 'token_type_ids': torch.Size([8, 65])}\n",
    "```"
   ],
   "id": "87d8cd3f29134340"
  },
  {
   "metadata": {},
   "cell_type": "markdown",
   "source": [
    "Note that the actual shapes will probably be slightly different for you since we set `shuffle=True` for the training dataloader and we are padding to the maximum length inside the batch.\n",
    "\n",
    "Now that we’re completely finished with data preprocessing (a satisfying yet elusive goal for any ML practitioner), let’s turn to the model. We instantiate it exactly as we did in the previous section:\n"
   ],
   "id": "cad73ecfcdcd1710"
  },
  {
   "metadata": {},
   "cell_type": "code",
   "outputs": [],
   "execution_count": null,
   "source": [
    "from transformers import AutoModelForSequenceClassification\n",
    "\n",
    "model = AutoModelForSequenceClassification.from_pretrained(checkpoint, num_labels=2)"
   ],
   "id": "bf32d11363deb6c4"
  },
  {
   "metadata": {},
   "cell_type": "markdown",
   "source": [
    "To make sure that everything will go smoothly during training, we pass our batch to this model:"
   ],
   "id": "5e3cc406ec163554"
  },
  {
   "metadata": {},
   "cell_type": "code",
   "outputs": [],
   "execution_count": null,
   "source": [
    "outputs = model(**batch)\n",
    "print(outputs.loss, outputs.logits.shape)"
   ],
   "id": "a474411eb9f814e0"
  },
  {
   "metadata": {},
   "cell_type": "markdown",
   "source": [
    "```python\n",
    "tensor(0.5441, grad_fn=<NllLossBackward>) torch.Size([8, 2])\n",
    "```"
   ],
   "id": "c788541ac0ffb292"
  },
  {
   "metadata": {},
   "cell_type": "markdown",
   "source": [
    "All 🤗 Transformers models will return the loss when labels are provided, and we also get the logits (two for each input in our batch, so a tensor of size `8 x 2`).\n",
    "\n",
    "We’re almost ready to write our training loop! We’re just missing two things: an optimizer and a learning rate scheduler. Since we are trying to replicate what the Trainer was doing by hand, we will use the same defaults. The optimizer used by the Trainer is AdamW, which is the same as Adam, but with a twist for weight decay regularization:"
   ],
   "id": "cc44181a61d9506a"
  },
  {
   "metadata": {},
   "cell_type": "code",
   "outputs": [],
   "execution_count": null,
   "source": [
    "from transformers import AdamW\n",
    "\n",
    "optimizer = AdamW(model.parameters(), lr=5e-5)"
   ],
   "id": "f0f5f3c43abdeab"
  },
  {
   "metadata": {},
   "cell_type": "markdown",
   "source": [
    "Finally, the learning rate scheduler used by default is just a linear decay from the maximum value (`5e-5`) to `0`. To properly define it, we need to know the number of training steps we will take, which is the number of epochs we want to run multiplied by the number of training batches (which is the length of our training dataloader). The Trainer uses three epochs by default, so we will follow that:\n",
    "\n"
   ],
   "id": "fa69add0015108d9"
  },
  {
   "metadata": {},
   "cell_type": "code",
   "outputs": [],
   "execution_count": null,
   "source": [
    "from transformers import get_scheduler\n",
    "\n",
    "num_epochs = 3\n",
    "num_training_steps = num_epochs * len(train_dataloader)\n",
    "lr_scheduler = get_scheduler(\n",
    "    \"linear\",\n",
    "    optimizer=optimizer,\n",
    "    num_warmup_steps=0,\n",
    "    num_training_steps=num_training_steps,\n",
    ")\n",
    "print(num_training_steps)"
   ],
   "id": "11edf0aa29d938f8"
  },
  {
   "metadata": {},
   "cell_type": "markdown",
   "source": [
    "```python\n",
    "1377\n",
    "```"
   ],
   "id": "8f32c842aa8fec97"
  },
  {
   "metadata": {},
   "cell_type": "markdown",
   "source": [
    "### The training loop\n",
    "\n",
    "One last thing: we will want to use the GPU if we have access to one (on a CPU, training might take several hours instead of a couple of minutes). To do this, we define a device we will put our model and our batches on:"
   ],
   "id": "f173492da366d007"
  },
  {
   "metadata": {},
   "cell_type": "code",
   "outputs": [],
   "execution_count": null,
   "source": [
    "import torch\n",
    "\n",
    "device = torch.device(\"cuda\") if torch.cuda.is_available() else torch.device(\"cpu\")\n",
    "model.to(device)\n",
    "device"
   ],
   "id": "f89ccde1f33b7396"
  },
  {
   "metadata": {},
   "cell_type": "markdown",
   "source": [
    "```python\n",
    "device(type='cuda')\n",
    "```"
   ],
   "id": "9ac3c0050a70d06d"
  },
  {
   "metadata": {},
   "cell_type": "markdown",
   "source": [
    "We are now ready to train! To get some sense of when training will be finished, we add a progress bar over our number of training steps, using the tqdm library:"
   ],
   "id": "1841ff263f3fe7c9"
  },
  {
   "metadata": {},
   "cell_type": "code",
   "outputs": [],
   "execution_count": null,
   "source": [
    "from tqdm.auto import tqdm\n",
    "\n",
    "progress_bar = tqdm(range(num_training_steps))\n",
    "\n",
    "model.train()\n",
    "for epoch in range(num_epochs):\n",
    "    for batch in train_dataloader:\n",
    "        batch = {k: v.to(device) for k, v in batch.items()}\n",
    "        outputs = model(**batch)\n",
    "        loss = outputs.loss\n",
    "        loss.backward()\n",
    "\n",
    "        optimizer.step()\n",
    "        lr_scheduler.step()\n",
    "        optimizer.zero_grad()\n",
    "        progress_bar.update(1)"
   ],
   "id": "c036e3438ce18ff5"
  },
  {
   "metadata": {},
   "cell_type": "markdown",
   "source": [
    "You can see that the core of the training loop looks a lot like the one in the introduction. We didn’t ask for any reporting, so this training loop will not tell us anything about how the model fares. We need to add an evaluation loop for that.\n"
   ],
   "id": "6974622cf25d0b8e"
  },
  {
   "metadata": {},
   "cell_type": "markdown",
   "source": [
    "### The evaluation loop\n",
    "\n",
    "As we did earlier, we will use a metric provided by the 🤗 Evaluate library. We’ve already seen the `metric.compute()` method, but metrics can actually accumulate batches for us as we go over the prediction loop with the method `add_batch()`. Once we have accumulated all the batches, we can get the final result with `metric.compute()`. Here’s how to implement all of this in an evaluation loop:"
   ],
   "id": "7007a6873277877f"
  },
  {
   "metadata": {},
   "cell_type": "code",
   "outputs": [],
   "execution_count": null,
   "source": [
    "import evaluate\n",
    "\n",
    "metric = evaluate.load(\"glue\", \"mrpc\")\n",
    "model.eval()\n",
    "for batch in eval_dataloader:\n",
    "    batch = {k: v.to(device) for k, v in batch.items()}\n",
    "    with torch.no_grad():\n",
    "        outputs = model(**batch)\n",
    "\n",
    "    logits = outputs.logits\n",
    "    predictions = torch.argmax(logits, dim=-1)\n",
    "    metric.add_batch(predictions=predictions, references=batch[\"labels\"])\n",
    "\n",
    "metric.compute()"
   ],
   "id": "a188964384cf5106"
  },
  {
   "metadata": {},
   "cell_type": "markdown",
   "source": [
    "```python\n",
    "{'accuracy': 0.8431372549019608, 'f1': 0.8907849829351535}\n",
    "```"
   ],
   "id": "6710e28951cf4379"
  },
  {
   "metadata": {},
   "cell_type": "markdown",
   "source": [
    "Again, your results will be slightly different because of the randomness in the model head initialization and the data shuffling, but they should be in the same ballpark.\n"
   ],
   "id": "420a018918d46ae9"
  },
  {
   "metadata": {},
   "cell_type": "markdown",
   "source": [
    "## Supercharge your training loop with 🤗 Accelerate\n",
    "\n",
    "The training loop we defined earlier works fine on a single CPU or GPU. But using the 🤗 [Accelerate library](https://github.com/huggingface/accelerate), with just a few adjustments we can enable distributed training on multiple GPUs or TPUs. \n",
    "\n",
    "We can install the library with pip:\n",
    "```bash\n",
    "pip install accelerate\n",
    "```\n",
    "\n",
    "Starting from the creation of the training and validation dataloaders, here is what our manual training loop looks like:"
   ],
   "id": "57b35037d60a097d"
  },
  {
   "metadata": {},
   "cell_type": "code",
   "outputs": [],
   "execution_count": null,
   "source": [
    "from transformers import AdamW, AutoModelForSequenceClassification, get_scheduler\n",
    "\n",
    "model = AutoModelForSequenceClassification.from_pretrained(checkpoint, num_labels=2)\n",
    "optimizer = AdamW(model.parameters(), lr=3e-5)\n",
    "\n",
    "device = torch.device(\"cuda\") if torch.cuda.is_available() else torch.device(\"cpu\")\n",
    "model.to(device)\n",
    "\n",
    "num_epochs = 3\n",
    "num_training_steps = num_epochs * len(train_dataloader)\n",
    "lr_scheduler = get_scheduler(\n",
    "    \"linear\",\n",
    "    optimizer=optimizer,\n",
    "    num_warmup_steps=0,\n",
    "    num_training_steps=num_training_steps,\n",
    ")\n",
    "\n",
    "progress_bar = tqdm(range(num_training_steps))\n",
    "\n",
    "model.train()\n",
    "for epoch in range(num_epochs):\n",
    "    for batch in train_dataloader:\n",
    "        batch = {k: v.to(device) for k, v in batch.items()}\n",
    "        outputs = model(**batch)\n",
    "        loss = outputs.loss\n",
    "        loss.backward()\n",
    "\n",
    "        optimizer.step()\n",
    "        lr_scheduler.step()\n",
    "        optimizer.zero_grad()\n",
    "        progress_bar.update(1)"
   ],
   "id": "1405c84fd484a62c"
  },
  {
   "metadata": {},
   "cell_type": "markdown",
   "source": [
    "And here are the changes:"
   ],
   "id": "5e881fa22576dc4f"
  },
  {
   "metadata": {},
   "cell_type": "markdown",
   "source": [
    "```diff\n",
    "+ from accelerate import Accelerator\n",
    "  from transformers import AdamW, AutoModelForSequenceClassification, get_scheduler\n",
    "\n",
    "+ accelerator = Accelerator()\n",
    "\n",
    "  model = AutoModelForSequenceClassification.from_pretrained(checkpoint, num_labels=2)\n",
    "  optimizer = AdamW(model.parameters(), lr=3e-5)\n",
    "\n",
    "- device = torch.device(\"cuda\") if torch.cuda.is_available() else torch.device(\"cpu\")\n",
    "- model.to(device)\n",
    "\n",
    "+ train_dataloader, eval_dataloader, model, optimizer = accelerator.prepare(\n",
    "+     train_dataloader, eval_dataloader, model, optimizer\n",
    "+ )\n",
    "\n",
    "  num_epochs = 3\n",
    "  num_training_steps = num_epochs * len(train_dataloader)\n",
    "  lr_scheduler = get_scheduler(\n",
    "      \"linear\",\n",
    "      optimizer=optimizer,\n",
    "      num_warmup_steps=0,\n",
    "      num_training_steps=num_training_steps\n",
    "  )\n",
    "\n",
    "  progress_bar = tqdm(range(num_training_steps))\n",
    "\n",
    "  model.train()\n",
    "  for epoch in range(num_epochs):\n",
    "      for batch in train_dataloader:\n",
    "-         batch = {k: v.to(device) for k, v in batch.items()}\n",
    "          outputs = model(**batch)\n",
    "          loss = outputs.loss\n",
    "-         loss.backward()\n",
    "+         accelerator.backward(loss)\n",
    "\n",
    "          optimizer.step()\n",
    "          lr_scheduler.step()\n",
    "          optimizer.zero_grad()\n",
    "          progress_bar.update(1)\n",
    "```"
   ],
   "id": "d41e22dc734602f9"
  },
  {
   "metadata": {},
   "cell_type": "markdown",
   "source": [
    "The first line to add is the import line. The second line instantiates an `Accelerator` object that will look at the environment and initialize the proper distributed setup. 🤗 Accelerate handles the device placement for you, so you can remove the lines that put the model on the device (or, if you prefer, change them to use `accelerator.device` instead of `device`).\n",
    "\n",
    "Then the main bulk of the work is done in the line that sends the dataloaders, the model, and the optimizer to `accelerator.prepare()`. This will wrap those objects in the proper container to make sure your distributed training works as intended. The remaining changes to make are removing the line that puts the batch on the device (again, if you want to keep this you can just change it to use `accelerator.device`) and replacing `loss.backward()` with `accelerator.backward(loss)`.\n"
   ],
   "id": "b7f0e29c0af44d12"
  },
  {
   "metadata": {},
   "cell_type": "code",
   "outputs": [],
   "execution_count": null,
   "source": [
    "from accelerate import Accelerator\n",
    "from transformers import AdamW, AutoModelForSequenceClassification, get_scheduler\n",
    "\n",
    "accelerator = Accelerator()\n",
    "\n",
    "model = AutoModelForSequenceClassification.from_pretrained(checkpoint, num_labels=2)\n",
    "optimizer = AdamW(model.parameters(), lr=3e-5)\n",
    "\n",
    "train_dl, eval_dl, model, optimizer = accelerator.prepare(\n",
    "    train_dataloader, eval_dataloader, model, optimizer\n",
    ")\n",
    "\n",
    "num_epochs = 3\n",
    "num_training_steps = num_epochs * len(train_dl)\n",
    "lr_scheduler = get_scheduler(\n",
    "    \"linear\",\n",
    "    optimizer=optimizer,\n",
    "    num_warmup_steps=0,\n",
    "    num_training_steps=num_training_steps,\n",
    ")\n",
    "\n",
    "progress_bar = tqdm(range(num_training_steps))\n",
    "\n",
    "model.train()\n",
    "for epoch in range(num_epochs):\n",
    "    for batch in train_dl:\n",
    "        outputs = model(**batch)\n",
    "        loss = outputs.loss\n",
    "        accelerator.backward(loss)\n",
    "\n",
    "        optimizer.step()\n",
    "        lr_scheduler.step()\n",
    "        optimizer.zero_grad()\n",
    "        progress_bar.update(1)"
   ],
   "id": "cafbe88cf374fc89"
  },
  {
   "metadata": {},
   "cell_type": "markdown",
   "source": [
    "Putting this in a `train.py` script will make that script runnable on any kind of distributed setup. To try it out in your distributed setup, run the command:\n",
    "\n",
    "```bash\n",
    "accelerate config\n",
    "```\n",
    "\n",
    "which will prompt you to answer a few questions and dump your answers in a configuration file used by this command:\n",
    "\n",
    "```bash\n",
    "accelerate launch train.py\n",
    "```\n",
    "\n",
    "which will launch the distributed training.\n",
    "\n",
    "If you want to try this in a Notebook (for instance, to test it with TPUs on Colab), just paste the code in a `training_function()` and run a last cell with:\n",
    "\n",
    "```python\n",
    "from accelerate import notebook_launcher\n",
    "\n",
    "notebook_launcher(training_function)\n",
    "```"
   ],
   "id": "2a5b2d5ef20836e9"
  },
  {
   "metadata": {},
   "cell_type": "markdown",
   "source": [
    "# Summary\n",
    "\n",
    "In the first two parts, you learned about models and tokenizers, and now you know how to fine-tune them for your own data. To recap, in this chapter you:\n",
    "\n",
    "- Learned about datasets in the Hub\n",
    "- Learned how to load and preprocess datasets, including using dynamic padding and collators\n",
    "- Implemented your own fine-tuning and evaluation of a model\n",
    "- Implemented a lower-level training loop\n",
    "- Used 🤗 Accelerate to easily adapt your training loop so it works for multiple GPUs or TPUs\n"
   ],
   "id": "4f045e71e9718aba"
  },
  {
   "metadata": {},
   "cell_type": "markdown",
   "source": [
    "# Quiz\n",
    "\n",
    "### 1. The emotion dataset contains Twitter messages labeled with emotions. Search for it in the Hub , and read the dataset card. Which of these is not one of its basic emotions?\n",
    "\n",
    "<ol type=\"a\">\n",
    "  <li>Joy</li>\n",
    "  <li>Love</li>\n",
    "  <li>Confusion</li>\n",
    "  <li>Surprise</li>\n",
    "</ol>"
   ],
   "id": "ccdaf8452c652b7b"
  },
  {
   "metadata": {},
   "cell_type": "markdown",
   "source": [
    "### 2. Search for the ar_sarcasm dataset in the Hub. Which task does it support?\n",
    "\n",
    "<ol type=\"a\">\n",
    "  <li>Sentiment classification</li>\n",
    "  <li>Machine translation</li>\n",
    "  <li>Named entity recognition</li>\n",
    "  <li>Question answering</li>\n",
    "</ol>"
   ],
   "id": "3e89d2dbbfde26c8"
  },
  {
   "metadata": {},
   "cell_type": "markdown",
   "source": [
    "### 3. How does the BERT model expect a pair of sentences to be processed?\n",
    "\n",
    "<ol type=\"a\">\n",
    "  <li>Tokens_of_sentence_1 [SEP] Tokens_of_sentence_2</li>\n",
    "  <li>[CLS] Tokens_of_sentence_1 Tokens_of_sentence_2</li>\n",
    "  <li>[CLS] Tokens_of_sentence_1 [SEP] Tokens_of_sentence_2 [SEP]</li>\n",
    "  <li>[CLS] Tokens_of_sentence_1 [SEP] Tokens_of_sentence_2</li>\n",
    "</ol>"
   ],
   "id": "ee4a97475953b42a"
  },
  {
   "metadata": {},
   "cell_type": "markdown",
   "source": [
    "### 4. What are the benefits of the Dataset.map() method?\n",
    "\n",
    "<ol type=\"a\">\n",
    "  <li>The results of the function are cached, so it won't take any time if we re-execute the code.</li>\n",
    "  <li>It can apply multiprocessing to go faster than applying the function on each element of the dataset.</li>\n",
    "  <li>It does not load the whole dataset into memory, saving the results as soon as one element is processed.</li>\n",
    "</ol>"
   ],
   "id": "7fe5a551bba6d36"
  },
  {
   "metadata": {},
   "cell_type": "markdown",
   "source": [
    "### 5. What does dynamic padding mean?\n",
    "\n",
    "<ol type=\"a\">\n",
    "  <li>It's when you pad the inputs for each batch to the maximum length in the whole dataset.</li>\n",
    "  <li>It's when you pad your inputs when the batch is created, to the maximum length of the sentences inside that batch.</li>\n",
    "  <li>It's when you pad your inputs so that each sentence has the same number of tokens as the previous one in the dataset.</li>\n",
    "</ol>"
   ],
   "id": "f7e6cf2ca5c47864"
  },
  {
   "metadata": {},
   "cell_type": "markdown",
   "source": [
    "### 6. What is the purpose of a collate function?\n",
    "\n",
    "<ol type=\"a\">\n",
    "  <li>It ensures all the sequences in the dataset have the same length.</li>\n",
    "  <li>It puts together all the samples in a batch.</li>\n",
    "  <li>It preprocesses the whole dataset.</li>\n",
    "  <li>It truncates the sequences in the dataset.</li>\n",
    "</ol>"
   ],
   "id": "bb010e1a08d39960"
  },
  {
   "metadata": {},
   "cell_type": "markdown",
   "source": [
    "### 7. What happens when you instantiate one of the AutoModelForXxx classes with a pretrained language model (such as bert-base-uncased ) that corresponds to a different task than the one for which it was trained?\n",
    "\n",
    "<ol type=\"a\">\n",
    "  <li>Nothing, but you get a warning.</li>\n",
    "  <li>The head of the pretrained model is discarded and a new head suitable for the task is inserted instead.</li>\n",
    "  <li>The head of the pretrained model is discarded.</li>\n",
    "  <li>Nothing, since the model can still be fine-tuned for the different task.</li>\n",
    "</ol>"
   ],
   "id": "91db3fb062bc736a"
  },
  {
   "metadata": {},
   "cell_type": "markdown",
   "source": [
    "### 8. What’s the purpose of TrainingArguments?\n",
    "\n",
    "<ol type=\"a\">\n",
    "  <li>It contains all the hyperparameters used for training and evaluation with the Trainer.</li>\n",
    "  <li>It specifies the size of the model.</li>\n",
    "  <li>It just contains the hyperparameters used for evaluation.</li>\n",
    "  <li>It just contains the hyperparameters used for training.</li>\n",
    "</ol>"
   ],
   "id": "223364ba9eb3d337"
  },
  {
   "metadata": {},
   "cell_type": "markdown",
   "source": [
    "### 9. Why should you use the 🤗 Accelerate library?\n",
    "\n",
    "<ol type=\"a\">\n",
    "  <li>It provides access to faster models.</li>\n",
    "  <li>It provides a high-level API so I don't have to implement my own training loop.</li>\n",
    "  <li>It makes our training loops work on distributed strategies.</li>\n",
    "  <li>It provides more optimization functions.</li>\n",
    "</ol>"
   ],
   "id": "2b77e85278240405"
  }
 ],
 "metadata": {
  "kernelspec": {
   "display_name": "Python 3",
   "language": "python",
   "name": "python3"
  },
  "language_info": {
   "codemirror_mode": {
    "name": "ipython",
    "version": 2
   },
   "file_extension": ".py",
   "mimetype": "text/x-python",
   "name": "python",
   "nbconvert_exporter": "python",
   "pygments_lexer": "ipython2",
   "version": "2.7.6"
  }
 },
 "nbformat": 4,
 "nbformat_minor": 5
}

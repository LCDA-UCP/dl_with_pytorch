{
 "cells": [
  {
   "cell_type": "markdown",
   "id": "e3ddb45588bb58d1",
   "metadata": {},
   "source": [
    "# Numpy"
   ]
  },
  {
   "cell_type": "code",
   "execution_count": 1,
   "id": "4c2087b03de41957",
   "metadata": {
    "ExecuteTime": {
     "end_time": "2024-09-17T19:05:23.495689Z",
     "start_time": "2024-09-17T19:05:23.370061Z"
    }
   },
   "outputs": [],
   "source": [
    "import numpy as np\n",
    "\n",
    "# Set seed for reproducibility\n",
    "np.random.seed(1234)"
   ]
  },
  {
   "cell_type": "markdown",
   "id": "56294ba5af7786ba",
   "metadata": {},
   "source": [
    "## Basics"
   ]
  },
  {
   "cell_type": "code",
   "execution_count": 3,
   "id": "dc99456e3a60616b",
   "metadata": {
    "ExecuteTime": {
     "end_time": "2024-09-17T19:05:25.348056Z",
     "start_time": "2024-09-17T19:05:25.344865Z"
    }
   },
   "outputs": [
    {
     "name": "stdout",
     "output_type": "stream",
     "text": [
      "x:  6\n",
      "x ndim:  0\n",
      "x shape: ()\n",
      "x size:  1\n",
      "x dtype:  int64\n"
     ]
    }
   ],
   "source": [
    "# Scalar\n",
    "x = np.array(6)\n",
    "print (\"x: \", x)\n",
    "print (\"x ndim: \", x.ndim) # number of dimensions\n",
    "print (\"x shape:\", x.shape) # dimensions\n",
    "print (\"x size: \", x.size) # size of elements\n",
    "print (\"x dtype: \", x.dtype) # data type"
   ]
  },
  {
   "cell_type": "code",
   "execution_count": 4,
   "id": "97ad7044b9c53871",
   "metadata": {
    "ExecuteTime": {
     "end_time": "2024-09-17T19:06:04.239208Z",
     "start_time": "2024-09-17T19:06:04.235958Z"
    }
   },
   "outputs": [
    {
     "name": "stdout",
     "output_type": "stream",
     "text": [
      "x:  [1.3 2.2 1.7]\n",
      "x ndim:  1\n",
      "x shape: (3,)\n",
      "x size:  3\n",
      "x dtype:  float64\n"
     ]
    }
   ],
   "source": [
    "# Vector\n",
    "x = np.array([1.3 , 2.2 , 1.7])\n",
    "print (\"x: \", x)\n",
    "print (\"x ndim: \", x.ndim)\n",
    "print (\"x shape:\", x.shape)\n",
    "print (\"x size: \", x.size)\n",
    "print (\"x dtype: \", x.dtype) # notice the float datatype"
   ]
  },
  {
   "cell_type": "code",
   "execution_count": 5,
   "id": "7d0b47eddb8c0ee4",
   "metadata": {
    "ExecuteTime": {
     "end_time": "2024-09-17T19:07:02.504851Z",
     "start_time": "2024-09-17T19:07:02.501731Z"
    }
   },
   "outputs": [
    {
     "name": "stdout",
     "output_type": "stream",
     "text": [
      "x:\n",
      " [[1 2]\n",
      " [3 4]]\n",
      "x ndim:  2\n",
      "x shape: (2, 2)\n",
      "x size:  4\n",
      "x dtype:  int64\n"
     ]
    }
   ],
   "source": [
    "# Matrix\n",
    "x = np.array([[1,2], [3,4]])\n",
    "print (\"x:\\n\", x)\n",
    "print (\"x ndim: \", x.ndim)\n",
    "print (\"x shape:\", x.shape)\n",
    "print (\"x size: \", x.size)\n",
    "print (\"x dtype: \", x.dtype)"
   ]
  },
  {
   "cell_type": "code",
   "execution_count": 6,
   "id": "cf8fc8c8dd2e3a58",
   "metadata": {
    "ExecuteTime": {
     "end_time": "2024-09-17T19:07:28.918700Z",
     "start_time": "2024-09-17T19:07:28.914366Z"
    }
   },
   "outputs": [
    {
     "name": "stdout",
     "output_type": "stream",
     "text": [
      "x:\n",
      " [[[1 2]\n",
      "  [3 4]]\n",
      "\n",
      " [[5 6]\n",
      "  [7 8]]]\n",
      "x ndim:  3\n",
      "x shape: (2, 2, 2)\n",
      "x size:  8\n",
      "x dtype:  int64\n"
     ]
    }
   ],
   "source": [
    "# 3-D Tensor\n",
    "x = np.array([[[1,2],[3,4]],[[5,6],[7,8]]])\n",
    "print (\"x:\\n\", x)\n",
    "print (\"x ndim: \", x.ndim)\n",
    "print (\"x shape:\", x.shape)\n",
    "print (\"x size: \", x.size)\n",
    "print (\"x dtype: \", x.dtype)"
   ]
  },
  {
   "cell_type": "markdown",
   "id": "289a6ce2ca123679",
   "metadata": {},
   "source": [
    "## Indexing"
   ]
  },
  {
   "cell_type": "code",
   "execution_count": 7,
   "id": "b7624048caccf7f9",
   "metadata": {
    "ExecuteTime": {
     "end_time": "2024-09-17T19:14:17.464008Z",
     "start_time": "2024-09-17T19:14:17.460383Z"
    }
   },
   "outputs": [
    {
     "name": "stdout",
     "output_type": "stream",
     "text": [
      "x:  [1 2 3]\n",
      "x[0]:  1\n",
      "x:  [0 2 3]\n"
     ]
    }
   ],
   "source": [
    "# Indexing\n",
    "x = np.array([1, 2, 3])\n",
    "print (\"x: \", x)\n",
    "print (\"x[0]: \", x[0])\n",
    "x[0] = 0\n",
    "print (\"x: \", x)"
   ]
  },
  {
   "cell_type": "code",
   "execution_count": 8,
   "id": "c32423f8e645ef71",
   "metadata": {
    "ExecuteTime": {
     "end_time": "2024-09-17T19:25:06.876183Z",
     "start_time": "2024-09-17T19:25:06.872962Z"
    }
   },
   "outputs": [
    {
     "name": "stdout",
     "output_type": "stream",
     "text": [
      "[[ 1  2  3  4]\n",
      " [ 5  6  7  8]\n",
      " [ 9 10 11 12]]\n",
      "x column 1:  [ 2  6 10]\n",
      "x row 0:  [1 2 3 4]\n",
      "x rows 0,1 & cols 1,2: \n",
      " [[2 3]\n",
      " [6 7]]\n"
     ]
    }
   ],
   "source": [
    "# Slicing\n",
    "x = np.array([[1,2,3,4], [5,6,7,8], [9,10,11,12]])\n",
    "print (x)\n",
    "print (\"x column 1: \", x[:, 1])\n",
    "print (\"x row 0: \", x[0, :])\n",
    "print (\"x rows 0,1 & cols 1,2: \\n\", x[0:2, 1:3])"
   ]
  },
  {
   "cell_type": "code",
   "execution_count": 9,
   "id": "aeac47ca04cb158f",
   "metadata": {
    "ExecuteTime": {
     "end_time": "2024-09-17T19:25:07.464672Z",
     "start_time": "2024-09-17T19:25:07.461225Z"
    }
   },
   "outputs": [
    {
     "name": "stdout",
     "output_type": "stream",
     "text": [
      "[[ 1  2  3  4]\n",
      " [ 5  6  7  8]\n",
      " [ 9 10 11 12]]\n",
      "rows_to_get:  [0 1 2]\n",
      "cols_to_get:  [0 2 1]\n",
      "indexed values:  [ 1  7 10]\n"
     ]
    }
   ],
   "source": [
    "# Integer array indexing\n",
    "print (x)\n",
    "rows_to_get = np.array([0, 1, 2])\n",
    "print (\"rows_to_get: \", rows_to_get)\n",
    "cols_to_get = np.array([0, 2, 1])\n",
    "print (\"cols_to_get: \", cols_to_get)\n",
    "# Combine sequences above to get values to get\n",
    "print (\"indexed values: \", x[rows_to_get, cols_to_get]) # (0, 0), (1, 2), (2, 1)"
   ]
  },
  {
   "cell_type": "code",
   "execution_count": 10,
   "id": "7562a1036f5a61ac",
   "metadata": {
    "ExecuteTime": {
     "end_time": "2024-09-17T19:25:08.018736Z",
     "start_time": "2024-09-17T19:25:08.015504Z"
    }
   },
   "outputs": [
    {
     "name": "stdout",
     "output_type": "stream",
     "text": [
      "x:\n",
      " [[1 2]\n",
      " [3 4]\n",
      " [5 6]]\n",
      "x > 2:\n",
      " [[False False]\n",
      " [ True  True]\n",
      " [ True  True]]\n",
      "x[x > 2]:\n",
      " [3 4 5 6]\n"
     ]
    }
   ],
   "source": [
    "# Boolean array indexing\n",
    "x = np.array([[1, 2], [3, 4], [5, 6]])\n",
    "print (\"x:\\n\", x)\n",
    "print (\"x > 2:\\n\", x > 2)\n",
    "print (\"x[x > 2]:\\n\", x[x > 2])"
   ]
  },
  {
   "cell_type": "markdown",
   "id": "b0d88da6def121c2",
   "metadata": {},
   "source": [
    "## Arithmetic"
   ]
  },
  {
   "cell_type": "code",
   "execution_count": 12,
   "id": "fecd9e746ea91dc4",
   "metadata": {
    "ExecuteTime": {
     "end_time": "2024-09-17T19:30:35.443908Z",
     "start_time": "2024-09-17T19:30:35.440683Z"
    }
   },
   "outputs": [
    {
     "name": "stdout",
     "output_type": "stream",
     "text": [
      "x + y:\n",
      " [[2. 4.]\n",
      " [6. 8.]]\n",
      "x - y:\n",
      " [[0. 0.]\n",
      " [0. 0.]]\n",
      "x * y:\n",
      " [[ 1.  4.]\n",
      " [ 9. 16.]]\n"
     ]
    }
   ],
   "source": [
    "# Basic math\n",
    "x = np.array([[1,2], [3,4]], dtype=np.float64)\n",
    "y = np.array([[1,2], [3,4]], dtype=np.float64)\n",
    "print (\"x + y:\\n\", np.add(x, y)) # or x + y\n",
    "print (\"x - y:\\n\", np.subtract(x, y)) # or x - y\n",
    "print (\"x * y:\\n\", np.multiply(x, y)) # or x * y"
   ]
  },
  {
   "cell_type": "markdown",
   "id": "d889678e0dd1a101",
   "metadata": {},
   "source": [
    "## Dot product"
   ]
  },
  {
   "cell_type": "code",
   "execution_count": null,
   "id": "362f282361456dce",
   "metadata": {},
   "outputs": [],
   "source": [
    "# Dot product\n",
    "a = np.array([[1,2,3], [4,5,6]], dtype=np.float64) # we can specify dtype\n",
    "b = np.array([[7,8], [9,10], [11, 12]], dtype=np.float64)\n",
    "c = a.dot(b)\n",
    "print (f\"{a.shape} · {b.shape} = {c.shape}\")\n",
    "print (c)"
   ]
  },
  {
   "cell_type": "markdown",
   "id": "f0abb46d9dd41204",
   "metadata": {},
   "source": [
    "## Axis Operations"
   ]
  },
  {
   "cell_type": "code",
   "execution_count": 13,
   "id": "5a916757a8d36f78",
   "metadata": {
    "ExecuteTime": {
     "end_time": "2024-09-17T19:38:00.784559Z",
     "start_time": "2024-09-17T19:38:00.780702Z"
    }
   },
   "outputs": [
    {
     "name": "stdout",
     "output_type": "stream",
     "text": [
      "[[1 2]\n",
      " [3 4]]\n",
      "sum all:  10\n",
      "sum axis=0:  [4 6]\n",
      "sum axis=1:  [3 7]\n"
     ]
    }
   ],
   "source": [
    "# Sum across a dimension\n",
    "x = np.array([[1,2],[3,4]])\n",
    "print (x)\n",
    "print (\"sum all: \", np.sum(x)) # adds all elements\n",
    "print (\"sum axis=0: \", np.sum(x, axis=0)) # sum across rows\n",
    "print (\"sum axis=1: \", np.sum(x, axis=1)) # sum across columns"
   ]
  },
  {
   "cell_type": "code",
   "execution_count": 14,
   "id": "ddfdf253e4c24cdc",
   "metadata": {
    "ExecuteTime": {
     "end_time": "2024-09-17T19:38:08.832194Z",
     "start_time": "2024-09-17T19:38:08.828653Z"
    }
   },
   "outputs": [
    {
     "name": "stdout",
     "output_type": "stream",
     "text": [
      "min:  1\n",
      "max:  6\n",
      "min axis=0:  [1 2 3]\n",
      "min axis=1:  [1 4]\n"
     ]
    }
   ],
   "source": [
    "# Min/max\n",
    "x = np.array([[1,2,3], [4,5,6]])\n",
    "print (\"min: \", x.min())\n",
    "print (\"max: \", x.max())\n",
    "print (\"min axis=0: \", x.min(axis=0))\n",
    "print (\"min axis=1: \", x.min(axis=1))"
   ]
  },
  {
   "cell_type": "markdown",
   "id": "50dd5f97d3f2e7ad",
   "metadata": {},
   "source": [
    "## Broadcasting"
   ]
  },
  {
   "cell_type": "code",
   "execution_count": 15,
   "id": "b304ef941f672558",
   "metadata": {
    "ExecuteTime": {
     "end_time": "2024-09-17T19:42:27.276982Z",
     "start_time": "2024-09-17T19:42:27.274270Z"
    }
   },
   "outputs": [
    {
     "name": "stdout",
     "output_type": "stream",
     "text": [
      "z:\n",
      " [4 5]\n"
     ]
    }
   ],
   "source": [
    "# Broadcasting\n",
    "x = np.array([1,2]) # vector\n",
    "y = np.array(3) # scalar\n",
    "z = x + y\n",
    "print (\"z:\\n\", z)"
   ]
  },
  {
   "cell_type": "markdown",
   "id": "d0cc6e1a313b6bb3",
   "metadata": {},
   "source": [
    "## Transpose"
   ]
  },
  {
   "cell_type": "code",
   "execution_count": 16,
   "id": "4956e7b19ca01b52",
   "metadata": {
    "ExecuteTime": {
     "end_time": "2024-09-17T19:58:52.229163Z",
     "start_time": "2024-09-17T19:58:52.226095Z"
    }
   },
   "outputs": [
    {
     "name": "stdout",
     "output_type": "stream",
     "text": [
      "x:\n",
      " [[1 2 3]\n",
      " [4 5 6]]\n",
      "x.shape:  (2, 3)\n",
      "y:\n",
      " [[1 4]\n",
      " [2 5]\n",
      " [3 6]]\n",
      "y.shape:  (3, 2)\n"
     ]
    }
   ],
   "source": [
    "# Transposing\n",
    "x = np.array([[1,2,3], [4,5,6]])\n",
    "print (\"x:\\n\", x)\n",
    "print (\"x.shape: \", x.shape)\n",
    "y = np.transpose(x, (1,0)) # flip dimensions at index 0 and 1\n",
    "print (\"y:\\n\", y)\n",
    "print (\"y.shape: \", y.shape)"
   ]
  },
  {
   "cell_type": "markdown",
   "id": "132dcac06b782d05",
   "metadata": {},
   "source": [
    "## Reshape"
   ]
  },
  {
   "cell_type": "code",
   "execution_count": 17,
   "id": "71532058f7d7771f",
   "metadata": {
    "ExecuteTime": {
     "end_time": "2024-09-17T19:58:53.447668Z",
     "start_time": "2024-09-17T19:58:53.443832Z"
    }
   },
   "outputs": [
    {
     "name": "stdout",
     "output_type": "stream",
     "text": [
      "[[1 2 3 4 5 6]]\n",
      "x.shape:  (1, 6)\n",
      "y: \n",
      " [[1 2 3]\n",
      " [4 5 6]]\n",
      "y.shape:  (2, 3)\n",
      "z: \n",
      " [[1 2 3]\n",
      " [4 5 6]]\n",
      "z.shape:  (2, 3)\n"
     ]
    }
   ],
   "source": [
    "# Reshaping\n",
    "x = np.array([[1,2,3,4,5,6]])\n",
    "print (x)\n",
    "print (\"x.shape: \", x.shape)\n",
    "y = np.reshape(x, (2, 3))\n",
    "print (\"y: \\n\", y)\n",
    "print (\"y.shape: \", y.shape)\n",
    "z = np.reshape(x, (2, -1))\n",
    "print (\"z: \\n\", z)\n",
    "print (\"z.shape: \", z.shape)"
   ]
  },
  {
   "cell_type": "markdown",
   "id": "317fc86960e3f7cd",
   "metadata": {},
   "source": [
    "## Joining"
   ]
  },
  {
   "cell_type": "code",
   "execution_count": 18,
   "id": "1b63c5d6901d7da6",
   "metadata": {
    "ExecuteTime": {
     "end_time": "2024-09-17T19:58:54.475705Z",
     "start_time": "2024-09-17T19:58:54.472703Z"
    }
   },
   "outputs": [
    {
     "name": "stdout",
     "output_type": "stream",
     "text": [
      "[[0.19151945 0.62210877 0.43772774]\n",
      " [0.78535858 0.77997581 0.27259261]]\n",
      "(2, 3)\n"
     ]
    }
   ],
   "source": [
    "x = np.random.random((2, 3))\n",
    "print (x)\n",
    "print (x.shape)"
   ]
  },
  {
   "cell_type": "code",
   "execution_count": 19,
   "id": "2d6eae76768ede66",
   "metadata": {
    "ExecuteTime": {
     "end_time": "2024-09-17T19:58:54.952292Z",
     "start_time": "2024-09-17T19:58:54.949054Z"
    }
   },
   "outputs": [
    {
     "name": "stdout",
     "output_type": "stream",
     "text": [
      "[[0.19151945 0.62210877 0.43772774]\n",
      " [0.78535858 0.77997581 0.27259261]\n",
      " [0.19151945 0.62210877 0.43772774]\n",
      " [0.78535858 0.77997581 0.27259261]]\n",
      "(4, 3)\n"
     ]
    }
   ],
   "source": [
    "# Concatenation\n",
    "y = np.concatenate([x, x], axis=0) # concat on a specified axis\n",
    "print (y)\n",
    "print (y.shape)"
   ]
  },
  {
   "cell_type": "code",
   "execution_count": 20,
   "id": "6215879916467e74",
   "metadata": {
    "ExecuteTime": {
     "end_time": "2024-09-17T19:58:55.404191Z",
     "start_time": "2024-09-17T19:58:55.400996Z"
    }
   },
   "outputs": [
    {
     "name": "stdout",
     "output_type": "stream",
     "text": [
      "[[[0.19151945 0.62210877 0.43772774]\n",
      "  [0.78535858 0.77997581 0.27259261]]\n",
      "\n",
      " [[0.19151945 0.62210877 0.43772774]\n",
      "  [0.78535858 0.77997581 0.27259261]]]\n",
      "(2, 2, 3)\n"
     ]
    }
   ],
   "source": [
    "# Stacking\n",
    "z = np.stack([x, x], axis=0) # stack on new axis\n",
    "print (z)\n",
    "print (z.shape)"
   ]
  },
  {
   "cell_type": "markdown",
   "id": "c296610ce672b7cd",
   "metadata": {},
   "source": [
    "## Expanding / Reducing"
   ]
  },
  {
   "cell_type": "code",
   "execution_count": 21,
   "id": "5441cb89032735e8",
   "metadata": {
    "ExecuteTime": {
     "end_time": "2024-09-17T19:58:56.573570Z",
     "start_time": "2024-09-17T19:58:56.570097Z"
    }
   },
   "outputs": [
    {
     "name": "stdout",
     "output_type": "stream",
     "text": [
      "x:\n",
      " [[1 2 3]\n",
      " [4 5 6]]\n",
      "x.shape:  (2, 3)\n",
      "y: \n",
      " [[[1 2 3]]\n",
      "\n",
      " [[4 5 6]]]\n",
      "y.shape:  (2, 1, 3)\n"
     ]
    }
   ],
   "source": [
    "# Adding dimensions\n",
    "x = np.array([[1,2,3],[4,5,6]])\n",
    "print (\"x:\\n\", x)\n",
    "print (\"x.shape: \", x.shape)\n",
    "y = np.expand_dims(x, 1) # expand dim 1\n",
    "print (\"y: \\n\", y)\n",
    "print (\"y.shape: \", y.shape)   # notice extra set of brackets are added"
   ]
  },
  {
   "cell_type": "code",
   "execution_count": 22,
   "id": "20fef0ccee4c9d0e",
   "metadata": {
    "ExecuteTime": {
     "end_time": "2024-09-17T19:58:57.270374Z",
     "start_time": "2024-09-17T19:58:57.267408Z"
    }
   },
   "outputs": [
    {
     "name": "stdout",
     "output_type": "stream",
     "text": [
      "x:\n",
      " [[[1 2 3]]\n",
      "\n",
      " [[4 5 6]]]\n",
      "x.shape:  (2, 1, 3)\n",
      "y: \n",
      " [[1 2 3]\n",
      " [4 5 6]]\n",
      "y.shape:  (2, 3)\n"
     ]
    }
   ],
   "source": [
    "# Removing dimensions\n",
    "x = np.array([[[1,2,3]],[[4,5,6]]])\n",
    "print (\"x:\\n\", x)\n",
    "print (\"x.shape: \", x.shape)\n",
    "y = np.squeeze(x, 1) # squeeze dim 1\n",
    "print (\"y: \\n\", y)\n",
    "print (\"y.shape: \", y.shape)  # notice extra set of brackets are gone"
   ]
  },
  {
   "cell_type": "markdown",
   "id": "2704671750b07a70",
   "metadata": {},
   "source": [
    "## Arrays vs Lists"
   ]
  },
  {
   "cell_type": "code",
   "execution_count": null,
   "id": "e2f5f0db6b06560a",
   "metadata": {},
   "outputs": [],
   "source": [
    "print(\"Python list operations:\")\n",
    "a = [1,2,3]\n",
    "b = [4,5,6]\n",
    "print(\"a+b:\", a+b)\n",
    "try:\n",
    "    print(a*b)\n",
    "except TypeError:\n",
    "    print(\"a*b has no meaning for Python lists\")\n",
    "print()\n",
    "print(\"numpy array operations:\")\n",
    "a = np.array([1,2,3])\n",
    "b = np.array([4,5,6])\n",
    "print(\"a+b:\", a+b)\n",
    "print(\"a*b:\", a*b)"
   ]
  },
  {
   "cell_type": "code",
   "execution_count": 9,
   "id": "bb72a7e997bab629",
   "metadata": {
    "ExecuteTime": {
     "end_time": "2024-09-16T13:32:00.570542Z",
     "start_time": "2024-09-16T13:32:00.567433Z"
    }
   },
   "outputs": [
    {
     "name": "stdout",
     "output_type": "stream",
     "text": [
      "a:\n",
      "[[1 2]\n",
      " [3 4]]\n",
      "a.sum(axis=0): [4 6]\n",
      "a.sum(axis=1): [3 7]\n"
     ]
    }
   ],
   "source": [
    "a = np.array([[1,2],[3,4]])\n",
    "print('a:')\n",
    "print(a)\n",
    "print('a.sum(axis=0):', a.sum(axis=0))\n",
    "print('a.sum(axis=1):', a.sum(axis=1))"
   ]
  },
  {
   "cell_type": "code",
   "execution_count": 10,
   "id": "c5530a69b3db4359",
   "metadata": {
    "ExecuteTime": {
     "end_time": "2024-09-16T13:33:57.304972Z",
     "start_time": "2024-09-16T13:33:57.299472Z"
    }
   },
   "outputs": [
    {
     "name": "stdout",
     "output_type": "stream",
     "text": [
      "a+b:\n",
      " [[11 22 33]\n",
      " [14 25 36]]\n"
     ]
    }
   ],
   "source": [
    "a = np.array([[1,2,3],\n",
    "[4,5,6]])\n",
    "b = np.array([10,20,30])\n",
    "print(\"a+b:\\n\", a+b)"
   ]
  },
  {
   "cell_type": "markdown",
   "id": "92bf61c3ced89675",
   "metadata": {},
   "source": [
    "# Functions"
   ]
  },
  {
   "cell_type": "markdown",
   "id": "d2b88a5805ef172f",
   "metadata": {},
   "source": [
    "## Math"
   ]
  },
  {
   "cell_type": "code",
   "execution_count": 1,
   "id": "46433aa64e16200a",
   "metadata": {
    "ExecuteTime": {
     "end_time": "2024-09-16T13:04:20.579318Z",
     "start_time": "2024-09-16T13:04:20.449515Z"
    }
   },
   "outputs": [
    {
     "name": "stdout",
     "output_type": "stream",
     "text": [
      "[1 4 9]\n"
     ]
    }
   ],
   "source": [
    "import numpy as np\n",
    "\n",
    "# implement f1 (f1(x) = x²)\n",
    "def f1(x: np.ndarray) -> np.ndarray:\n",
    "    \"\"\"\n",
    "    This function returns the square of the input x\n",
    "    The function will be applied element-wise to the input x.\n",
    "    \n",
    "    Parameters\n",
    "    ----------\n",
    "    x : np.ndarray\n",
    "        The input values.\n",
    "        \n",
    "    Returns\n",
    "    -------\n",
    "    np.ndarray\n",
    "        The square of the input values.\n",
    "    \"\"\"\n",
    "    return x ** 2"
   ]
  },
  {
   "cell_type": "code",
   "execution_count": 2,
   "id": "cdcfcff9b639b2e6",
   "metadata": {
    "ExecuteTime": {
     "end_time": "2024-09-16T13:05:09.718159Z",
     "start_time": "2024-09-16T13:05:09.715443Z"
    }
   },
   "outputs": [],
   "source": [
    "# implement f2 (f2(x) = max(0, x))\n",
    "def f2(x: np.ndarray) -> np.ndarray:\n",
    "    \"\"\"\n",
    "    This function returns the max of 0 and the input x.\n",
    "    The function will be applied element-wise to the input x.\n",
    "    \n",
    "    Parameters\n",
    "    ----------\n",
    "    x : np.ndarray\n",
    "        The input values.\n",
    "    \n",
    "    Returns\n",
    "    -------\n",
    "    np.ndarray\n",
    "        The max of 0 and the input values.\n",
    "    \"\"\"\n",
    "    return np.maximum(0, x)"
   ]
  },
  {
   "cell_type": "markdown",
   "id": "25eb26fbdc05f9e5",
   "metadata": {},
   "source": [
    "## Diagrams"
   ]
  },
  {
   "cell_type": "code",
   "execution_count": 3,
   "id": "ef8909f42b8e1c40",
   "metadata": {
    "ExecuteTime": {
     "end_time": "2024-09-16T13:07:45.994223Z",
     "start_time": "2024-09-16T13:07:45.563839Z"
    }
   },
   "outputs": [
    {
     "data": {
      "image/png": "[encoded data removed]",
      "text/plain": [
       "<Figure size 640x480 with 1 Axes>"
      ]
     },
     "metadata": {},
     "output_type": "display_data"
    }
   ],
   "source": [
    "import matplotlib.pyplot as plt\n",
    "\n",
    "# implement plot_f1\n",
    "def plot_f1():\n",
    "    \"\"\"\n",
    "    This function plots the function f1.\n",
    "    \"\"\"\n",
    "    x = np.linspace(-10, 10, 100)\n",
    "    y = f1(x)\n",
    "    plt.plot(x, y)\n",
    "    plt.title('f1(x) = x²')\n",
    "    plt.show()\n",
    "    \n",
    "plot_f1()"
   ]
  },
  {
   "cell_type": "code",
   "execution_count": 4,
   "id": "9b8efb3b8948c945",
   "metadata": {
    "ExecuteTime": {
     "end_time": "2024-09-16T13:07:51.605348Z",
     "start_time": "2024-09-16T13:07:51.502373Z"
    }
   },
   "outputs": [
    {
     "data": {
      "image/png": "[encoded data removed]",
      "text/plain": [
       "<Figure size 640x480 with 1 Axes>"
      ]
     },
     "metadata": {},
     "output_type": "display_data"
    }
   ],
   "source": [
    "# implement plot_f2\n",
    "def plot_f2():\n",
    "    \"\"\"\n",
    "    This function plots the function f2.\n",
    "    \"\"\"\n",
    "    x = np.linspace(-10, 10, 100)\n",
    "    y = f2(x)\n",
    "    plt.plot(x, y)\n",
    "    plt.title('f2(x) = max(0, x)')\n",
    "    plt.show()\n",
    "    \n",
    "plot_f2()"
   ]
  },
  {
   "cell_type": "markdown",
   "id": "6384772b7252930",
   "metadata": {},
   "source": [
    "## Derivatives"
   ]
  },
  {
   "cell_type": "code",
   "execution_count": 15,
   "id": "81cc8bcc195685b6",
   "metadata": {
    "ExecuteTime": {
     "end_time": "2024-09-16T15:06:06.581583Z",
     "start_time": "2024-09-16T15:06:06.577266Z"
    }
   },
   "outputs": [
    {
     "data": {
      "text/plain": [
       "array([2.])"
      ]
     },
     "execution_count": 15,
     "metadata": {},
     "output_type": "execute_result"
    }
   ],
   "source": [
    "from typing import Callable\n",
    "\n",
    "def deriv(func: Callable[[np.ndarray], np.ndarray], input_: np.ndarray, delta: float = 0.001) -> np.ndarray:\n",
    "    \"\"\"\n",
    "    This function returns the derivative of the input function at the input value.\n",
    "    \n",
    "    Parameters\n",
    "    ----------\n",
    "    func: Callable[[np.ndarray], np.ndarray]\n",
    "        The input function.\n",
    "    input_: np.ndarray\n",
    "        The input value.\n",
    "    delta: float\n",
    "        The small change in the input value.\n",
    "\n",
    "    Returns\n",
    "    -------\n",
    "    np.ndarray\n",
    "        The derivative of the input function at the input value.\n",
    "    \"\"\"\n",
    "    return (func(input_ + delta) - func(input_ - delta)) / (2 * delta)\n",
    "\n",
    "# implement deriv_f1\n",
    "a = deriv(f1, np.array([1.0]))\n",
    "a"
   ]
  }
 ],
 "metadata": {
  "kernelspec": {
   "display_name": "Python 3",
   "language": "python",
   "name": "python3"
  },
  "language_info": {
   "codemirror_mode": {
    "name": "ipython",
    "version": 3
   },
   "file_extension": ".py",
   "mimetype": "text/x-python",
   "name": "python",
   "nbconvert_exporter": "python",
   "pygments_lexer": "ipython3",
   "version": "3.11.9"
  }
 },
 "nbformat": 4,
 "nbformat_minor": 5
}

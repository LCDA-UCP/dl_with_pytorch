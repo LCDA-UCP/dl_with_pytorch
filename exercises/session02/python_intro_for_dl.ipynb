{
 "cells": [
  {
   "metadata": {},
   "cell_type": "markdown",
   "source": [
    "# Numpy"
   ],
   "id": "e3ddb45588bb58d1"
  },
  {
   "metadata": {
    "ExecuteTime": {
     "end_time": "2024-09-20T11:25:25.403559Z",
     "start_time": "2024-09-20T11:25:25.353354Z"
    }
   },
   "cell_type": "code",
   "source": [
    "import numpy as np\n",
    "\n",
    "np.random.seed(1234)\n"
   ],
   "id": "4c2087b03de41957",
   "outputs": [],
   "execution_count": 45
  },
  {
   "metadata": {},
   "cell_type": "markdown",
   "source": [
    "## Basics"
   ],
   "id": "56294ba5af7786ba"
  },
  {
   "metadata": {
    "ExecuteTime": {
     "end_time": "2024-09-20T11:25:25.408049Z",
     "start_time": "2024-09-20T11:25:25.406221Z"
    }
   },
   "cell_type": "code",
   "source": [
    "# Scalar\n",
    "x = np.array([1.3 , 2.2, 1.7])\n",
    "print(\"x: \", x)\n",
    "print(\"x ndim: \", x.ndim)\n",
    "print(\"x shape:\", x.shape)\n",
    "print(\"x size: \", x.size)\n",
    "print(\"x dtype: \", x.dtype)\n"
   ],
   "id": "dc99456e3a60616b",
   "outputs": [
    {
     "name": "stdout",
     "output_type": "stream",
     "text": [
      "x:  [1.3 2.2 1.7]\n",
      "x ndim:  1\n",
      "x shape: (3,)\n",
      "x size:  3\n",
      "x dtype:  float64\n"
     ]
    }
   ],
   "execution_count": 46
  },
  {
   "metadata": {
    "ExecuteTime": {
     "end_time": "2024-09-20T11:25:25.411037Z",
     "start_time": "2024-09-20T11:25:25.409102Z"
    }
   },
   "cell_type": "code",
   "source": [
    "# add code here\n",
    "# Matrix\n",
    "x = np.array([[1,2], [3,4]])\n",
    "print(\"x:\\n \", x)\n",
    "print(\"x ndim: \", x.ndim)\n",
    "print(\"x shape:\", x.shape)\n",
    "print(\"x size: \", x.size)\n",
    "print(\"x dtype: \", x.dtype)\n"
   ],
   "id": "97ad7044b9c53871",
   "outputs": [
    {
     "name": "stdout",
     "output_type": "stream",
     "text": [
      "x:\n",
      "  [[1 2]\n",
      " [3 4]]\n",
      "x ndim:  2\n",
      "x shape: (2, 2)\n",
      "x size:  4\n",
      "x dtype:  int64\n"
     ]
    }
   ],
   "execution_count": 47
  },
  {
   "metadata": {
    "ExecuteTime": {
     "end_time": "2024-09-20T11:25:25.417522Z",
     "start_time": "2024-09-20T11:25:25.411807Z"
    }
   },
   "cell_type": "code",
   "source": [
    "# add code here\n",
    "# 3-D Tensor \n",
    "x = np.array([[[1,2], [3,4]], [[5,6], [7,8]]])\n",
    "print(\"x:\\n \", x)\n",
    "print(\"x ndim: \", x.ndim)\n",
    "print(\"x shape:\", x.shape)\n",
    "print(\"x size: \", x.size)\n",
    "print(\"x dtype: \", x.dtype)"
   ],
   "id": "7d0b47eddb8c0ee4",
   "outputs": [
    {
     "name": "stdout",
     "output_type": "stream",
     "text": [
      "x:\n",
      "  [[[1 2]\n",
      "  [3 4]]\n",
      "\n",
      " [[5 6]\n",
      "  [7 8]]]\n",
      "x ndim:  3\n",
      "x shape: (2, 2, 2)\n",
      "x size:  8\n",
      "x dtype:  int64\n"
     ]
    }
   ],
   "execution_count": 48
  },
  {
   "metadata": {
    "ExecuteTime": {
     "end_time": "2024-09-20T11:25:25.418908Z",
     "start_time": "2024-09-20T11:25:25.413864Z"
    }
   },
   "cell_type": "code",
   "source": [
    "# add code here\n",
    "# .."
   ],
   "id": "cf8fc8c8dd2e3a58",
   "outputs": [],
   "execution_count": 49
  },
  {
   "metadata": {},
   "cell_type": "markdown",
   "source": [
    "## Indexing"
   ],
   "id": "289a6ce2ca123679"
  },
  {
   "metadata": {
    "ExecuteTime": {
     "end_time": "2024-09-20T11:28:36.322796Z",
     "start_time": "2024-09-20T11:28:36.317841Z"
    }
   },
   "cell_type": "code",
   "source": [
    "# add code here\n",
    "x = np.array([1, 1, 3])\n",
    "print (\"x: \" , x)\n",
    "print (\"x[0]: \", x[0])\n",
    "x[0] = 0\n",
    "print (\"x: \", x)"
   ],
   "id": "b7624048caccf7f9",
   "outputs": [
    {
     "name": "stdout",
     "output_type": "stream",
     "text": [
      "x:  [1 1 3]\n",
      "x[0]:  1\n",
      "x:  [0 1 3]\n"
     ]
    }
   ],
   "execution_count": 74
  },
  {
   "metadata": {
    "ExecuteTime": {
     "end_time": "2024-09-20T11:32:32.348764Z",
     "start_time": "2024-09-20T11:32:32.337678Z"
    }
   },
   "cell_type": "code",
   "source": [
    "# add code here\n",
    "# Slicing\n",
    "x = np.array([[1,2,3,4], [5,6,7,8,], [9,10,11,12]])\n",
    "print(x)\n",
    "print(\"x column 1: \", x[:, 1])\n",
    "print(\"x row 0: \", x[0, :])\n",
    "print(\"x rows 0,1 & cols 1,2: \\n\", x[0:2, 1:3])"
   ],
   "id": "c32423f8e645ef71",
   "outputs": [
    {
     "name": "stdout",
     "output_type": "stream",
     "text": [
      "[[ 1  2  3  4]\n",
      " [ 5  6  7  8]\n",
      " [ 9 10 11 12]]\n",
      "x column 1:  [ 2  6 10]\n",
      "x row 0:  [1 2 3 4]\n",
      "x rows 0,1 & cols 1,2: \n",
      " [[2 3]\n",
      " [6 7]]\n"
     ]
    }
   ],
   "execution_count": 75
  },
  {
   "metadata": {
    "ExecuteTime": {
     "end_time": "2024-09-20T11:25:25.427210Z",
     "start_time": "2024-09-20T11:25:25.421062Z"
    }
   },
   "cell_type": "code",
   "source": [
    "# add code here\n",
    "# ..."
   ],
   "id": "aeac47ca04cb158f",
   "outputs": [],
   "execution_count": 52
  },
  {
   "metadata": {
    "ExecuteTime": {
     "end_time": "2024-09-20T11:37:28.337996Z",
     "start_time": "2024-09-20T11:37:28.325430Z"
    }
   },
   "cell_type": "code",
   "source": [
    "# add code here\n",
    "# Boolean array\n",
    "x = np.array([[1,2], [3,4], [5,6]])\n",
    "print (\"x:\\n\", x)\n",
    "print(\"x > 2: \\n\", x > 2)\n",
    "print(\"x[x > 2]: \\n\", x[ x > 2])"
   ],
   "id": "7562a1036f5a61ac",
   "outputs": [
    {
     "name": "stdout",
     "output_type": "stream",
     "text": [
      "x:\n",
      " [[1 2]\n",
      " [3 4]\n",
      " [5 6]]\n",
      "x > 2: \n",
      " [[False False]\n",
      " [ True  True]\n",
      " [ True  True]]\n",
      "x[x > 2]: \n",
      " [3 4 5 6]\n"
     ]
    }
   ],
   "execution_count": 76
  },
  {
   "metadata": {},
   "cell_type": "markdown",
   "source": [
    "## Arithmetic"
   ],
   "id": "b0d88da6def121c2"
  },
  {
   "metadata": {
    "ExecuteTime": {
     "end_time": "2024-09-20T11:38:13.735793Z",
     "start_time": "2024-09-20T11:38:13.723708Z"
    }
   },
   "cell_type": "code",
   "source": [
    "# add code here\n"
   ],
   "id": "fecd9e746ea91dc4",
   "outputs": [],
   "execution_count": 77
  },
  {
   "metadata": {},
   "cell_type": "markdown",
   "source": [
    "## Dot product"
   ],
   "id": "d889678e0dd1a101"
  },
  {
   "metadata": {
    "ExecuteTime": {
     "end_time": "2024-09-20T11:25:25.453116Z",
     "start_time": "2024-09-20T11:25:25.445399Z"
    }
   },
   "cell_type": "code",
   "source": [
    "# add code here\n",
    "# ..."
   ],
   "id": "362f282361456dce",
   "outputs": [],
   "execution_count": 55
  },
  {
   "metadata": {},
   "cell_type": "markdown",
   "source": [
    "## Axis Operations"
   ],
   "id": "f0abb46d9dd41204"
  },
  {
   "metadata": {
    "ExecuteTime": {
     "end_time": "2024-09-20T11:25:25.463022Z",
     "start_time": "2024-09-20T11:25:25.448718Z"
    }
   },
   "cell_type": "code",
   "source": [
    "# add code here\n",
    "# ..."
   ],
   "id": "5a916757a8d36f78",
   "outputs": [],
   "execution_count": 56
  },
  {
   "metadata": {
    "ExecuteTime": {
     "end_time": "2024-09-20T11:25:25.465227Z",
     "start_time": "2024-09-20T11:25:25.454471Z"
    }
   },
   "cell_type": "code",
   "source": [
    "# add code here\n",
    "# ..."
   ],
   "id": "ddfdf253e4c24cdc",
   "outputs": [],
   "execution_count": 57
  },
  {
   "metadata": {},
   "cell_type": "markdown",
   "source": [
    "## Broadcasting"
   ],
   "id": "50dd5f97d3f2e7ad"
  },
  {
   "metadata": {
    "ExecuteTime": {
     "end_time": "2024-09-20T11:25:25.470866Z",
     "start_time": "2024-09-20T11:25:25.466753Z"
    }
   },
   "cell_type": "code",
   "source": [
    "# add code here\n",
    "# ..."
   ],
   "id": "b304ef941f672558",
   "outputs": [],
   "execution_count": 58
  },
  {
   "metadata": {},
   "cell_type": "markdown",
   "source": [
    "## Transpose"
   ],
   "id": "d0cc6e1a313b6bb3"
  },
  {
   "metadata": {
    "ExecuteTime": {
     "end_time": "2024-09-20T11:25:25.471734Z",
     "start_time": "2024-09-20T11:25:25.468979Z"
    }
   },
   "cell_type": "code",
   "source": [
    "# add code here\n",
    "# ..."
   ],
   "id": "4956e7b19ca01b52",
   "outputs": [],
   "execution_count": 59
  },
  {
   "metadata": {},
   "cell_type": "markdown",
   "source": [
    "## Reshape"
   ],
   "id": "132dcac06b782d05"
  },
  {
   "metadata": {
    "ExecuteTime": {
     "end_time": "2024-09-20T11:25:25.474398Z",
     "start_time": "2024-09-20T11:25:25.472503Z"
    }
   },
   "cell_type": "code",
   "source": [
    "# add code here\n",
    "# ..."
   ],
   "id": "71532058f7d7771f",
   "outputs": [],
   "execution_count": 60
  },
  {
   "metadata": {},
   "cell_type": "markdown",
   "source": [
    "## Joining"
   ],
   "id": "317fc86960e3f7cd"
  },
  {
   "metadata": {
    "ExecuteTime": {
     "end_time": "2024-09-20T11:25:25.487684Z",
     "start_time": "2024-09-20T11:25:25.474353Z"
    }
   },
   "cell_type": "code",
   "source": [
    "# add code here\n",
    "# ..."
   ],
   "id": "1b63c5d6901d7da6",
   "outputs": [],
   "execution_count": 61
  },
  {
   "metadata": {
    "ExecuteTime": {
     "end_time": "2024-09-20T11:25:25.488238Z",
     "start_time": "2024-09-20T11:25:25.476232Z"
    }
   },
   "cell_type": "code",
   "source": [
    "# add code here\n",
    "# ..."
   ],
   "id": "2d6eae76768ede66",
   "outputs": [],
   "execution_count": 62
  },
  {
   "metadata": {
    "ExecuteTime": {
     "end_time": "2024-09-20T11:25:25.488652Z",
     "start_time": "2024-09-20T11:25:25.478085Z"
    }
   },
   "cell_type": "code",
   "source": [
    "# add code here\n",
    "# ..."
   ],
   "id": "6215879916467e74",
   "outputs": [],
   "execution_count": 63
  },
  {
   "metadata": {},
   "cell_type": "markdown",
   "source": [
    "## Expanding / Reducing"
   ],
   "id": "c296610ce672b7cd"
  },
  {
   "metadata": {
    "ExecuteTime": {
     "end_time": "2024-09-20T11:25:25.494543Z",
     "start_time": "2024-09-20T11:25:25.489719Z"
    }
   },
   "cell_type": "code",
   "source": [
    "# add code here\n",
    "# ..."
   ],
   "id": "5441cb89032735e8",
   "outputs": [],
   "execution_count": 64
  },
  {
   "metadata": {
    "ExecuteTime": {
     "end_time": "2024-09-20T11:25:25.495918Z",
     "start_time": "2024-09-20T11:25:25.492567Z"
    }
   },
   "cell_type": "code",
   "source": [
    "# add code here\n",
    "# ..."
   ],
   "id": "20fef0ccee4c9d0e",
   "outputs": [],
   "execution_count": 65
  },
  {
   "metadata": {},
   "cell_type": "markdown",
   "source": [
    "## Arrays vs Lists"
   ],
   "id": "2704671750b07a70"
  },
  {
   "metadata": {
    "ExecuteTime": {
     "end_time": "2024-09-20T11:25:25.498083Z",
     "start_time": "2024-09-20T11:25:25.494945Z"
    }
   },
   "cell_type": "code",
   "source": [
    "# add code here\n",
    "# ..."
   ],
   "id": "e2f5f0db6b06560a",
   "outputs": [],
   "execution_count": 66
  },
  {
   "metadata": {
    "ExecuteTime": {
     "end_time": "2024-09-20T11:25:25.506312Z",
     "start_time": "2024-09-20T11:25:25.497080Z"
    }
   },
   "cell_type": "code",
   "source": [
    "# add code here\n",
    "# ..."
   ],
   "id": "bb72a7e997bab629",
   "outputs": [],
   "execution_count": 67
  },
  {
   "metadata": {
    "ExecuteTime": {
     "end_time": "2024-09-20T11:25:25.506962Z",
     "start_time": "2024-09-20T11:25:25.499654Z"
    }
   },
   "cell_type": "code",
   "source": [
    "# add code here\n",
    "# ..."
   ],
   "id": "c5530a69b3db4359",
   "outputs": [],
   "execution_count": 68
  },
  {
   "metadata": {},
   "cell_type": "markdown",
   "source": [
    "# Functions"
   ],
   "id": "92bf61c3ced89675"
  },
  {
   "metadata": {},
   "cell_type": "markdown",
   "source": [
    "## Math"
   ],
   "id": "d2b88a5805ef172f"
  },
  {
   "metadata": {
    "ExecuteTime": {
     "end_time": "2024-09-20T11:25:25.512518Z",
     "start_time": "2024-09-20T11:25:25.507809Z"
    }
   },
   "cell_type": "code",
   "source": [
    "# add code here\n",
    "# ..."
   ],
   "id": "46433aa64e16200a",
   "outputs": [],
   "execution_count": 69
  },
  {
   "metadata": {
    "ExecuteTime": {
     "end_time": "2024-09-20T11:25:25.513929Z",
     "start_time": "2024-09-20T11:25:25.510601Z"
    }
   },
   "cell_type": "code",
   "source": [
    "# add code here\n",
    "# ..."
   ],
   "id": "cdcfcff9b639b2e6",
   "outputs": [],
   "execution_count": 70
  },
  {
   "metadata": {},
   "cell_type": "markdown",
   "source": [
    "## Diagrams"
   ],
   "id": "25eb26fbdc05f9e5"
  },
  {
   "metadata": {
    "ExecuteTime": {
     "end_time": "2024-09-20T11:25:25.515223Z",
     "start_time": "2024-09-20T11:25:25.512458Z"
    }
   },
   "cell_type": "code",
   "source": [
    "# add code here\n",
    "# ..."
   ],
   "id": "ef8909f42b8e1c40",
   "outputs": [],
   "execution_count": 71
  },
  {
   "metadata": {
    "ExecuteTime": {
     "end_time": "2024-09-20T11:25:25.518011Z",
     "start_time": "2024-09-20T11:25:25.515219Z"
    }
   },
   "cell_type": "code",
   "source": [
    "# add code here\n",
    "# ..."
   ],
   "id": "9b8efb3b8948c945",
   "outputs": [],
   "execution_count": 72
  },
  {
   "metadata": {},
   "cell_type": "markdown",
   "source": [
    "# Derivatives"
   ],
   "id": "ebbd9b29fe64840f"
  },
  {
   "metadata": {
    "ExecuteTime": {
     "end_time": "2024-09-20T11:25:25.521005Z",
     "start_time": "2024-09-20T11:25:25.517986Z"
    }
   },
   "cell_type": "code",
   "outputs": [],
   "execution_count": 73,
   "source": [
    "# add code here\n",
    "# ..."
   ],
   "id": "119007fd9d02a652"
  }
 ],
 "metadata": {
  "kernelspec": {
   "display_name": "Python 3",
   "language": "python",
   "name": "python3"
  },
  "language_info": {
   "codemirror_mode": {
    "name": "ipython",
    "version": 2
   },
   "file_extension": ".py",
   "mimetype": "text/x-python",
   "name": "python",
   "nbconvert_exporter": "python",
   "pygments_lexer": "ipython2",
   "version": "2.7.6"
  }
 },
 "nbformat": 4,
 "nbformat_minor": 5
}

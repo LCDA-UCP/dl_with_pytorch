{
 "cells": [
  {
   "metadata": {},
   "cell_type": "markdown",
   "source": "# Numpy",
   "id": "e3ddb45588bb58d1"
  },
  {
   "metadata": {
    "ExecuteTime": {
     "end_time": "2024-09-17T20:12:59.345537Z",
     "start_time": "2024-09-17T20:12:59.343706Z"
    }
   },
   "cell_type": "code",
   "source": [
    "# add code here\n",
    "# ...\n"
   ],
   "id": "4c2087b03de41957",
   "outputs": [],
   "execution_count": 33
  },
  {
   "metadata": {},
   "cell_type": "markdown",
   "source": "## Basics",
   "id": "56294ba5af7786ba"
  },
  {
   "metadata": {
    "ExecuteTime": {
     "end_time": "2024-09-17T20:12:59.390044Z",
     "start_time": "2024-09-17T20:12:59.388333Z"
    }
   },
   "cell_type": "code",
   "source": [
    "# add code here\n",
    "# ..."
   ],
   "id": "dc99456e3a60616b",
   "outputs": [],
   "execution_count": 34
  },
  {
   "metadata": {
    "ExecuteTime": {
     "end_time": "2024-09-17T20:12:59.436606Z",
     "start_time": "2024-09-17T20:12:59.434424Z"
    }
   },
   "cell_type": "code",
   "source": [
    "# add code here\n",
    "# ..."
   ],
   "id": "97ad7044b9c53871",
   "outputs": [],
   "execution_count": 35
  },
  {
   "metadata": {
    "ExecuteTime": {
     "end_time": "2024-09-17T20:12:59.485322Z",
     "start_time": "2024-09-17T20:12:59.482163Z"
    }
   },
   "cell_type": "code",
   "source": [
    "# add code here\n",
    "# ..."
   ],
   "id": "7d0b47eddb8c0ee4",
   "outputs": [],
   "execution_count": 36
  },
  {
   "metadata": {
    "ExecuteTime": {
     "end_time": "2024-09-17T20:12:59.532297Z",
     "start_time": "2024-09-17T20:12:59.529840Z"
    }
   },
   "cell_type": "code",
   "source": [
    "# add code here\n",
    "# ..."
   ],
   "id": "cf8fc8c8dd2e3a58",
   "outputs": [],
   "execution_count": 37
  },
  {
   "metadata": {},
   "cell_type": "markdown",
   "source": "## Indexing",
   "id": "289a6ce2ca123679"
  },
  {
   "metadata": {
    "ExecuteTime": {
     "end_time": "2024-09-17T20:12:59.579441Z",
     "start_time": "2024-09-17T20:12:59.576926Z"
    }
   },
   "cell_type": "code",
   "source": [
    "# add code here\n",
    "# ..."
   ],
   "id": "b7624048caccf7f9",
   "outputs": [],
   "execution_count": 38
  },
  {
   "metadata": {
    "ExecuteTime": {
     "end_time": "2024-09-17T20:12:59.625655Z",
     "start_time": "2024-09-17T20:12:59.622970Z"
    }
   },
   "cell_type": "code",
   "source": [
    "# add code here\n",
    "# ..."
   ],
   "id": "c32423f8e645ef71",
   "outputs": [],
   "execution_count": 39
  },
  {
   "metadata": {
    "ExecuteTime": {
     "end_time": "2024-09-17T20:12:59.672739Z",
     "start_time": "2024-09-17T20:12:59.670494Z"
    }
   },
   "cell_type": "code",
   "source": [
    "# add code here\n",
    "# ..."
   ],
   "id": "aeac47ca04cb158f",
   "outputs": [],
   "execution_count": 40
  },
  {
   "metadata": {
    "ExecuteTime": {
     "end_time": "2024-09-17T20:12:59.719065Z",
     "start_time": "2024-09-17T20:12:59.716819Z"
    }
   },
   "cell_type": "code",
   "source": [
    "# add code here\n",
    "# ..."
   ],
   "id": "7562a1036f5a61ac",
   "outputs": [],
   "execution_count": 41
  },
  {
   "metadata": {},
   "cell_type": "markdown",
   "source": "## Arithmetic",
   "id": "b0d88da6def121c2"
  },
  {
   "metadata": {
    "ExecuteTime": {
     "end_time": "2024-09-17T20:12:59.764586Z",
     "start_time": "2024-09-17T20:12:59.762417Z"
    }
   },
   "cell_type": "code",
   "source": [
    "# add code here\n",
    "# ..."
   ],
   "id": "fecd9e746ea91dc4",
   "outputs": [],
   "execution_count": 42
  },
  {
   "metadata": {},
   "cell_type": "markdown",
   "source": "## Dot product",
   "id": "d889678e0dd1a101"
  },
  {
   "metadata": {
    "ExecuteTime": {
     "end_time": "2024-09-17T20:12:59.811468Z",
     "start_time": "2024-09-17T20:12:59.809147Z"
    }
   },
   "cell_type": "code",
   "source": [
    "# add code here\n",
    "# ..."
   ],
   "id": "362f282361456dce",
   "outputs": [],
   "execution_count": 43
  },
  {
   "metadata": {},
   "cell_type": "markdown",
   "source": "## Axis Operations",
   "id": "f0abb46d9dd41204"
  },
  {
   "metadata": {
    "ExecuteTime": {
     "end_time": "2024-09-17T20:12:59.856214Z",
     "start_time": "2024-09-17T20:12:59.854406Z"
    }
   },
   "cell_type": "code",
   "source": [
    "# add code here\n",
    "# ..."
   ],
   "id": "5a916757a8d36f78",
   "outputs": [],
   "execution_count": 44
  },
  {
   "metadata": {
    "ExecuteTime": {
     "end_time": "2024-09-17T20:12:59.902523Z",
     "start_time": "2024-09-17T20:12:59.900075Z"
    }
   },
   "cell_type": "code",
   "source": [
    "# add code here\n",
    "# ..."
   ],
   "id": "ddfdf253e4c24cdc",
   "outputs": [],
   "execution_count": 45
  },
  {
   "metadata": {},
   "cell_type": "markdown",
   "source": "## Broadcasting",
   "id": "50dd5f97d3f2e7ad"
  },
  {
   "metadata": {
    "ExecuteTime": {
     "end_time": "2024-09-17T20:12:59.949266Z",
     "start_time": "2024-09-17T20:12:59.946794Z"
    }
   },
   "cell_type": "code",
   "source": [
    "# add code here\n",
    "# ..."
   ],
   "id": "b304ef941f672558",
   "outputs": [],
   "execution_count": 46
  },
  {
   "metadata": {},
   "cell_type": "markdown",
   "source": "## Transpose",
   "id": "d0cc6e1a313b6bb3"
  },
  {
   "metadata": {
    "ExecuteTime": {
     "end_time": "2024-09-17T20:12:59.995177Z",
     "start_time": "2024-09-17T20:12:59.992819Z"
    }
   },
   "cell_type": "code",
   "source": [
    "# add code here\n",
    "# ..."
   ],
   "id": "4956e7b19ca01b52",
   "outputs": [],
   "execution_count": 47
  },
  {
   "metadata": {},
   "cell_type": "markdown",
   "source": "## Reshape",
   "id": "132dcac06b782d05"
  },
  {
   "metadata": {
    "ExecuteTime": {
     "end_time": "2024-09-17T20:13:00.041227Z",
     "start_time": "2024-09-17T20:13:00.038581Z"
    }
   },
   "cell_type": "code",
   "source": [
    "# add code here\n",
    "# ..."
   ],
   "id": "71532058f7d7771f",
   "outputs": [],
   "execution_count": 48
  },
  {
   "metadata": {},
   "cell_type": "markdown",
   "source": "## Joining",
   "id": "317fc86960e3f7cd"
  },
  {
   "metadata": {
    "ExecuteTime": {
     "end_time": "2024-09-17T20:13:00.087723Z",
     "start_time": "2024-09-17T20:13:00.085021Z"
    }
   },
   "cell_type": "code",
   "source": [
    "# add code here\n",
    "# ..."
   ],
   "id": "1b63c5d6901d7da6",
   "outputs": [],
   "execution_count": 49
  },
  {
   "metadata": {
    "ExecuteTime": {
     "end_time": "2024-09-17T20:13:00.134546Z",
     "start_time": "2024-09-17T20:13:00.132114Z"
    }
   },
   "cell_type": "code",
   "source": [
    "# add code here\n",
    "# ..."
   ],
   "id": "2d6eae76768ede66",
   "outputs": [],
   "execution_count": 50
  },
  {
   "metadata": {
    "ExecuteTime": {
     "end_time": "2024-09-17T20:13:00.180119Z",
     "start_time": "2024-09-17T20:13:00.177574Z"
    }
   },
   "cell_type": "code",
   "source": [
    "# add code here\n",
    "# ..."
   ],
   "id": "6215879916467e74",
   "outputs": [],
   "execution_count": 51
  },
  {
   "metadata": {},
   "cell_type": "markdown",
   "source": "## Expanding / Reducing",
   "id": "c296610ce672b7cd"
  },
  {
   "metadata": {
    "ExecuteTime": {
     "end_time": "2024-09-17T20:13:00.226251Z",
     "start_time": "2024-09-17T20:13:00.223623Z"
    }
   },
   "cell_type": "code",
   "source": [
    "# add code here\n",
    "# ..."
   ],
   "id": "5441cb89032735e8",
   "outputs": [],
   "execution_count": 52
  },
  {
   "metadata": {
    "ExecuteTime": {
     "end_time": "2024-09-17T20:13:00.271229Z",
     "start_time": "2024-09-17T20:13:00.269310Z"
    }
   },
   "cell_type": "code",
   "source": [
    "# add code here\n",
    "# ..."
   ],
   "id": "20fef0ccee4c9d0e",
   "outputs": [],
   "execution_count": 53
  },
  {
   "metadata": {},
   "cell_type": "markdown",
   "source": "## Arrays vs Lists",
   "id": "2704671750b07a70"
  },
  {
   "metadata": {
    "ExecuteTime": {
     "end_time": "2024-09-17T20:13:00.316676Z",
     "start_time": "2024-09-17T20:13:00.314374Z"
    }
   },
   "cell_type": "code",
   "source": [
    "# add code here\n",
    "# ..."
   ],
   "id": "e2f5f0db6b06560a",
   "outputs": [],
   "execution_count": 54
  },
  {
   "metadata": {
    "ExecuteTime": {
     "end_time": "2024-09-17T20:13:00.361758Z",
     "start_time": "2024-09-17T20:13:00.359537Z"
    }
   },
   "cell_type": "code",
   "source": [
    "# add code here\n",
    "# ..."
   ],
   "id": "bb72a7e997bab629",
   "outputs": [],
   "execution_count": 55
  },
  {
   "metadata": {
    "ExecuteTime": {
     "end_time": "2024-09-17T20:13:00.407966Z",
     "start_time": "2024-09-17T20:13:00.405670Z"
    }
   },
   "cell_type": "code",
   "source": [
    "# add code here\n",
    "# ..."
   ],
   "id": "c5530a69b3db4359",
   "outputs": [],
   "execution_count": 56
  },
  {
   "metadata": {},
   "cell_type": "markdown",
   "source": "# Functions",
   "id": "92bf61c3ced89675"
  },
  {
   "metadata": {},
   "cell_type": "markdown",
   "source": "## Math",
   "id": "d2b88a5805ef172f"
  },
  {
   "metadata": {
    "ExecuteTime": {
     "end_time": "2024-09-17T20:13:00.454284Z",
     "start_time": "2024-09-17T20:13:00.451608Z"
    }
   },
   "cell_type": "code",
   "source": [
    "# add code here\n",
    "# ..."
   ],
   "id": "46433aa64e16200a",
   "outputs": [],
   "execution_count": 57
  },
  {
   "metadata": {
    "ExecuteTime": {
     "end_time": "2024-09-17T20:13:00.498848Z",
     "start_time": "2024-09-17T20:13:00.496967Z"
    }
   },
   "cell_type": "code",
   "source": [
    "# add code here\n",
    "# ..."
   ],
   "id": "cdcfcff9b639b2e6",
   "outputs": [],
   "execution_count": 58
  },
  {
   "metadata": {},
   "cell_type": "markdown",
   "source": "## Diagrams",
   "id": "25eb26fbdc05f9e5"
  },
  {
   "metadata": {
    "ExecuteTime": {
     "end_time": "2024-09-17T20:13:00.544966Z",
     "start_time": "2024-09-17T20:13:00.542766Z"
    }
   },
   "cell_type": "code",
   "source": [
    "# add code here\n",
    "# ..."
   ],
   "id": "ef8909f42b8e1c40",
   "outputs": [],
   "execution_count": 59
  },
  {
   "metadata": {
    "ExecuteTime": {
     "end_time": "2024-09-17T20:13:00.590962Z",
     "start_time": "2024-09-17T20:13:00.588602Z"
    }
   },
   "cell_type": "code",
   "source": [
    "# add code here\n",
    "# ..."
   ],
   "id": "9b8efb3b8948c945",
   "outputs": [],
   "execution_count": 60
  },
  {
   "metadata": {},
   "cell_type": "markdown",
   "source": "# Derivatives",
   "id": "ebbd9b29fe64840f"
  },
  {
   "metadata": {},
   "cell_type": "code",
   "outputs": [],
   "execution_count": null,
   "source": [
    "# add code here\n",
    "# ..."
   ],
   "id": "119007fd9d02a652"
  }
 ],
 "metadata": {
  "kernelspec": {
   "display_name": "Python 3",
   "language": "python",
   "name": "python3"
  },
  "language_info": {
   "codemirror_mode": {
    "name": "ipython",
    "version": 2
   },
   "file_extension": ".py",
   "mimetype": "text/x-python",
   "name": "python",
   "nbconvert_exporter": "python",
   "pygments_lexer": "ipython2",
   "version": "2.7.6"
  }
 },
 "nbformat": 4,
 "nbformat_minor": 5
}

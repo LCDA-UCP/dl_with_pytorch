{
 "cells": [
  {
   "cell_type": "markdown",
   "id": "e3ddb45588bb58d1",
   "metadata": {},
   "source": [
    "# Numpy"
   ]
  },
  {
   "cell_type": "code",
   "execution_count": 33,
   "id": "4c2087b03de41957",
   "metadata": {
    "ExecuteTime": {
     "end_time": "2024-09-17T20:12:59.345537Z",
     "start_time": "2024-09-17T20:12:59.343706Z"
    }
   },
   "outputs": [],
   "source": [
    "# add code here\n",
    "# ..."
   ]
  },
  {
   "cell_type": "markdown",
   "id": "56294ba5af7786ba",
   "metadata": {},
   "source": [
    "## Basics"
   ]
  },
  {
   "cell_type": "code",
   "execution_count": 34,
   "id": "dc99456e3a60616b",
   "metadata": {
    "ExecuteTime": {
     "end_time": "2024-09-17T20:12:59.390044Z",
     "start_time": "2024-09-17T20:12:59.388333Z"
    }
   },
   "outputs": [],
   "source": [
    "# add code here\n",
    "# ..."
   ]
  },
  {
   "cell_type": "code",
   "execution_count": 35,
   "id": "97ad7044b9c53871",
   "metadata": {
    "ExecuteTime": {
     "end_time": "2024-09-17T20:12:59.436606Z",
     "start_time": "2024-09-17T20:12:59.434424Z"
    }
   },
   "outputs": [],
   "source": [
    "# add code here\n",
    "# ..."
   ]
  },
  {
   "cell_type": "code",
   "execution_count": 36,
   "id": "7d0b47eddb8c0ee4",
   "metadata": {
    "ExecuteTime": {
     "end_time": "2024-09-17T20:12:59.485322Z",
     "start_time": "2024-09-17T20:12:59.482163Z"
    }
   },
   "outputs": [],
   "source": [
    "# add code here\n",
    "# ..."
   ]
  },
  {
   "cell_type": "code",
   "execution_count": 37,
   "id": "cf8fc8c8dd2e3a58",
   "metadata": {
    "ExecuteTime": {
     "end_time": "2024-09-17T20:12:59.532297Z",
     "start_time": "2024-09-17T20:12:59.529840Z"
    }
   },
   "outputs": [],
   "source": [
    "# add code here\n",
    "# ..."
   ]
  },
  {
   "cell_type": "markdown",
   "id": "289a6ce2ca123679",
   "metadata": {},
   "source": [
    "## Indexing"
   ]
  },
  {
   "cell_type": "code",
   "execution_count": 38,
   "id": "b7624048caccf7f9",
   "metadata": {
    "ExecuteTime": {
     "end_time": "2024-09-17T20:12:59.579441Z",
     "start_time": "2024-09-17T20:12:59.576926Z"
    }
   },
   "outputs": [],
   "source": [
    "# add code here\n",
    "# ..."
   ]
  },
  {
   "cell_type": "code",
   "execution_count": 39,
   "id": "c32423f8e645ef71",
   "metadata": {
    "ExecuteTime": {
     "end_time": "2024-09-17T20:12:59.625655Z",
     "start_time": "2024-09-17T20:12:59.622970Z"
    }
   },
   "outputs": [],
   "source": [
    "# add code here\n",
    "# ..."
   ]
  },
  {
   "cell_type": "code",
   "execution_count": 40,
   "id": "aeac47ca04cb158f",
   "metadata": {
    "ExecuteTime": {
     "end_time": "2024-09-17T20:12:59.672739Z",
     "start_time": "2024-09-17T20:12:59.670494Z"
    }
   },
   "outputs": [],
   "source": [
    "# add code here\n",
    "# ..."
   ]
  },
  {
   "cell_type": "code",
   "execution_count": 41,
   "id": "7562a1036f5a61ac",
   "metadata": {
    "ExecuteTime": {
     "end_time": "2024-09-17T20:12:59.719065Z",
     "start_time": "2024-09-17T20:12:59.716819Z"
    }
   },
   "outputs": [],
   "source": [
    "# add code here\n",
    "# ..."
   ]
  },
  {
   "cell_type": "markdown",
   "id": "b0d88da6def121c2",
   "metadata": {},
   "source": [
    "## Arithmetic"
   ]
  },
  {
   "cell_type": "code",
   "execution_count": 42,
   "id": "fecd9e746ea91dc4",
   "metadata": {
    "ExecuteTime": {
     "end_time": "2024-09-17T20:12:59.764586Z",
     "start_time": "2024-09-17T20:12:59.762417Z"
    }
   },
   "outputs": [],
   "source": [
    "# add code here\n",
    "# ..."
   ]
  },
  {
   "cell_type": "markdown",
   "id": "d889678e0dd1a101",
   "metadata": {},
   "source": [
    "## Dot product"
   ]
  },
  {
   "cell_type": "code",
   "execution_count": 43,
   "id": "362f282361456dce",
   "metadata": {
    "ExecuteTime": {
     "end_time": "2024-09-17T20:12:59.811468Z",
     "start_time": "2024-09-17T20:12:59.809147Z"
    }
   },
   "outputs": [],
   "source": [
    "# add code here\n",
    "# ..."
   ]
  },
  {
   "cell_type": "markdown",
   "id": "f0abb46d9dd41204",
   "metadata": {},
   "source": [
    "## Axis Operations"
   ]
  },
  {
   "cell_type": "code",
   "execution_count": 44,
   "id": "5a916757a8d36f78",
   "metadata": {
    "ExecuteTime": {
     "end_time": "2024-09-17T20:12:59.856214Z",
     "start_time": "2024-09-17T20:12:59.854406Z"
    }
   },
   "outputs": [],
   "source": [
    "# add code here\n",
    "# ..."
   ]
  },
  {
   "cell_type": "code",
   "execution_count": 45,
   "id": "ddfdf253e4c24cdc",
   "metadata": {
    "ExecuteTime": {
     "end_time": "2024-09-17T20:12:59.902523Z",
     "start_time": "2024-09-17T20:12:59.900075Z"
    }
   },
   "outputs": [],
   "source": [
    "# add code here\n",
    "# ..."
   ]
  },
  {
   "cell_type": "markdown",
   "id": "50dd5f97d3f2e7ad",
   "metadata": {},
   "source": [
    "## Broadcasting"
   ]
  },
  {
   "cell_type": "code",
   "execution_count": 46,
   "id": "b304ef941f672558",
   "metadata": {
    "ExecuteTime": {
     "end_time": "2024-09-17T20:12:59.949266Z",
     "start_time": "2024-09-17T20:12:59.946794Z"
    }
   },
   "outputs": [],
   "source": [
    "# add code here\n",
    "# ..."
   ]
  },
  {
   "cell_type": "markdown",
   "id": "d0cc6e1a313b6bb3",
   "metadata": {},
   "source": [
    "## Transpose"
   ]
  },
  {
   "cell_type": "code",
   "execution_count": 47,
   "id": "4956e7b19ca01b52",
   "metadata": {
    "ExecuteTime": {
     "end_time": "2024-09-17T20:12:59.995177Z",
     "start_time": "2024-09-17T20:12:59.992819Z"
    }
   },
   "outputs": [],
   "source": [
    "# add code here\n",
    "# ..."
   ]
  },
  {
   "cell_type": "markdown",
   "id": "132dcac06b782d05",
   "metadata": {},
   "source": [
    "## Reshape"
   ]
  },
  {
   "cell_type": "code",
   "execution_count": 48,
   "id": "71532058f7d7771f",
   "metadata": {
    "ExecuteTime": {
     "end_time": "2024-09-17T20:13:00.041227Z",
     "start_time": "2024-09-17T20:13:00.038581Z"
    }
   },
   "outputs": [],
   "source": [
    "# add code here\n",
    "# ..."
   ]
  },
  {
   "cell_type": "markdown",
   "id": "317fc86960e3f7cd",
   "metadata": {},
   "source": [
    "## Joining"
   ]
  },
  {
   "cell_type": "code",
   "execution_count": 49,
   "id": "1b63c5d6901d7da6",
   "metadata": {
    "ExecuteTime": {
     "end_time": "2024-09-17T20:13:00.087723Z",
     "start_time": "2024-09-17T20:13:00.085021Z"
    }
   },
   "outputs": [],
   "source": [
    "# add code here\n",
    "# ..."
   ]
  },
  {
   "cell_type": "code",
   "execution_count": 50,
   "id": "2d6eae76768ede66",
   "metadata": {
    "ExecuteTime": {
     "end_time": "2024-09-17T20:13:00.134546Z",
     "start_time": "2024-09-17T20:13:00.132114Z"
    }
   },
   "outputs": [],
   "source": [
    "# add code here\n",
    "# ..."
   ]
  },
  {
   "cell_type": "code",
   "execution_count": 51,
   "id": "6215879916467e74",
   "metadata": {
    "ExecuteTime": {
     "end_time": "2024-09-17T20:13:00.180119Z",
     "start_time": "2024-09-17T20:13:00.177574Z"
    }
   },
   "outputs": [],
   "source": [
    "# add code here\n",
    "# ..."
   ]
  },
  {
   "cell_type": "markdown",
   "id": "c296610ce672b7cd",
   "metadata": {},
   "source": [
    "## Expanding / Reducing"
   ]
  },
  {
   "cell_type": "code",
   "execution_count": 52,
   "id": "5441cb89032735e8",
   "metadata": {
    "ExecuteTime": {
     "end_time": "2024-09-17T20:13:00.226251Z",
     "start_time": "2024-09-17T20:13:00.223623Z"
    }
   },
   "outputs": [],
   "source": [
    "# add code here\n",
    "# ..."
   ]
  },
  {
   "cell_type": "code",
   "execution_count": 53,
   "id": "20fef0ccee4c9d0e",
   "metadata": {
    "ExecuteTime": {
     "end_time": "2024-09-17T20:13:00.271229Z",
     "start_time": "2024-09-17T20:13:00.269310Z"
    }
   },
   "outputs": [],
   "source": [
    "# add code here\n",
    "# ..."
   ]
  },
  {
   "cell_type": "markdown",
   "id": "2704671750b07a70",
   "metadata": {},
   "source": [
    "## Arrays vs Lists"
   ]
  },
  {
   "cell_type": "code",
   "execution_count": 54,
   "id": "e2f5f0db6b06560a",
   "metadata": {
    "ExecuteTime": {
     "end_time": "2024-09-17T20:13:00.316676Z",
     "start_time": "2024-09-17T20:13:00.314374Z"
    }
   },
   "outputs": [],
   "source": [
    "# add code here\n",
    "# ..."
   ]
  },
  {
   "cell_type": "code",
   "execution_count": 55,
   "id": "bb72a7e997bab629",
   "metadata": {
    "ExecuteTime": {
     "end_time": "2024-09-17T20:13:00.361758Z",
     "start_time": "2024-09-17T20:13:00.359537Z"
    }
   },
   "outputs": [],
   "source": [
    "# add code here\n",
    "# ..."
   ]
  },
  {
   "cell_type": "code",
   "execution_count": 56,
   "id": "c5530a69b3db4359",
   "metadata": {
    "ExecuteTime": {
     "end_time": "2024-09-17T20:13:00.407966Z",
     "start_time": "2024-09-17T20:13:00.405670Z"
    }
   },
   "outputs": [],
   "source": [
    "# add code here\n",
    "# ..."
   ]
  },
  {
   "cell_type": "markdown",
   "id": "92bf61c3ced89675",
   "metadata": {},
   "source": [
    "# Functions"
   ]
  },
  {
   "cell_type": "markdown",
   "id": "d2b88a5805ef172f",
   "metadata": {},
   "source": [
    "## Math"
   ]
  },
  {
   "cell_type": "code",
   "execution_count": 57,
   "id": "46433aa64e16200a",
   "metadata": {
    "ExecuteTime": {
     "end_time": "2024-09-17T20:13:00.454284Z",
     "start_time": "2024-09-17T20:13:00.451608Z"
    }
   },
   "outputs": [],
   "source": [
    "# add code here\n",
    "# ..."
   ]
  },
  {
   "cell_type": "code",
   "execution_count": 58,
   "id": "cdcfcff9b639b2e6",
   "metadata": {
    "ExecuteTime": {
     "end_time": "2024-09-17T20:13:00.498848Z",
     "start_time": "2024-09-17T20:13:00.496967Z"
    }
   },
   "outputs": [],
   "source": [
    "# add code here\n",
    "# ..."
   ]
  },
  {
   "cell_type": "markdown",
   "id": "25eb26fbdc05f9e5",
   "metadata": {},
   "source": [
    "## Diagrams"
   ]
  },
  {
   "cell_type": "code",
   "execution_count": 59,
   "id": "ef8909f42b8e1c40",
   "metadata": {
    "ExecuteTime": {
     "end_time": "2024-09-17T20:13:00.544966Z",
     "start_time": "2024-09-17T20:13:00.542766Z"
    }
   },
   "outputs": [],
   "source": [
    "# add code here\n",
    "# ..."
   ]
  },
  {
   "cell_type": "code",
   "execution_count": 60,
   "id": "9b8efb3b8948c945",
   "metadata": {
    "ExecuteTime": {
     "end_time": "2024-09-17T20:13:00.590962Z",
     "start_time": "2024-09-17T20:13:00.588602Z"
    }
   },
   "outputs": [],
   "source": [
    "# add code here\n",
    "# ..."
   ]
  },
  {
   "cell_type": "markdown",
   "id": "ebbd9b29fe64840f",
   "metadata": {},
   "source": [
    "# Derivatives"
   ]
  },
  {
   "cell_type": "code",
   "execution_count": null,
   "id": "119007fd9d02a652",
   "metadata": {},
   "outputs": [],
   "source": [
    "# add code here\n",
    "# ..."
   ]
  }
 ],
 "metadata": {
  "kernelspec": {
   "display_name": "Python 3",
   "language": "python",
   "name": "python3"
  },
  "language_info": {
   "codemirror_mode": {
    "name": "ipython",
    "version": 2
   },
   "file_extension": ".py",
   "mimetype": "text/x-python",
   "name": "python",
   "nbconvert_exporter": "python",
   "pygments_lexer": "ipython2",
   "version": "2.7.6"
  }
 },
 "nbformat": 4,
 "nbformat_minor": 5
}

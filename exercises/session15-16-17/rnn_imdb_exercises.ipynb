{
 "cells": [
  {
   "cell_type": "markdown",
   "id": "9cf2cd67a7fb4ec1",
   "metadata": {},
   "source": [
    "# RNNs Tutorial with PyTorch on the IMDB Dataset\n",
    "\n",
    "In this tutorial, we will build a Recurrent Neural Network (CNN) to classify movie reviews as positive or negative using the IMDB dataset.\n",
    " \n",
    "We'll go through the following steps:\n",
    "\n",
    "1. **Data Loading, Processing, and Augmentation**\n",
    "2. **Data Exploration**\n",
    "3. **Model Building**\n",
    "4. **Model Training**\n",
    "5. **Model Evaluation**\n",
    "\n"
   ]
  },
  {
   "cell_type": "markdown",
   "id": "de854ac82e9a020b",
   "metadata": {},
   "source": [
    "## 1. Data Loading, Processing, and Augmentation\n",
    "\n",
    "The IMDB dataset contains 50,000 movie reviews, split into 25,000 reviews for training and 25,000 reviews for testing. The dataset is preprocessed, and each review is encoded as a sequence of word indexes.\n",
    "\n",
    "### Exercise 1.1 - Data Loading and Processing\n",
    "\n",
    "1. Load the data from `'../../data/imdb_dataset.zip'` using pandas.\n",
    "2. Convert the `sentiment` column to a binary label (0 for negative and 1 for positive).\n",
    "3. Split the dataset into training and test sets (25,000 samples each).\n",
    "4. Preprocess the `review` column by converting it to lowercase and removing special characters, punctuation and stopwords. Additionally, use a stemming or lemmatization technique.\n",
    "5. Build a vocabulary of unique words in the training dataset.\n",
    "6. Tokenize the reviews using the vocabulary, i.e., replace each word with its index in the vocabulary. Note that the reviews should be padded to a fixed length.\n",
    "7. Create the data loaders for training and test datasets.\n"
   ]
  },
  {
   "cell_type": "code",
   "execution_count": 94,
   "id": "d98248f80f8d704a",
   "metadata": {
    "ExecuteTime": {
     "end_time": "2024-11-07T00:33:19.484382Z",
     "start_time": "2024-11-07T00:33:18.818758Z"
    }
   },
   "outputs": [
    {
     "data": {
      "text/html": [
       "<div>\n",
       "<style scoped>\n",
       "    .dataframe tbody tr th:only-of-type {\n",
       "        vertical-align: middle;\n",
       "    }\n",
       "\n",
       "    .dataframe tbody tr th {\n",
       "        vertical-align: top;\n",
       "    }\n",
       "\n",
       "    .dataframe thead th {\n",
       "        text-align: right;\n",
       "    }\n",
       "</style>\n",
       "<table border=\"1\" class=\"dataframe\">\n",
       "  <thead>\n",
       "    <tr style=\"text-align: right;\">\n",
       "      <th></th>\n",
       "      <th>review</th>\n",
       "      <th>sentiment</th>\n",
       "    </tr>\n",
       "  </thead>\n",
       "  <tbody>\n",
       "    <tr>\n",
       "      <th>0</th>\n",
       "      <td>One of the other reviewers has mentioned that ...</td>\n",
       "      <td>positive</td>\n",
       "    </tr>\n",
       "    <tr>\n",
       "      <th>1</th>\n",
       "      <td>A wonderful little production. &lt;br /&gt;&lt;br /&gt;The...</td>\n",
       "      <td>positive</td>\n",
       "    </tr>\n",
       "    <tr>\n",
       "      <th>2</th>\n",
       "      <td>I thought this was a wonderful way to spend ti...</td>\n",
       "      <td>positive</td>\n",
       "    </tr>\n",
       "    <tr>\n",
       "      <th>3</th>\n",
       "      <td>Basically there's a family where a little boy ...</td>\n",
       "      <td>negative</td>\n",
       "    </tr>\n",
       "    <tr>\n",
       "      <th>4</th>\n",
       "      <td>Petter Mattei's \"Love in the Time of Money\" is...</td>\n",
       "      <td>positive</td>\n",
       "    </tr>\n",
       "    <tr>\n",
       "      <th>...</th>\n",
       "      <td>...</td>\n",
       "      <td>...</td>\n",
       "    </tr>\n",
       "    <tr>\n",
       "      <th>49995</th>\n",
       "      <td>I thought this movie did a down right good job...</td>\n",
       "      <td>positive</td>\n",
       "    </tr>\n",
       "    <tr>\n",
       "      <th>49996</th>\n",
       "      <td>Bad plot, bad dialogue, bad acting, idiotic di...</td>\n",
       "      <td>negative</td>\n",
       "    </tr>\n",
       "    <tr>\n",
       "      <th>49997</th>\n",
       "      <td>I am a Catholic taught in parochial elementary...</td>\n",
       "      <td>negative</td>\n",
       "    </tr>\n",
       "    <tr>\n",
       "      <th>49998</th>\n",
       "      <td>I'm going to have to disagree with the previou...</td>\n",
       "      <td>negative</td>\n",
       "    </tr>\n",
       "    <tr>\n",
       "      <th>49999</th>\n",
       "      <td>No one expects the Star Trek movies to be high...</td>\n",
       "      <td>negative</td>\n",
       "    </tr>\n",
       "  </tbody>\n",
       "</table>\n",
       "<p>50000 rows x 2 columns</p>\n",
       "</div>"
      ],
      "text/plain": [
       "                                                  review sentiment\n",
       "0      One of the other reviewers has mentioned that ...  positive\n",
       "1      A wonderful little production. <br /><br />The...  positive\n",
       "2      I thought this was a wonderful way to spend ti...  positive\n",
       "3      Basically there's a family where a little boy ...  negative\n",
       "4      Petter Mattei's \"Love in the Time of Money\" is...  positive\n",
       "...                                                  ...       ...\n",
       "49995  I thought this movie did a down right good job...  positive\n",
       "49996  Bad plot, bad dialogue, bad acting, idiotic di...  negative\n",
       "49997  I am a Catholic taught in parochial elementary...  negative\n",
       "49998  I'm going to have to disagree with the previou...  negative\n",
       "49999  No one expects the Star Trek movies to be high...  negative\n",
       "\n",
       "[50000 rows x 2 columns]"
      ]
     },
     "execution_count": 94,
     "metadata": {},
     "output_type": "execute_result"
    }
   ],
   "source": [
    "import modin.pandas as pd\n",
    "\n",
    "df = pd.read_csv('../../data/imdb_dataset.zip', compression='zip')\n",
    "df"
   ]
  },
  {
   "cell_type": "code",
   "execution_count": 95,
   "id": "ac3f7c82",
   "metadata": {},
   "outputs": [
    {
     "data": {
      "text/html": [
       "<div>\n",
       "<style scoped>\n",
       "    .dataframe tbody tr th:only-of-type {\n",
       "        vertical-align: middle;\n",
       "    }\n",
       "\n",
       "    .dataframe tbody tr th {\n",
       "        vertical-align: top;\n",
       "    }\n",
       "\n",
       "    .dataframe thead th {\n",
       "        text-align: right;\n",
       "    }\n",
       "</style>\n",
       "<table border=\"1\" class=\"dataframe\">\n",
       "  <thead>\n",
       "    <tr style=\"text-align: right;\">\n",
       "      <th></th>\n",
       "      <th>review</th>\n",
       "      <th>sentiment</th>\n",
       "    </tr>\n",
       "  </thead>\n",
       "  <tbody>\n",
       "    <tr>\n",
       "      <th>0</th>\n",
       "      <td>One of the other reviewers has mentioned that ...</td>\n",
       "      <td>1</td>\n",
       "    </tr>\n",
       "    <tr>\n",
       "      <th>1</th>\n",
       "      <td>A wonderful little production. &lt;br /&gt;&lt;br /&gt;The...</td>\n",
       "      <td>1</td>\n",
       "    </tr>\n",
       "    <tr>\n",
       "      <th>2</th>\n",
       "      <td>I thought this was a wonderful way to spend ti...</td>\n",
       "      <td>1</td>\n",
       "    </tr>\n",
       "    <tr>\n",
       "      <th>3</th>\n",
       "      <td>Basically there's a family where a little boy ...</td>\n",
       "      <td>0</td>\n",
       "    </tr>\n",
       "    <tr>\n",
       "      <th>4</th>\n",
       "      <td>Petter Mattei's \"Love in the Time of Money\" is...</td>\n",
       "      <td>1</td>\n",
       "    </tr>\n",
       "    <tr>\n",
       "      <th>...</th>\n",
       "      <td>...</td>\n",
       "      <td>...</td>\n",
       "    </tr>\n",
       "    <tr>\n",
       "      <th>49995</th>\n",
       "      <td>I thought this movie did a down right good job...</td>\n",
       "      <td>1</td>\n",
       "    </tr>\n",
       "    <tr>\n",
       "      <th>49996</th>\n",
       "      <td>Bad plot, bad dialogue, bad acting, idiotic di...</td>\n",
       "      <td>0</td>\n",
       "    </tr>\n",
       "    <tr>\n",
       "      <th>49997</th>\n",
       "      <td>I am a Catholic taught in parochial elementary...</td>\n",
       "      <td>0</td>\n",
       "    </tr>\n",
       "    <tr>\n",
       "      <th>49998</th>\n",
       "      <td>I'm going to have to disagree with the previou...</td>\n",
       "      <td>0</td>\n",
       "    </tr>\n",
       "    <tr>\n",
       "      <th>49999</th>\n",
       "      <td>No one expects the Star Trek movies to be high...</td>\n",
       "      <td>0</td>\n",
       "    </tr>\n",
       "  </tbody>\n",
       "</table>\n",
       "<p>50000 rows x 2 columns</p>\n",
       "</div>"
      ],
      "text/plain": [
       "                                                  review  sentiment\n",
       "0      One of the other reviewers has mentioned that ...          1\n",
       "1      A wonderful little production. <br /><br />The...          1\n",
       "2      I thought this was a wonderful way to spend ti...          1\n",
       "3      Basically there's a family where a little boy ...          0\n",
       "4      Petter Mattei's \"Love in the Time of Money\" is...          1\n",
       "...                                                  ...        ...\n",
       "49995  I thought this movie did a down right good job...          1\n",
       "49996  Bad plot, bad dialogue, bad acting, idiotic di...          0\n",
       "49997  I am a Catholic taught in parochial elementary...          0\n",
       "49998  I'm going to have to disagree with the previou...          0\n",
       "49999  No one expects the Star Trek movies to be high...          0\n",
       "\n",
       "[50000 rows x 2 columns]"
      ]
     },
     "execution_count": 95,
     "metadata": {},
     "output_type": "execute_result"
    }
   ],
   "source": [
    "df['sentiment'] = df['sentiment'].map({'positive': 1, 'negative': 0})\n",
    "df"
   ]
  },
  {
   "cell_type": "code",
   "execution_count": 96,
   "id": "4d35a16ffac61778",
   "metadata": {
    "ExecuteTime": {
     "end_time": "2024-11-07T00:33:19.612192Z",
     "start_time": "2024-11-07T00:33:19.517002Z"
    }
   },
   "outputs": [
    {
     "data": {
      "text/plain": [
       "((25000, 2), (25000, 2))"
      ]
     },
     "execution_count": 96,
     "metadata": {},
     "output_type": "execute_result"
    }
   ],
   "source": [
    "from sklearn.model_selection import train_test_split\n",
    "\n",
    "train, test = train_test_split(df, train_size=0.5, random_state=42, stratify=df['sentiment'])\n",
    "\n",
    "train.shape, test.shape"
   ]
  },
  {
   "cell_type": "code",
   "execution_count": 97,
   "id": "bc4ac7b9",
   "metadata": {},
   "outputs": [
    {
     "data": {
      "text/plain": [
       "(sentiment\n",
       " 0    12500\n",
       " 1    12500\n",
       " Name: count, dtype: int64,\n",
       " sentiment\n",
       " 0    12500\n",
       " 1    12500\n",
       " Name: count, dtype: int64)"
      ]
     },
     "execution_count": 97,
     "metadata": {},
     "output_type": "execute_result"
    }
   ],
   "source": [
    "train['sentiment'].value_counts(), test['sentiment'].value_counts()"
   ]
  },
  {
   "cell_type": "code",
   "execution_count": 98,
   "id": "d79df721",
   "metadata": {},
   "outputs": [
    {
     "name": "stderr",
     "output_type": "stream",
     "text": [
      "[nltk_data] Downloading package punkt to\n",
      "[nltk_data]     C:\\Users\\diogo\\AppData\\Roaming\\nltk_data...\n",
      "[nltk_data]   Package punkt is already up-to-date!\n",
      "[nltk_data] Downloading package stopwords to\n",
      "[nltk_data]     C:\\Users\\diogo\\AppData\\Roaming\\nltk_data...\n",
      "[nltk_data]   Package stopwords is already up-to-date!\n"
     ]
    }
   ],
   "source": [
    "import nltk\n",
    "from nltk.corpus import stopwords\n",
    "from nltk.tokenize import word_tokenize\n",
    "from nltk.stem import PorterStemmer\n",
    "import re\n",
    "\n",
    "nltk.download('punkt')\n",
    "nltk.download('stopwords')\n",
    "\n",
    "stop_words = set(stopwords.words('english'))\n",
    "stemmer = PorterStemmer()"
   ]
  },
  {
   "cell_type": "code",
   "execution_count": 99,
   "id": "4c766f3c",
   "metadata": {},
   "outputs": [
    {
     "data": {
      "text/plain": [
       "<bound method BasePandasDataset.head of                                                   review  sentiment\n",
       "3055   Trio's vignettes were insightful and quite enj...          1\n",
       "47326  I had never heard of this one before the owner...          0\n",
       "48869  This is an excellent but hard to find trippy W...          1\n",
       "48623  I am a huge fan of big, loud, trashy, complete...          1\n",
       "39657  Easily Lucio Fulci's most respected film, \"Don...          1\n",
       "...                                                  ...        ...\n",
       "21552  Recent years have seen a number of biopics of ...          1\n",
       "10610  You may say to yourself, \"Don Johnson as Elvis...          0\n",
       "20104  The title refers not to a questionable poker h...          1\n",
       "35597  this is by far the most pathetic movie Indian ...          0\n",
       "27491  This movie forever left an impression on me. I...          0\n",
       "\n",
       "[25000 rows x 2 columns]>"
      ]
     },
     "execution_count": 99,
     "metadata": {},
     "output_type": "execute_result"
    }
   ],
   "source": [
    "train.head"
   ]
  },
  {
   "cell_type": "code",
   "execution_count": 100,
   "id": "b973103232079f75",
   "metadata": {
    "ExecuteTime": {
     "end_time": "2024-11-07T00:34:19.618537Z",
     "start_time": "2024-11-07T00:33:20.165462Z"
    }
   },
   "outputs": [],
   "source": [
    "def preprocess_text(text):\n",
    "    text = text.lower()  # Lowercase\n",
    "    text = re.sub(r'http\\S+|www\\S+|https\\S+', '', text, flags=re.MULTILINE)  # Remove URLs\n",
    "    text = re.sub(r'\\W+', ' ', text)  # Remove non-word/non-whitespace characters\n",
    "    text = re.sub(r'\\d+', '', text)  # Remove digits\n",
    "    tokens = [word for word in text.split()]  # Tokenize text\n",
    "    words = [word for word in tokens if word not in stop_words]  # Remove stop words\n",
    "    words = [stemmer.stem(word) for word in words]  # Perform stemming\n",
    "    return ' '.join(words)"
   ]
  },
  {
   "cell_type": "code",
   "execution_count": 101,
   "id": "45c1c9bd",
   "metadata": {},
   "outputs": [
    {
     "data": {
      "text/html": [
       "<div>\n",
       "<style scoped>\n",
       "    .dataframe tbody tr th:only-of-type {\n",
       "        vertical-align: middle;\n",
       "    }\n",
       "\n",
       "    .dataframe tbody tr th {\n",
       "        vertical-align: top;\n",
       "    }\n",
       "\n",
       "    .dataframe thead th {\n",
       "        text-align: right;\n",
       "    }\n",
       "</style>\n",
       "<table border=\"1\" class=\"dataframe\">\n",
       "  <thead>\n",
       "    <tr style=\"text-align: right;\">\n",
       "      <th></th>\n",
       "      <th>review</th>\n",
       "      <th>sentiment</th>\n",
       "      <th>prepoc_review</th>\n",
       "    </tr>\n",
       "  </thead>\n",
       "  <tbody>\n",
       "    <tr>\n",
       "      <th>3055</th>\n",
       "      <td>Trio's vignettes were insightful and quite enj...</td>\n",
       "      <td>1</td>\n",
       "      <td>trio vignett insight quit enjoy curiou see man...</td>\n",
       "    </tr>\n",
       "    <tr>\n",
       "      <th>47326</th>\n",
       "      <td>I had never heard of this one before the owner...</td>\n",
       "      <td>0</td>\n",
       "      <td>never heard one owner local dvd rental outlet ...</td>\n",
       "    </tr>\n",
       "    <tr>\n",
       "      <th>48869</th>\n",
       "      <td>This is an excellent but hard to find trippy W...</td>\n",
       "      <td>1</td>\n",
       "      <td>excel hard find trippi world war spi thriller ...</td>\n",
       "    </tr>\n",
       "    <tr>\n",
       "      <th>48623</th>\n",
       "      <td>I am a huge fan of big, loud, trashy, complete...</td>\n",
       "      <td>1</td>\n",
       "      <td>huge fan big loud trashi complet stupid action...</td>\n",
       "    </tr>\n",
       "    <tr>\n",
       "      <th>39657</th>\n",
       "      <td>Easily Lucio Fulci's most respected film, \"Don...</td>\n",
       "      <td>1</td>\n",
       "      <td>easili lucio fulci respect film tortur duckl h...</td>\n",
       "    </tr>\n",
       "  </tbody>\n",
       "</table>\n",
       "</div>"
      ],
      "text/plain": [
       "                                                  review  sentiment  \\\n",
       "3055   Trio's vignettes were insightful and quite enj...          1   \n",
       "47326  I had never heard of this one before the owner...          0   \n",
       "48869  This is an excellent but hard to find trippy W...          1   \n",
       "48623  I am a huge fan of big, loud, trashy, complete...          1   \n",
       "39657  Easily Lucio Fulci's most respected film, \"Don...          1   \n",
       "\n",
       "                                           prepoc_review  \n",
       "3055   trio vignett insight quit enjoy curiou see man...  \n",
       "47326  never heard one owner local dvd rental outlet ...  \n",
       "48869  excel hard find trippi world war spi thriller ...  \n",
       "48623  huge fan big loud trashi complet stupid action...  \n",
       "39657  easili lucio fulci respect film tortur duckl h...  "
      ]
     },
     "execution_count": 101,
     "metadata": {},
     "output_type": "execute_result"
    }
   ],
   "source": [
    "train['prepoc_review'] = train['review'].apply(preprocess_text)\n",
    "test['prepoc_review'] = test['review'].apply(preprocess_text)\n",
    "\n",
    "train.head()"
   ]
  },
  {
   "cell_type": "code",
   "execution_count": 111,
   "id": "ca686b162ef1e561",
   "metadata": {
    "ExecuteTime": {
     "end_time": "2024-11-07T00:34:37.504490Z",
     "start_time": "2024-11-07T00:34:36.819327Z"
    }
   },
   "outputs": [],
   "source": [
    "def tokenize_text(text):\n",
    "    return word_tokenize(text)\n",
    "\n",
    "train['tokens'] = train['prepoc_review'].apply(tokenize_text)"
   ]
  },
  {
   "cell_type": "code",
   "execution_count": 115,
   "id": "570e293bcd709a1f",
   "metadata": {
    "ExecuteTime": {
     "end_time": "2024-11-07T00:34:38.455884Z",
     "start_time": "2024-11-07T00:34:38.446185Z"
    }
   },
   "outputs": [
    {
     "data": {
      "text/plain": [
       "br               99890\n",
       "movi             51648\n",
       "film             48360\n",
       "one              27870\n",
       "like             22425\n",
       "                 ...  \n",
       "spous               58\n",
       "baron               58\n",
       "kristofferson       58\n",
       "redund              58\n",
       "lightn              58\n",
       "Name: count, Length: 5000, dtype: int64"
      ]
     },
     "execution_count": 115,
     "metadata": {},
     "output_type": "execute_result"
    }
   ],
   "source": [
    "top5000 = pd.Series([word for tokens in train['tokens'] for word in tokens]).value_counts()[:5000]\n",
    "\n",
    "top5000"
   ]
  },
  {
   "cell_type": "code",
   "execution_count": 104,
   "id": "116fc3f49260ae1c",
   "metadata": {
    "ExecuteTime": {
     "end_time": "2024-11-07T00:34:39.327892Z",
     "start_time": "2024-11-07T00:34:39.185233Z"
    }
   },
   "outputs": [],
   "source": [
    "# ..."
   ]
  },
  {
   "cell_type": "code",
   "execution_count": 115,
   "id": "560106d252698ec9",
   "metadata": {
    "ExecuteTime": {
     "end_time": "2024-11-07T00:34:41.462962Z",
     "start_time": "2024-11-07T00:34:40.054782Z"
    }
   },
   "outputs": [],
   "source": [
    "# ..."
   ]
  },
  {
   "cell_type": "markdown",
   "id": "7a2ad79060d1313f",
   "metadata": {},
   "source": [
    "### Exercise 1.2 - Data Augmentation\n",
    "\n",
    "1. Define a function to replace random words with synonyms from WordNet in the reviews.\n",
    "2. Augment the training dataset by replacing words in a few reviews with synonyms.\n",
    "\n",
    "Note: Never augment the test dataset. It's essential to evaluate the model on the original data."
   ]
  },
  {
   "cell_type": "code",
   "execution_count": 116,
   "id": "cec1e57df2661d62",
   "metadata": {
    "ExecuteTime": {
     "end_time": "2024-11-07T00:34:41.825243Z",
     "start_time": "2024-11-07T00:34:41.816181Z"
    }
   },
   "outputs": [
    {
     "name": "stdout",
     "output_type": "stream",
     "text": [
      "Original: \"Congo\" is based on the best-selling novel by Michael Crichton, which I thought lacked Crichton's usual charm, smart characters and\n",
      "Augmented: \"Congo\" is based on the best-selling novel by Michael Crichton, which I thought lacked Crichton's usual charm, smart character and\n",
      "\n",
      "\n",
      "\n",
      "Original: Wow, here it finally is; the action \"movie\" without action. In a real low-budget setting (don't miss the hilarious flying\n",
      "Augmented: Wow, here it finally is; the action \"movie\" without action. In a real low-budget setting (don't miss the hilarious flying\n",
      "\n",
      "\n",
      "\n",
      "Original: 'Identity . . . . I am part of my surroundings and I became separate from them and it's being\n",
      "Augmented: 'Identity . . . . I am part of my surroundings and I became separate from them and it's exist\n",
      "\n",
      "\n",
      "\n"
     ]
    },
    {
     "name": "stderr",
     "output_type": "stream",
     "text": [
      "[nltk_data] Downloading package wordnet to /home/joao-\n",
      "[nltk_data]     correia/nltk_data...\n",
      "[nltk_data]   Package wordnet is already up-to-date!\n"
     ]
    },
    {
     "data": {
      "text/plain": [
       "25858    \"Congo\" is based on the best-selling novel by ...\n",
       "10784    Wow, here it finally is; the action \"movie\" wi...\n",
       "24807    'Identity . . . . I am part of my surrounding...\n",
       "Name: review, dtype: object"
      ]
     },
     "execution_count": 116,
     "metadata": {},
     "output_type": "execute_result"
    }
   ],
   "source": [
    "import random\n",
    "from nltk.corpus import wordnet\n",
    "import nltk\n",
    "\n",
    "nltk.download('wordnet')\n",
    "\n",
    "def augment_text(text, max_augment=3):\n",
    "    tokens = text.split()[:20]\n",
    "    augmented_tokens = tokens.copy()\n",
    "    \n",
    "    for _ in range(max_augment):\n",
    "        if len(augmented_tokens) > 1:\n",
    "            rand_idx = random.randint(0, len(augmented_tokens) - 1)\n",
    "            word = augmented_tokens[rand_idx]\n",
    "            synonyms = wordnet.synsets(word)\n",
    "            if synonyms:\n",
    "                replacement = random.choice(synonyms).lemmas()[0].name()\n",
    "                augmented_tokens[rand_idx] = replacement\n",
    "    print(f\"Original: {' '.join(tokens)}\")\n",
    "    print(f\"Augmented: {' '.join(augmented_tokens)}\")\n",
    "    print('\\n\\n')\n",
    "    return ' '.join(augmented_tokens)\n",
    "\n",
    "# Apply augmentation to training set\n",
    "train_df['review'].iloc[:3].apply(lambda x: augment_text(x, max_augment=3))"
   ]
  },
  {
   "cell_type": "markdown",
   "id": "8c4d4b41cceb7666",
   "metadata": {},
   "source": [
    "## 2. Data Exploration\n",
    "\n",
    "Before training our model, it's essential to explore the data. This helps us understand its distribution and visualize some examples.\n",
    "\n",
    "### Exercise 2 - Data Exploration\n",
    "1. Print the number of positive and negative reviews in the training and test datasets.\n",
    "2. Plot a histogram of the length of reviews in the training and test datasets.\n",
    "3. Print a few reviews and their corresponding sentiment labels."
   ]
  },
  {
   "cell_type": "code",
   "execution_count": 117,
   "id": "3d3e17130dd15243",
   "metadata": {
    "ExecuteTime": {
     "end_time": "2024-11-07T00:34:43.787594Z",
     "start_time": "2024-11-07T00:34:43.782275Z"
    }
   },
   "outputs": [
    {
     "data": {
      "text/plain": [
       "(sentiment\n",
       " 0    12517\n",
       " 1    12483\n",
       " Name: count, dtype: int64,\n",
       " sentiment\n",
       " 1    12517\n",
       " 0    12483\n",
       " Name: count, dtype: int64)"
      ]
     },
     "execution_count": 117,
     "metadata": {},
     "output_type": "execute_result"
    }
   ],
   "source": [
    "# ..."
   ]
  },
  {
   "cell_type": "code",
   "execution_count": 118,
   "id": "757af2ea7a33129d",
   "metadata": {
    "ExecuteTime": {
     "end_time": "2024-11-07T00:34:44.805078Z",
     "start_time": "2024-11-07T00:34:44.702070Z"
    }
   },
   "outputs": [
    {
     "data": {
      "text/plain": [
       "(array([3.0260e+03, 1.0931e+04, 4.7480e+03, 2.4410e+03, 1.3860e+03,\n",
       "        9.0700e+02, 5.3200e+02, 3.6400e+02, 2.6400e+02, 1.7100e+02,\n",
       "        1.2300e+02, 6.9000e+01, 1.7000e+01, 6.0000e+00, 3.0000e+00,\n",
       "        3.0000e+00, 1.0000e+00, 3.0000e+00, 1.0000e+00, 2.0000e+00,\n",
       "        0.0000e+00, 0.0000e+00, 0.0000e+00, 0.0000e+00, 1.0000e+00,\n",
       "        0.0000e+00, 0.0000e+00, 0.0000e+00, 0.0000e+00, 1.0000e+00]),\n",
       " array([   4.        ,   52.36666667,  100.73333333,  149.1       ,\n",
       "         197.46666667,  245.83333333,  294.2       ,  342.56666667,\n",
       "         390.93333333,  439.3       ,  487.66666667,  536.03333333,\n",
       "         584.4       ,  632.76666667,  681.13333333,  729.5       ,\n",
       "         777.86666667,  826.23333333,  874.6       ,  922.96666667,\n",
       "         971.33333333, 1019.7       , 1068.06666667, 1116.43333333,\n",
       "        1164.8       , 1213.16666667, 1261.53333333, 1309.9       ,\n",
       "        1358.26666667, 1406.63333333, 1455.        ]),\n",
       " <BarContainer object of 30 artists>)"
      ]
     },
     "execution_count": 118,
     "metadata": {},
     "output_type": "execute_result"
    },
    {
     "data": {
      "image/png": "[encoded data removed]",
      "text/plain": [
       "<Figure size 640x480 with 1 Axes>"
      ]
     },
     "metadata": {},
     "output_type": "display_data"
    }
   ],
   "source": [
    "# length of reviews (histogram)\n",
    "import matplotlib.pyplot as plt\n",
    "\n",
    "# ..."
   ]
  },
  {
   "cell_type": "code",
   "execution_count": 119,
   "id": "ba41e3c8301a24c3",
   "metadata": {
    "ExecuteTime": {
     "end_time": "2024-11-07T00:34:45.633149Z",
     "start_time": "2024-11-07T00:34:45.544004Z"
    }
   },
   "outputs": [
    {
     "data": {
      "text/plain": [
       "(array([2.124e+03, 8.784e+03, 5.773e+03, 2.861e+03, 1.838e+03, 1.132e+03,\n",
       "        7.550e+02, 5.450e+02, 3.500e+02, 2.590e+02, 1.810e+02, 1.680e+02,\n",
       "        1.160e+02, 6.900e+01, 3.300e+01, 7.000e+00, 2.000e+00, 0.000e+00,\n",
       "        0.000e+00, 0.000e+00, 0.000e+00, 0.000e+00, 0.000e+00, 1.000e+00,\n",
       "        0.000e+00, 0.000e+00, 0.000e+00, 0.000e+00, 0.000e+00, 2.000e+00]),\n",
       " array([   3. ,   43.4,   83.8,  124.2,  164.6,  205. ,  245.4,  285.8,\n",
       "         326.2,  366.6,  407. ,  447.4,  487.8,  528.2,  568.6,  609. ,\n",
       "         649.4,  689.8,  730.2,  770.6,  811. ,  851.4,  891.8,  932.2,\n",
       "         972.6, 1013. , 1053.4, 1093.8, 1134.2, 1174.6, 1215. ]),\n",
       " <BarContainer object of 30 artists>)"
      ]
     },
     "execution_count": 119,
     "metadata": {},
     "output_type": "execute_result"
    },
    {
     "data": {
      "image/png": "[encoded data removed]",
      "text/plain": [
       "<Figure size 640x480 with 1 Axes>"
      ]
     },
     "metadata": {},
     "output_type": "display_data"
    }
   ],
   "source": [
    "# ..."
   ]
  },
  {
   "cell_type": "code",
   "execution_count": 120,
   "id": "c6b4941645567b17",
   "metadata": {
    "ExecuteTime": {
     "end_time": "2024-11-07T00:34:46.205433Z",
     "start_time": "2024-11-07T00:34:46.202284Z"
    }
   },
   "outputs": [
    {
     "name": "stdout",
     "output_type": "stream",
     "text": [
      "Review: \"Congo\" is based on the best-selling novel by Michael Crichton, which I thought lacked Crichton's usual charm, smart characters and punch. Well, sorry to say, but the same goes for the film.<br /><br />Here's the plot:<br /><br />Greed is bad, this simple morality tale cautions. A megalomaniacal C.E.O. (Joe Don Baker) sends his son into the dangerous African Congo on a quest for a source of diamonds large enough and pure enough to function as powerful laser communications transmitter (or is it laser weapons?). When contact is lost with his son and the team, his daughter-in-law (Laura Linney), a former CIA operative and computer-freak, is sent after them. On her quest, she is accompanied by gee-whiz gadgetry and a few eccentric characters (including a mercenary (Ernie Hudson), a researcher with a talking gorilla (Dylan Walsh), and a a nutty Indiana-Jones-type looking for King Solomon's Mines (Tim Curry). After some narrow escapes from surface-to-air missiles and some African wildlife, they all discover that often what we most want turns out to be the source of our downfall.<br /><br /> The actors in this movie were not talented. Dylan Walsh acts like a pathetic crybaby, especially at the end; Ernie Hudson is unconvincing (is it no wonder he went on to star in TV films?) and Laura Linney is nothing special. I think I can safely say the only talented actors in this film had very small roles: Joe Don Baker and Tim Curry, an always enjoyable actor (although sometimes scarred for life by constantly being reminded of his \"Rocky Horror Picture\" days).<br /><br /> This movie also had some other problems, including awful direction style, cheesy dialogue and a just-plain-boring plot, which was completely hashed when compared to Crichton's novel.<br /><br /> Not even Stan Winston's creature effects could save this movie from being a disaster. I am deeply disappointed in this movie; there was not even a campy quality to redeem itself with. It was just plain awful, cheesy, boring and ridiculous, and proves to be one of the worst Crichton book-to-film productions.<br /><br />2/5 stars -<br /><br />John Ulmer\n",
      "Sentiment: 0\n",
      "\n",
      "Review: Wow, here it finally is; the action \"movie\" without action. In a real low-budget setting (don't miss the hilarious flying saucers flying by a few times) of a future Seattle we find a no-brain hardbody seeking to avenge her childhood.<br /><br />There is nothing even remotely original or interesting about the plot and the actors' performance is only rivalled in stupidity by the attempts to steal from other movies, mainly \"Matrix\" without having the money to do it right. Yes, we do get to see some running on walls and slow motion shoot-outs (45 secs approx.) but these scenes are about as cool as the stupid hardbody's attempts at making jokes about male incompetence now and then.<br /><br />And, yes, we are also served a number of leads that lead absolutely nowhere, as if the script was thought-out by the previously unseen cast while shooting the scenes.<br /><br />Believe me, it is as bad as it possibly can get. In fact, it doesn't deserve to be taken seriously, but perhaps I can make some of you not rent it and save your money.\n",
      "Sentiment: 0\n",
      "\n",
      "Review: 'Identity . . . . I am part of my surroundings and I became separate from them and it's being able to make those differentiations clearly that lets us have an identity and what's inside our identity is everything that's ever happened to us' (Ntozake Shange qtd in \"Fires in the Mirror\").<br /><br />Pieces like Decalogue V used to intimidate me. I felt that if I accepted them, than I would be compromising something. What I thought before really isn't worth getting into. I understand what Naturalism is trying to say. I experienced a tangible katharsis, and one that fell into existence piecemeal, and one that's still alive, that I still have to reckon with. It's still working inside me. <br /><br />The film wasn't sympathetic, per se. It doesn't need to say that the death penalty is a wicked thing. There are certainly wicked people; whether or not they should die is for another film. What Decalogue shows is that good, beautiful people exists who kill other people when their society and primal urges jack them up. <br /><br />The 'science' of naturalism is what has helped me to appreciate Decalogue V. It's not worth the writing space to go into why I would not let myself before, but I see now the worth in making art like this to 'make' people, or perhaps to make people do something. <br /><br />There's a method to Lazar's compromise of his . . . light. Much of that meaning makes sense only in retrospect. This should not be too strange of an idea: after all, how much of respectable science does not gain meaning in retrospect. I wince when I say it, but Naturalism seems so much more productive and so much less nihilistic when I have the power to say to myself, 'this ruin, this process, this natural process, makes me want to buck the system.' <br /><br />I do not think Naturalism is painting a doomsday portrait of humanity, telling us to give up our powdered wigs and head to the woods. Instead, I think that it is cataloging proofs and experiments, that we are, of course, free to ignore. We can ignore it all we want, if we want to give the Naturalists more corpses to bury. <br /><br />For surely, despite their aesthetic specifically designed without sympathy towards their characters' likely and catastrophic fate, they are impassioned by readerly inaction and writerly snobisme. I do see the delightful risk in the hope that the audience will understand what's to be done with what they see. As has been mentioned, there's danger in the hopeless seeing their fate immortalized in stone. There's danger in the hopeful disparaging the Natural because it doesn't correspond to their world view.<br /><br />And I don't think that the 'hopeful' need be either wealthy or fortunate. I have not seen it, but it seems that the film American Beauty proves the inadequacy of circumstance as a provider of vision or comfort. There are ascetics as well as gluttons as well as beggars who wonder where within themselves their humanity is, who grieve because they can't find anything that separates them from their landscape. <br /><br />Landscapes can be powerfully and beautifully portrayed, but in reality, landscapes do not enact. They change, sure, and dramatically, but only by a large set of Natural law which no one truly have power over. But it cannot be changed itself.\n",
      "Sentiment: 1\n",
      "\n",
      "Review: \"Sir\" John Gielgud must have become senile to star in a mess of a movie like this one.;<br /><br />This is one of those films, I suppose, that is considered \"art,\" but don't be fooled.....it's garbage. Stick to the \"art\" you can admire in a frame because the films that are labeled as such are usually unintelligible forgeries like this.<br /><br />In this masterpiece, Giegud recites Shakespeare's \"The Tempest\" while the camera pans away to nude people. one of them a little kid urinating in a swimming pool. Wow, this is heady stuff and real \"art,\" ain't it?? That's just one example. Most of the story makes no sense, is impossible to follow and, hence, is one that Liberal critics are afraid to say they didn't \"understand\" so they give it high marks to save their phony egos. You want Shakespeare? Read his books.\n",
      "Sentiment: 0\n",
      "\n",
      "Review: Below average movie with poor music considering a movie based on music??? Ordinary Script & Direction with full of blunders. Salman Khan was at his usual acting. Ajay's performance deteriorating with time as his looks,especially his styles as a Rock Star were pathetic. Asin was just a showpiece only. Overall I felt like wasting my money in cinema. Salman Khan remains as immature as 10 years ago compared to Aamir Khan. There were many songs in the movie all boring except \"Man Ko Ati\". The Most Important Song to impress the UK Music Sponsor was most unimpressive. \"Khanabadosh\" can be very easily understood by an English Music Sponsor. The other movie I saw last week was \"Wake Up Sid\" which was simple slow love story with good direction & acting despite average music\n",
      "Sentiment: 0\n",
      "\n"
     ]
    }
   ],
   "source": [
    "# print reviews and sentiment labels\n",
    "# ..."
   ]
  },
  {
   "cell_type": "markdown",
   "id": "ebf01dbc897fa0e3",
   "metadata": {},
   "source": [
    "## 3. Model Building\n",
    "\n",
    "Now, we'll define our RNN architecture. A typical RNN consists of an embedding layer, RNN layers, and a fully connected layers.\n",
    "\n",
    "### Exercise\n",
    "1. Define a RNN class inheriting from torch.nn.Module.\n",
    "2. Include one Embedding layer, two LSTM layers, and two Linear layers."
   ]
  },
  {
   "cell_type": "code",
   "execution_count": 121,
   "id": "86bc9381447392ae",
   "metadata": {
    "ExecuteTime": {
     "end_time": "2024-11-07T00:34:47.303352Z",
     "start_time": "2024-11-07T00:34:47.290274Z"
    }
   },
   "outputs": [
    {
     "data": {
      "text/plain": [
       "RNNModel(\n",
       "  (embedding): Embedding(5002, 128)\n",
       "  (rnn): LSTM(128, 64, batch_first=True)\n",
       "  (rnn2): LSTM(64, 64, batch_first=True)\n",
       "  (fc): Linear(in_features=64, out_features=32, bias=True)\n",
       "  (fc2): Linear(in_features=32, out_features=1, bias=True)\n",
       "  (sigmoid): Sigmoid()\n",
       ")"
      ]
     },
     "execution_count": 121,
     "metadata": {},
     "output_type": "execute_result"
    }
   ],
   "source": [
    "# ..."
   ]
  },
  {
   "cell_type": "markdown",
   "id": "ef72a0844d23519e",
   "metadata": {},
   "source": [
    "## 4. Model Training\n",
    "\n",
    "We'll now define the training loop to optimize our model using the binary cross-entropy loss function and the Adam optimizer.\n",
    "\n",
    "### Exercise\n",
    "1. Define a function to train the model for a specified number of epochs.\n",
    "2. Print the training loss after each epoch."
   ]
  },
  {
   "cell_type": "code",
   "execution_count": 122,
   "id": "60e9b2d2d4323664",
   "metadata": {
    "ExecuteTime": {
     "end_time": "2024-11-07T00:35:00.413877Z",
     "start_time": "2024-11-07T00:34:48.515992Z"
    }
   },
   "outputs": [
    {
     "name": "stdout",
     "output_type": "stream",
     "text": [
      "Epoch 1/5, Loss: 0.6930, Accuracy: 49.93%\n",
      "Epoch 2/5, Loss: 0.6912, Accuracy: 49.93%\n",
      "Epoch 3/5, Loss: 0.6129, Accuracy: 49.93%\n",
      "Epoch 4/5, Loss: 0.4670, Accuracy: 49.93%\n",
      "Epoch 5/5, Loss: 0.3798, Accuracy: 49.93%\n"
     ]
    }
   ],
   "source": [
    "# ..."
   ]
  },
  {
   "cell_type": "markdown",
   "id": "5ffdb68841ef1798",
   "metadata": {},
   "source": [
    "## 5. Model Evaluation\n",
    "\n",
    "After training, we need to evaluate our model on the test dataset to understand its performance.\n",
    "\n",
    "### Exercise\n",
    "1. Define a function to evaluate the model's accuracy on the test set.\n",
    "2. Print the accuracy."
   ]
  },
  {
   "cell_type": "code",
   "execution_count": 81,
   "id": "753013a29969972c",
   "metadata": {
    "ExecuteTime": {
     "end_time": "2024-11-07T00:16:24.456003Z",
     "start_time": "2024-11-07T00:16:23.436140Z"
    }
   },
   "outputs": [
    {
     "name": "stdout",
     "output_type": "stream",
     "text": [
      "Test Accuracy: 50.07%\n"
     ]
    }
   ],
   "source": [
    "# ..."
   ]
  },
  {
   "cell_type": "code",
   "execution_count": null,
   "id": "f97e3a9ed9ac1b32",
   "metadata": {
    "ExecuteTime": {
     "end_time": "2024-11-07T00:04:32.603741739Z",
     "start_time": "2024-11-06T23:18:07.817178Z"
    }
   },
   "outputs": [],
   "source": []
  }
 ],
 "metadata": {
  "kernelspec": {
   "display_name": "deep-learning",
   "language": "python",
   "name": "python3"
  },
  "language_info": {
   "codemirror_mode": {
    "name": "ipython",
    "version": 3
   },
   "file_extension": ".py",
   "mimetype": "text/x-python",
   "name": "python",
   "nbconvert_exporter": "python",
   "pygments_lexer": "ipython3",
   "version": "3.11.9"
  }
 },
 "nbformat": 4,
 "nbformat_minor": 5
}

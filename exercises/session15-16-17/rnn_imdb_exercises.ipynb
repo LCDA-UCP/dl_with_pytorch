{
 "cells": [
  {
   "metadata": {},
   "cell_type": "markdown",
   "source": [
    "# RNNs Tutorial with PyTorch on the IMDB Dataset\n",
    "\n",
    "In this tutorial, we will build a Recurrent Neural Network (CNN) to classify movie reviews as positive or negative using the IMDB dataset.\n",
    " \n",
    "We'll go through the following steps:\n",
    "\n",
    "1. **Data Loading, Processing, and Augmentation**\n",
    "2. **Data Exploration**\n",
    "3. **Model Building**\n",
    "4. **Model Training**\n",
    "5. **Model Evaluation**\n",
    "\n"
   ],
   "id": "9cf2cd67a7fb4ec1"
  },
  {
   "metadata": {},
   "cell_type": "markdown",
   "source": [
    "## 1. Data Loading, Processing, and Augmentation\n",
    "\n",
    "The IMDB dataset contains 50,000 movie reviews, split into 25,000 reviews for training and 25,000 reviews for testing. The dataset is preprocessed, and each review is encoded as a sequence of word indexes.\n",
    "\n",
    "### Exercise 1.1 - Data Loading and Processing\n",
    "\n",
    "1. Load the data from `'../../data/imdb_dataset.zip'` using pandas.\n",
    "2. Convert the `sentiment` column to a binary label (0 for negative and 1 for positive).\n",
    "3. Split the dataset into training and test sets (25,000 samples each).\n",
    "4. Preprocess the `review` column by converting it to lowercase and removing special characters, punctuation and stopwords. Additionally, use a stemming or lemmatization technique.\n",
    "5. Build a vocabulary of unique words in the training dataset.\n",
    "6. Tokenize the reviews using the vocabulary, i.e., replace each word with its index in the vocabulary. Note that the reviews should be padded to a fixed length.\n",
    "7. Create the data loaders for training and test datasets.\n"
   ],
   "id": "de854ac82e9a020b"
  },
  {
   "metadata": {
    "ExecuteTime": {
     "end_time": "2024-11-15T10:25:39.557898Z",
     "start_time": "2024-11-15T10:25:38.812119Z"
    }
   },
   "cell_type": "code",
   "source": [
    "import pandas as pd\n",
    "\n",
    "df = pd.read_csv(\"/Users/tiago/dl_with_pytorch/data/imdb_dataset.zip\", compression='zip')\n",
    "\n",
    "print(df)"
   ],
   "id": "d98248f80f8d704a",
   "outputs": [
    {
     "name": "stdout",
     "output_type": "stream",
     "text": [
      "                                                  review sentiment\n",
      "0      One of the other reviewers has mentioned that ...  positive\n",
      "1      A wonderful little production. <br /><br />The...  positive\n",
      "2      I thought this was a wonderful way to spend ti...  positive\n",
      "3      Basically there's a family where a little boy ...  negative\n",
      "4      Petter Mattei's \"Love in the Time of Money\" is...  positive\n",
      "...                                                  ...       ...\n",
      "49995  I thought this movie did a down right good job...  positive\n",
      "49996  Bad plot, bad dialogue, bad acting, idiotic di...  negative\n",
      "49997  I am a Catholic taught in parochial elementary...  negative\n",
      "49998  I'm going to have to disagree with the previou...  negative\n",
      "49999  No one expects the Star Trek movies to be high...  negative\n",
      "\n",
      "[50000 rows x 2 columns]\n"
     ]
    }
   ],
   "execution_count": 30
  },
  {
   "metadata": {
    "ExecuteTime": {
     "end_time": "2024-11-15T10:25:44.053317Z",
     "start_time": "2024-11-15T10:25:44.046980Z"
    }
   },
   "cell_type": "code",
   "source": [
    "df['sentiment'] = df['sentiment'].map({'positive': 1, 'negative': 0})\n",
    "df.head()"
   ],
   "id": "4d35a16ffac61778",
   "outputs": [
    {
     "data": {
      "text/plain": "                                              review  sentiment\n0  One of the other reviewers has mentioned that ...          1\n1  A wonderful little production. <br /><br />The...          1\n2  I thought this was a wonderful way to spend ti...          1\n3  Basically there's a family where a little boy ...          0\n4  Petter Mattei's \"Love in the Time of Money\" is...          1",
      "text/html": "<div>\n<style scoped>\n    .dataframe tbody tr th:only-of-type {\n        vertical-align: middle;\n    }\n\n    .dataframe tbody tr th {\n        vertical-align: top;\n    }\n\n    .dataframe thead th {\n        text-align: right;\n    }\n</style>\n<table border=\"1\" class=\"dataframe\">\n  <thead>\n    <tr style=\"text-align: right;\">\n      <th></th>\n      <th>review</th>\n      <th>sentiment</th>\n    </tr>\n  </thead>\n  <tbody>\n    <tr>\n      <th>0</th>\n      <td>One of the other reviewers has mentioned that ...</td>\n      <td>1</td>\n    </tr>\n    <tr>\n      <th>1</th>\n      <td>A wonderful little production. &lt;br /&gt;&lt;br /&gt;The...</td>\n      <td>1</td>\n    </tr>\n    <tr>\n      <th>2</th>\n      <td>I thought this was a wonderful way to spend ti...</td>\n      <td>1</td>\n    </tr>\n    <tr>\n      <th>3</th>\n      <td>Basically there's a family where a little boy ...</td>\n      <td>0</td>\n    </tr>\n    <tr>\n      <th>4</th>\n      <td>Petter Mattei's \"Love in the Time of Money\" is...</td>\n      <td>1</td>\n    </tr>\n  </tbody>\n</table>\n</div>"
     },
     "execution_count": 31,
     "metadata": {},
     "output_type": "execute_result"
    }
   ],
   "execution_count": 31
  },
  {
   "metadata": {
    "ExecuteTime": {
     "end_time": "2024-11-15T10:25:45.223559Z",
     "start_time": "2024-11-15T10:25:45.099036Z"
    }
   },
   "cell_type": "code",
   "source": [
    "from sklearn.model_selection import train_test_split\n",
    "\n",
    "train, test = train_test_split(df, test_size=25000, stratify=df['sentiment'], random_state=42)\n",
    "train.shape"
   ],
   "id": "b973103232079f75",
   "outputs": [
    {
     "data": {
      "text/plain": "(25000, 2)"
     },
     "execution_count": 32,
     "metadata": {},
     "output_type": "execute_result"
    }
   ],
   "execution_count": 32
  },
  {
   "metadata": {
    "ExecuteTime": {
     "end_time": "2024-11-15T10:25:46.111644Z",
     "start_time": "2024-11-15T10:25:46.106058Z"
    }
   },
   "cell_type": "code",
   "source": [
    "test['sentiment'].value_counts()"
   ],
   "id": "2d5dc17df6189d98",
   "outputs": [
    {
     "data": {
      "text/plain": "sentiment\n0    12500\n1    12500\nName: count, dtype: int64"
     },
     "execution_count": 33,
     "metadata": {},
     "output_type": "execute_result"
    }
   ],
   "execution_count": 33
  },
  {
   "metadata": {
    "ExecuteTime": {
     "end_time": "2024-11-15T10:26:36.917963Z",
     "start_time": "2024-11-15T10:25:46.593046Z"
    }
   },
   "cell_type": "code",
   "source": [
    "from nltk import PorterStemmer\n",
    "import nltk\n",
    "from nltk.corpus import stopwords\n",
    "import re\n",
    "\n",
    "nltk.download('stopwords')\n",
    "nltk.download('punkt')\n",
    "\n",
    "stop_words = set(stopwords.words('english'))\n",
    "\n",
    "stemmer = PorterStemmer()\n",
    "\n",
    "def preprocess_text(text):\n",
    "    text = text.lower()\n",
    "    text = re.sub(r'http\\S+|www\\S+|https\\S+', '', text)\n",
    "    text = re.sub(r\"\\W+\", \" \", text)\n",
    "    text = re.sub(r\"\\d+\", \"\", text)\n",
    "    tokens = [word for word in text.split()]\n",
    "    words = [word for word in tokens if word not in stop_words]\n",
    "    words = [stemmer.stem(word) for word in words]\n",
    "    return ' '.join(words)\n",
    "    \n",
    "train['preproc_review'] = train['review'].apply(preprocess_text)\n",
    "test['preproc_review'] = test['review'].apply(preprocess_text)"
   ],
   "id": "ca686b162ef1e561",
   "outputs": [
    {
     "name": "stderr",
     "output_type": "stream",
     "text": [
      "[nltk_data] Downloading package stopwords to /Users/tiago/nltk_data...\n",
      "[nltk_data]   Package stopwords is already up-to-date!\n",
      "[nltk_data] Downloading package punkt to /Users/tiago/nltk_data...\n",
      "[nltk_data]   Package punkt is already up-to-date!\n"
     ]
    }
   ],
   "execution_count": 34
  },
  {
   "metadata": {
    "ExecuteTime": {
     "end_time": "2024-11-15T10:26:57.333339Z",
     "start_time": "2024-11-15T10:26:51.705270Z"
    }
   },
   "cell_type": "code",
   "source": [
    "def tokenize_text(text):\n",
    "    return nltk.word_tokenize(text)\n",
    "\n",
    "train['tokens'] = train['preproc_review'].apply(tokenize_text)\n",
    "#test['tokens'] = test['preproc_review'].apply(tokenize_text)"
   ],
   "id": "570e293bcd709a1f",
   "outputs": [],
   "execution_count": 35
  },
  {
   "metadata": {
    "ExecuteTime": {
     "end_time": "2024-11-15T10:26:58.459983Z",
     "start_time": "2024-11-15T10:26:58.175365Z"
    }
   },
   "cell_type": "code",
   "source": [
    "top5000 = pd.Series([word for tokens in train['tokens'] for word in tokens]).value_counts().index[:5000]\n",
    "\n",
    "top5000"
   ],
   "id": "116fc3f49260ae1c",
   "outputs": [
    {
     "data": {
      "text/plain": "Index(['br', 'movi', 'film', 'one', 'like', 'time', 'good', 'make', 'charact',\n       'get',\n       ...\n       'spout', 'uh', 'fluff', 'razor', 'eyebrow', 'vintag', 'pornographi',\n       'baron', 'feminin', 'orphan'],\n      dtype='object', length=5000)"
     },
     "execution_count": 36,
     "metadata": {},
     "output_type": "execute_result"
    }
   ],
   "execution_count": 36
  },
  {
   "cell_type": "code",
   "outputs": [],
   "source": [
    "vocab = {word: idx + 2 for idx, word in enumerate(top5000)}\n",
    "vocab ['<unk>'] = 0\n",
    "vocab ['<pad>'] = 1"
   ],
   "metadata": {
    "collapsed": false,
    "ExecuteTime": {
     "end_time": "2024-11-15T10:26:59.994327Z",
     "start_time": "2024-11-15T10:26:59.991450Z"
    }
   },
   "id": "36345ae92174e53c",
   "execution_count": 37
  },
  {
   "cell_type": "code",
   "outputs": [],
   "source": [
    "def tokens_to_idx(tokens):\n",
    "    idx = []\n",
    "    for token in tokens:\n",
    "        i = vocab.get(token, vocab['<unk>'])\n",
    "        idx.append(i)\n",
    "    return idx\n",
    "train['indices'] = train['tokens'].apply(tokens_to_idx) "
   ],
   "metadata": {
    "collapsed": false,
    "ExecuteTime": {
     "end_time": "2024-11-15T10:27:01.045084Z",
     "start_time": "2024-11-15T10:27:00.759202Z"
    }
   },
   "id": "17c0c1428ed32b54",
   "execution_count": 38
  },
  {
   "metadata": {
    "ExecuteTime": {
     "end_time": "2024-11-15T10:27:01.407135Z",
     "start_time": "2024-11-15T10:27:01.399516Z"
    }
   },
   "cell_type": "code",
   "source": [
    "MAX_LENGTH = 300 \n",
    "\n",
    "def pad_truncate(token, max_length = MAX_LENGTH):\n",
    "    if len(token) > max_length:\n",
    "        return token[:max_length]\n",
    "    else: \n",
    "        return token + [vocab['<pad>']] * (max_length - len(token))\n",
    "    \n",
    "train['pad_trunc'] = train['indices'].apply(pad_truncate)       "
   ],
   "id": "560106d252698ec9",
   "outputs": [],
   "execution_count": 39
  },
  {
   "cell_type": "code",
   "outputs": [
    {
     "data": {
      "text/plain": "                                                  review  sentiment  \\\n3055   Trio's vignettes were insightful and quite enj...          1   \n47326  I had never heard of this one before the owner...          0   \n48869  This is an excellent but hard to find trippy W...          1   \n48623  I am a huge fan of big, loud, trashy, complete...          1   \n39657  Easily Lucio Fulci's most respected film, \"Don...          1   \n\n                                          preproc_review  \\\n3055   trio vignett insight quit enjoy curiou see man...   \n47326  never heard one owner local dvd rental outlet ...   \n48869  excel hard find trippi world war spi thriller ...   \n48623  huge fan big loud trashi complet stupid action...   \n39657  easili lucio fulci respect film tortur duckl h...   \n\n                                                  tokens  \\\n3055   [trio, vignett, insight, quit, enjoy, curiou, ...   \n47326  [never, heard, one, owner, local, dvd, rental,...   \n48869  [excel, hard, find, trippi, world, war, spi, t...   \n48623  [huge, fan, big, loud, trashi, complet, stupid...   \n39657  [easili, lucio, fulci, respect, film, tortur, ...   \n\n                                                 indices  \\\n3055   [3435, 4510, 1546, 98, 80, 1883, 12, 46, 473, ...   \n47326  [51, 477, 5, 1456, 538, 181, 1904, 0, 357, 95,...   \n48869  [219, 168, 61, 0, 93, 186, 1857, 540, 0, 851, ...   \n48623  [535, 122, 118, 1199, 3397, 147, 261, 102, 3, ...   \n39657  [674, 0, 2237, 619, 4, 979, 0, 464, 0, 3476, 5...   \n\n                                               pad_trunc  \n3055   [3435, 4510, 1546, 98, 80, 1883, 12, 46, 473, ...  \n47326  [51, 477, 5, 1456, 538, 181, 1904, 0, 357, 95,...  \n48869  [219, 168, 61, 0, 93, 186, 1857, 540, 0, 851, ...  \n48623  [535, 122, 118, 1199, 3397, 147, 261, 102, 3, ...  \n39657  [674, 0, 2237, 619, 4, 979, 0, 464, 0, 3476, 5...  ",
      "text/html": "<div>\n<style scoped>\n    .dataframe tbody tr th:only-of-type {\n        vertical-align: middle;\n    }\n\n    .dataframe tbody tr th {\n        vertical-align: top;\n    }\n\n    .dataframe thead th {\n        text-align: right;\n    }\n</style>\n<table border=\"1\" class=\"dataframe\">\n  <thead>\n    <tr style=\"text-align: right;\">\n      <th></th>\n      <th>review</th>\n      <th>sentiment</th>\n      <th>preproc_review</th>\n      <th>tokens</th>\n      <th>indices</th>\n      <th>pad_trunc</th>\n    </tr>\n  </thead>\n  <tbody>\n    <tr>\n      <th>3055</th>\n      <td>Trio's vignettes were insightful and quite enj...</td>\n      <td>1</td>\n      <td>trio vignett insight quit enjoy curiou see man...</td>\n      <td>[trio, vignett, insight, quit, enjoy, curiou, ...</td>\n      <td>[3435, 4510, 1546, 98, 80, 1883, 12, 46, 473, ...</td>\n      <td>[3435, 4510, 1546, 98, 80, 1883, 12, 46, 473, ...</td>\n    </tr>\n    <tr>\n      <th>47326</th>\n      <td>I had never heard of this one before the owner...</td>\n      <td>0</td>\n      <td>never heard one owner local dvd rental outlet ...</td>\n      <td>[never, heard, one, owner, local, dvd, rental,...</td>\n      <td>[51, 477, 5, 1456, 538, 181, 1904, 0, 357, 95,...</td>\n      <td>[51, 477, 5, 1456, 538, 181, 1904, 0, 357, 95,...</td>\n    </tr>\n    <tr>\n      <th>48869</th>\n      <td>This is an excellent but hard to find trippy W...</td>\n      <td>1</td>\n      <td>excel hard find trippi world war spi thriller ...</td>\n      <td>[excel, hard, find, trippi, world, war, spi, t...</td>\n      <td>[219, 168, 61, 0, 93, 186, 1857, 540, 0, 851, ...</td>\n      <td>[219, 168, 61, 0, 93, 186, 1857, 540, 0, 851, ...</td>\n    </tr>\n    <tr>\n      <th>48623</th>\n      <td>I am a huge fan of big, loud, trashy, complete...</td>\n      <td>1</td>\n      <td>huge fan big loud trashi complet stupid action...</td>\n      <td>[huge, fan, big, loud, trashi, complet, stupid...</td>\n      <td>[535, 122, 118, 1199, 3397, 147, 261, 102, 3, ...</td>\n      <td>[535, 122, 118, 1199, 3397, 147, 261, 102, 3, ...</td>\n    </tr>\n    <tr>\n      <th>39657</th>\n      <td>Easily Lucio Fulci's most respected film, \"Don...</td>\n      <td>1</td>\n      <td>easili lucio fulci respect film tortur duckl h...</td>\n      <td>[easili, lucio, fulci, respect, film, tortur, ...</td>\n      <td>[674, 0, 2237, 619, 4, 979, 0, 464, 0, 3476, 5...</td>\n      <td>[674, 0, 2237, 619, 4, 979, 0, 464, 0, 3476, 5...</td>\n    </tr>\n  </tbody>\n</table>\n</div>"
     },
     "execution_count": 40,
     "metadata": {},
     "output_type": "execute_result"
    }
   ],
   "source": [
    "train.head()"
   ],
   "metadata": {
    "collapsed": false,
    "ExecuteTime": {
     "end_time": "2024-11-15T10:27:02.666558Z",
     "start_time": "2024-11-15T10:27:02.651387Z"
    }
   },
   "id": "bd809084076f1795",
   "execution_count": 40
  },
  {
   "cell_type": "code",
   "outputs": [],
   "source": [
    "import torch\n",
    "from torch.utils.data import TensorDataset, DataLoader\n",
    "\n",
    "\n",
    "def prepare_data(df): \n",
    "    x = torch.tensor(df['pad_trunc'].tolist())\n",
    "    y = torch.tensor(df['sentiment'].tolist())\n",
    "    return TensorDataset(x, y)\n",
    "\n",
    "train_data = prepare_data(train)\n",
    "\n",
    "train_loader = DataLoader(train_data, batch_size = 64, shuffle = True)\n",
    "test_loader = DataLoader(train_data, batch_size = 64, shuffle = True)"
   ],
   "metadata": {
    "collapsed": false,
    "ExecuteTime": {
     "end_time": "2024-11-15T10:27:04.220640Z",
     "start_time": "2024-11-15T10:27:04.212781Z"
    }
   },
   "id": "76828b6b430a33b6",
   "execution_count": 41
  },
  {
   "metadata": {},
   "cell_type": "markdown",
   "source": [
    "### Exercise 1.2 - Data Augmentation\n",
    "\n",
    "1. Define a function to replace random words with synonyms from WordNet in the reviews.\n",
    "2. Augment the training dataset by replacing words in a few reviews with synonyms.\n",
    "\n",
    "Note: Never augment the test dataset. It's essential to evaluate the model on the original data."
   ],
   "id": "7a2ad79060d1313f"
  },
  {
   "metadata": {
    "ExecuteTime": {
     "end_time": "2024-11-15T10:27:08.188804Z",
     "start_time": "2024-11-15T10:27:08.183240Z"
    }
   },
   "cell_type": "code",
   "source": [
    "import random\n",
    "from nltk.corpus import wordnet\n",
    "import nltk\n",
    "\n",
    "nltk.download('wordnet')\n",
    "\n",
    "def augment_text(text, max_augment=3):\n",
    "    tokens = text.split()[:20]\n",
    "    augmented_tokens = tokens.copy()\n",
    "    \n",
    "    for _ in range(max_augment):\n",
    "        if len(augmented_tokens) > 1:\n",
    "            rand_idx = random.randint(0, len(augmented_tokens) - 1)\n",
    "            word = augmented_tokens[rand_idx]\n",
    "            synonyms = wordnet.synsets(word)\n",
    "            if synonyms:\n",
    "                replacement = random.choice(synonyms).lemmas()[0].name()\n",
    "                augmented_tokens[rand_idx] = replacement\n",
    "    print(f\"Original: {' '.join(tokens)}\")\n",
    "    print(f\"Augmented: {' '.join(augmented_tokens)}\")\n",
    "    print('\\n\\n')\n",
    "    return ' '.join(augmented_tokens)\n",
    "\n",
    "# Apply augmentation to training set\n",
    "train['review'].iloc[:3].apply(lambda x: augment_text(x, max_augment=3))"
   ],
   "id": "cec1e57df2661d62",
   "outputs": [
    {
     "name": "stdout",
     "output_type": "stream",
     "text": [
      "Original: Trio's vignettes were insightful and quite enjoyable. It was curious seeing so many soon to be famous actors when they\n",
      "Augmented: Trio's vignettes were insightful and quite enjoyable. It was curious seeing indeed many soon to be famous actors when they\n",
      "\n",
      "\n",
      "\n",
      "Original: I had never heard of this one before the owner of my local DVD rental outlet mentioned it to me;\n",
      "Augmented: I receive never heard of this one earlier the owner of my local DVD rental outlet mentioned it to me;\n",
      "\n",
      "\n",
      "\n",
      "Original: This is an excellent but hard to find trippy World War I spy thriller in the inimitable 60's Italian style.\n",
      "Augmented: This is Associate_in_Nursing excellent but hard to find trippy World War I spy thriller in the inimitable 60's Italian style.\n",
      "\n"
     ]
    },
    {
     "name": "stderr",
     "output_type": "stream",
     "text": [
      "[nltk_data] Downloading package wordnet to /Users/tiago/nltk_data...\n",
      "[nltk_data]   Package wordnet is already up-to-date!\n"
     ]
    },
    {
     "data": {
      "text/plain": "3055     Trio's vignettes were insightful and quite enj...\n47326    I receive never heard of this one earlier the ...\n48869    This is Associate_in_Nursing excellent but har...\nName: review, dtype: object"
     },
     "execution_count": 42,
     "metadata": {},
     "output_type": "execute_result"
    }
   ],
   "execution_count": 42
  },
  {
   "metadata": {},
   "cell_type": "markdown",
   "source": [
    "## 2. Data Exploration\n",
    "\n",
    "Before training our model, it's essential to explore the data. This helps us understand its distribution and visualize some examples.\n",
    "\n",
    "### Exercise 2 - Data Exploration\n",
    "1. Print the number of positive and negative reviews in the training and test datasets.\n",
    "2. Plot a histogram of the length of reviews in the training and test datasets.\n",
    "3. Print a few reviews and their corresponding sentiment labels."
   ],
   "id": "8c4d4b41cceb7666"
  },
  {
   "cell_type": "code",
   "outputs": [
    {
     "data": {
      "text/plain": "sentiment\n1    12500\n0    12500\nName: count, dtype: int64"
     },
     "execution_count": 43,
     "metadata": {},
     "output_type": "execute_result"
    }
   ],
   "source": [
    "train['sentiment'].value_counts()"
   ],
   "metadata": {
    "collapsed": false,
    "ExecuteTime": {
     "end_time": "2024-11-15T10:27:10.954781Z",
     "start_time": "2024-11-15T10:27:10.950100Z"
    }
   },
   "id": "2c49cda4564a2d18",
   "execution_count": 43
  },
  {
   "metadata": {
    "ExecuteTime": {
     "end_time": "2024-11-15T10:27:11.726779Z",
     "start_time": "2024-11-15T10:27:11.706325Z"
    }
   },
   "cell_type": "code",
   "source": [],
   "id": "3d3e17130dd15243",
   "outputs": [],
   "execution_count": 43
  },
  {
   "metadata": {
    "ExecuteTime": {
     "end_time": "2024-11-15T10:27:12.266286Z",
     "start_time": "2024-11-15T10:27:12.200706Z"
    }
   },
   "cell_type": "code",
   "source": [
    "# length of reviews (histogram)\n",
    "# length of reviews (histogram)\n",
    "import matplotlib.pyplot as plt\n",
    "\n",
    "tamanhos = train['tokens'].apply(len)\n",
    "plt.hist(tamanhos, bins=10)"
   ],
   "id": "757af2ea7a33129d",
   "outputs": [
    {
     "data": {
      "text/plain": "(array([1.8555e+04, 4.8840e+03, 1.1540e+03, 3.7900e+02, 2.2000e+01,\n        2.0000e+00, 2.0000e+00, 0.0000e+00, 1.0000e+00, 1.0000e+00]),\n array([   3. ,  146.9,  290.8,  434.7,  578.6,  722.5,  866.4, 1010.3,\n        1154.2, 1298.1, 1442. ]),\n <BarContainer object of 10 artists>)"
     },
     "execution_count": 44,
     "metadata": {},
     "output_type": "execute_result"
    },
    {
     "data": {
      "text/plain": "<Figure size 640x480 with 1 Axes>",
      "image/png": "[encoded data removed]"
     },
     "metadata": {},
     "output_type": "display_data"
    }
   ],
   "execution_count": 44
  },
  {
   "metadata": {
    "ExecuteTime": {
     "end_time": "2024-11-15T10:27:13.823509Z",
     "start_time": "2024-11-15T10:27:13.819403Z"
    }
   },
   "cell_type": "code",
   "source": [],
   "id": "ba41e3c8301a24c3",
   "outputs": [],
   "execution_count": 44
  },
  {
   "metadata": {
    "ExecuteTime": {
     "end_time": "2024-11-15T10:27:14.242758Z",
     "start_time": "2024-11-15T10:27:14.239531Z"
    }
   },
   "cell_type": "code",
   "source": [
    "# print reviews and sentiment labels\n",
    "for i in range(3):\n",
    "    print(f\"Review: {train['review'].iloc[i]}\\nSentiment: {train['sentiment'].iloc[i]}\")"
   ],
   "id": "c6b4941645567b17",
   "outputs": [
    {
     "name": "stdout",
     "output_type": "stream",
     "text": [
      "Review: Trio's vignettes were insightful and quite enjoyable. It was curious seeing so many soon to be famous actors when they were very young. The performances and attention to detail were wonderful to watch.<br /><br />Observation. In film it isn't necessary that source material be in alignment with the contemporary era to be interesting or worthwhile. \"Small morality\" storytelling is quaint (or coy) only in the eye of the beholder--thankfully. Story content--well told--can overcome it's time, subject or place.<br /><br />Ironically, there are quite a few contemporary films today that have not overcome the conventions or cutting edge mores of the present era. Inserting \"small morality\" content--occasionally--might provide a dimension lacking.\n",
      "Sentiment: 1\n",
      "Review: I had never heard of this one before the owner of my local DVD rental outlet mentioned it to me; being a 1980s horror flick with the notorious distinction of having been banned in the U.K., I decided to check it out. The film turned out be a dull, amateurish and ugly-looking ride; the sound recording is so poor that dialogue is unintelligible half of the time, whereas the acting gives new meaning to the word inept! <br /><br />What’s worse, the film follows the awfully tired formula of a trio of teenage girls being involved in an accident and finding themselves sheltered by a dysfunctional family living in remote surroundings. Soon, one of the girls goes to look for help and is never heard from again; another, still bed-ridden, is quickly disposed of (after being forgotten for most of the duration). The heroine is the one to interact the most with the three inhabitants of the house: a harridan of a bible-thumping mother (cue horrendous overacting), her repressed (and long-suffering) daughter, and the latter’s weirdo brother who occasionally appears on the scene to drool over the sleeping female guests.<br /><br />Often resorting to dinner-table reminiscences by the man-hating mother (as a means of filling in the dreary, to say nothing of unoriginal, backstory) and which invariably develop into mother-daughter sparring contests, the film does have one ace up its sleeve – the twist ending is as unexpected as it is ingenious, but it does little to remove the bad taste left in the mouth by the film (as much through the lameness of it all as the intermittent gore) or the inescapable feeling of having wasted 80 minutes of my time...\n",
      "Sentiment: 0\n",
      "Review: This is an excellent but hard to find trippy World War I spy thriller in the inimitable 60's Italian style. From the psychedelic graphics of the introductory credits and the great score by Ennio Morricone to the lesbian love scene with Capucine and the elaborately produced apocalyptic no man's land battle scenes with poison gas and German cavalry in full gas proof 'storm trooper' gear, this is a movie that should not be missed. It is a film that captures the horrors and cruelty of war and the ruthlessness of the players on and off the battlefield. Apart from the battle scenes, some of the production and special effects are primitive, apparently because the bulk of the budget for this movie was saved for the battle scenes, but for lovers of 60's cinema it should not be an issue. I first saw this movie on television many years ago and had the foresight to tape it on VHS. I still have the tape and enjoy watching it again from time to time.\n",
      "Sentiment: 1\n"
     ]
    }
   ],
   "execution_count": 45
  },
  {
   "metadata": {},
   "cell_type": "markdown",
   "source": [
    "## 3. Model Building\n",
    "\n",
    "Now, we'll define our RNN architecture. A typical RNN consists of an embedding layer, RNN layers, and a fully connected layers.\n",
    "\n",
    "### Exercise\n",
    "1. Define a RNN class inheriting from torch.nn.Module.\n",
    "2. Include one Embedding layer, two LSTM layers, and two Linear layers."
   ],
   "id": "ebf01dbc897fa0e3"
  },
  {
   "metadata": {
    "ExecuteTime": {
     "end_time": "2024-11-15T10:27:18.379567Z",
     "start_time": "2024-11-15T10:27:18.366991Z"
    }
   },
   "cell_type": "code",
   "source": [
    "import torch.nn as nn\n",
    "\n",
    "class RecurrentModel(nn.Module):\n",
    "    \n",
    "    def __init__(self, input_size, hidden_size):\n",
    "        super(RecurrentModel, self).__init__()\n",
    "        self.embedding = nn.Embedding(input_size, hidden_size)\n",
    "        self.lstm1 = nn.LSTM(hidden_size, int(hidden_size/2), batch_first=True)\n",
    "        self.lstm2 = nn.LSTM(int(hidden_size/2), int(int(hidden_size/2)/2), batch_first=True)\n",
    "        self.fc1 = nn.Linear(int(int(hidden_size/2)/2), 1)\n",
    "        self.activation = nn.ReLU()\n",
    "        self.sigmoid = nn.Sigmoid()\n",
    "        \n",
    "    def forward(self, x):\n",
    "        x = self.embedding(x)\n",
    "        x, _ = self.lstm1(x)\n",
    "        x = self.activation(x)\n",
    "        x, (h_n, c_n) = self.lstm2(x)\n",
    "        x = self.fc1(h_n[-1])\n",
    "        x = self.sigmoid(x)\n",
    "        return x"
   ],
   "id": "86bc9381447392ae",
   "outputs": [],
   "execution_count": 46
  },
  {
   "metadata": {},
   "cell_type": "markdown",
   "source": [
    "## 4. Model Training\n",
    "\n",
    "We'll now define the training loop to optimize our model using the binary cross-entropy loss function and the Adam optimizer.\n",
    "\n",
    "### Exercise\n",
    "1. Define a function to train the model for a specified number of epochs.\n",
    "2. Print the training loss after each epoch."
   ],
   "id": "ef72a0844d23519e"
  },
  {
   "metadata": {
    "ExecuteTime": {
     "end_time": "2024-11-15T10:17:35.569974Z",
     "start_time": "2024-11-15T10:09:30.258585Z"
    }
   },
   "cell_type": "code",
   "source": [
    "from torch.nn import BCELoss\n",
    "from torch.optim import Adam\n",
    "\n",
    "device = torch.device(\"cuda\" if torch.cuda.is_available() else \"cpu\")\n",
    "model = RecurrentModel(input_size = len(vocab), hidden_size = 300).to(device)\n",
    "\n",
    "criterion = nn.BCELoss()\n",
    "optimizer = Adam(model.parameters(), lr = 0.001)\n",
    "\n",
    "def train(model, train_loader, criterion, optimizer, epochs):\n",
    "    model.train()\n",
    "    for epoch in range(epochs):\n",
    "        running_loss = 0.0\n",
    "        correct = 0\n",
    "        total = 0 \n",
    "        for x, y in train_loader:\n",
    "            x, y = x.to(device), y.to(device)\n",
    "            optimizer.zero_grad()\n",
    "            outputs = model(x)\n",
    "            loss = criterion(outputs.squeeze(), y.float())\n",
    "            loss.backward()\n",
    "            optimizer.step()\n",
    "            \n",
    "            running_loss += loss.item()\n",
    "            predicted = (outputs.squeeze() > 0.5).long()\n",
    "            correct += (predicted == y).sum().item()\n",
    "            total += y.size(0)\n",
    "            \n",
    "        avg_loss = running_loss / len(train_loader)\n",
    "        acurracy = 100. * correct / total\n",
    "        print(f\"Epoch: {epoch}, Loss: {avg_loss:.4f}, Accuracy: {acurracy:.2f}\")\n",
    "        \n",
    "train(model, train_loader, criterion, optimizer, epochs=5)\n",
    "            "
   ],
   "id": "60e9b2d2d4323664",
   "outputs": [
    {
     "name": "stdout",
     "output_type": "stream",
     "text": [
      "Epoch: 0, Loss: 0.6933, Accuracy: 50.39\n",
      "Epoch: 1, Loss: 0.6091, Accuracy: 67.39\n",
      "Epoch: 2, Loss: 0.4656, Accuracy: 79.86\n",
      "Epoch: 3, Loss: 0.3585, Accuracy: 85.52\n",
      "Epoch: 4, Loss: 0.3027, Accuracy: 88.01\n"
     ]
    }
   ],
   "execution_count": 25
  },
  {
   "metadata": {},
   "cell_type": "markdown",
   "source": [
    "## 5. Model Evaluation\n",
    "\n",
    "After training, we need to evaluate our model on the test dataset to understand its performance.\n",
    "\n",
    "### Exercise\n",
    "1. Define a function to evaluate the model's accuracy on the test set.\n",
    "2. Print the accuracy."
   ],
   "id": "5ffdb68841ef1798"
  },
  {
   "metadata": {
    "ExecuteTime": {
     "end_time": "2024-11-15T10:28:15.970668Z",
     "start_time": "2024-11-15T10:27:37.536747Z"
    }
   },
   "cell_type": "code",
   "source": [
    "model.eval()\n",
    "correct = 0\n",
    "total = 0\n",
    "with torch.no_grad():\n",
    "    for x, y in test_loader:\n",
    "        x, y = x.to(device), y.to(device)\n",
    "        outputs = model(x)\n",
    "        predicted = (outputs.squeeze() > 0.5).long()\n",
    "        correct += (predicted == y).sum().item()\n",
    "        total += y.size(0)\n",
    "        \n",
    "print(f\"Test Accuracy: {100*correct/total:.2f}%\")\n",
    "\n"
   ],
   "id": "753013a29969972c",
   "outputs": [
    {
     "name": "stdout",
     "output_type": "stream",
     "text": [
      "Test Accuracy: 91.45%\n"
     ]
    }
   ],
   "execution_count": 48
  },
  {
   "metadata": {
    "ExecuteTime": {
     "end_time": "2024-11-15T09:28:50.830640Z",
     "start_time": "2024-11-15T09:28:50.675613Z"
    }
   },
   "cell_type": "code",
   "source": [],
   "id": "f97e3a9ed9ac1b32",
   "outputs": [],
   "execution_count": 20
  }
 ],
 "metadata": {
  "kernelspec": {
   "display_name": "Python 3",
   "language": "python",
   "name": "python3"
  },
  "language_info": {
   "codemirror_mode": {
    "name": "ipython",
    "version": 2
   },
   "file_extension": ".py",
   "mimetype": "text/x-python",
   "name": "python",
   "nbconvert_exporter": "python",
   "pygments_lexer": "ipython2",
   "version": "2.7.6"
  }
 },
 "nbformat": 4,
 "nbformat_minor": 5
}

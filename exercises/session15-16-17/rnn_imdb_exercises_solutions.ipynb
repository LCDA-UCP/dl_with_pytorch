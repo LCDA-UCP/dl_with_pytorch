{
 "cells": [
  {
   "metadata": {},
   "cell_type": "markdown",
   "source": [
    "# RNNs Tutorial with PyTorch on the IMDB Dataset\n",
    "\n",
    "In this tutorial, we will build a Recurrent Neural Network (CNN) to classify movie reviews as positive or negative using the IMDB dataset.\n",
    " \n",
    "We'll go through the following steps:\n",
    "\n",
    "1. **Data Loading, Processing, and Augmentation**\n",
    "2. **Data Exploration**\n",
    "3. **Model Building**\n",
    "4. **Model Training**\n",
    "5. **Model Evaluation**\n",
    "\n"
   ],
   "id": "9cf2cd67a7fb4ec1"
  },
  {
   "metadata": {},
   "cell_type": "markdown",
   "source": [
    "## 1. Data Loading, Processing, and Augmentation\n",
    "\n",
    "The IMDB dataset contains 50,000 movie reviews, split into 25,000 reviews for training and 25,000 reviews for testing. The dataset is preprocessed, and each review is encoded as a sequence of word indexes.\n",
    "\n",
    "### Exercise 1.1 - Data Loading and Processing\n",
    "\n",
    "1. Load the data from `'../../data/imdb_dataset.zip'` using pandas.\n",
    "2. Convert the `sentiment` column to a binary label (0 for negative and 1 for positive).\n",
    "3. Split the dataset into training and test sets (25,000 samples each).\n",
    "4. Preprocess the `review` column by converting it to lowercase and removing special characters, punctuation and stopwords. Additionally, use a stemming or lemmatization technique.\n",
    "5. Build a vocabulary of unique words in the training dataset.\n",
    "6. Tokenize the reviews using the vocabulary, i.e., replace each word with its index in the vocabulary. Note that the reviews should be padded to a fixed length.\n",
    "7. Create the data loaders for training and test datasets.\n"
   ],
   "id": "de854ac82e9a020b"
  },
  {
   "metadata": {
    "ExecuteTime": {
     "end_time": "2024-11-15T11:06:18.405307Z",
     "start_time": "2024-11-15T11:06:17.532548Z"
    }
   },
   "cell_type": "code",
   "source": [
    "import pandas as pd\n",
    "\n",
    "# Load dataset\n",
    "df = pd.read_csv('../../data/imdb_dataset.zip', compression='zip')  # Load as per your format\n",
    "df['sentiment'] = df['sentiment'].map({'positive': 1, 'negative': 0})\n",
    "df.head()"
   ],
   "id": "d98248f80f8d704a",
   "outputs": [
    {
     "data": {
      "text/plain": [
       "                                              review  sentiment\n",
       "0  One of the other reviewers has mentioned that ...          1\n",
       "1  A wonderful little production. <br /><br />The...          1\n",
       "2  I thought this was a wonderful way to spend ti...          1\n",
       "3  Basically there's a family where a little boy ...          0\n",
       "4  Petter Mattei's \"Love in the Time of Money\" is...          1"
      ],
      "text/html": [
       "<div>\n",
       "<style scoped>\n",
       "    .dataframe tbody tr th:only-of-type {\n",
       "        vertical-align: middle;\n",
       "    }\n",
       "\n",
       "    .dataframe tbody tr th {\n",
       "        vertical-align: top;\n",
       "    }\n",
       "\n",
       "    .dataframe thead th {\n",
       "        text-align: right;\n",
       "    }\n",
       "</style>\n",
       "<table border=\"1\" class=\"dataframe\">\n",
       "  <thead>\n",
       "    <tr style=\"text-align: right;\">\n",
       "      <th></th>\n",
       "      <th>review</th>\n",
       "      <th>sentiment</th>\n",
       "    </tr>\n",
       "  </thead>\n",
       "  <tbody>\n",
       "    <tr>\n",
       "      <th>0</th>\n",
       "      <td>One of the other reviewers has mentioned that ...</td>\n",
       "      <td>1</td>\n",
       "    </tr>\n",
       "    <tr>\n",
       "      <th>1</th>\n",
       "      <td>A wonderful little production. &lt;br /&gt;&lt;br /&gt;The...</td>\n",
       "      <td>1</td>\n",
       "    </tr>\n",
       "    <tr>\n",
       "      <th>2</th>\n",
       "      <td>I thought this was a wonderful way to spend ti...</td>\n",
       "      <td>1</td>\n",
       "    </tr>\n",
       "    <tr>\n",
       "      <th>3</th>\n",
       "      <td>Basically there's a family where a little boy ...</td>\n",
       "      <td>0</td>\n",
       "    </tr>\n",
       "    <tr>\n",
       "      <th>4</th>\n",
       "      <td>Petter Mattei's \"Love in the Time of Money\" is...</td>\n",
       "      <td>1</td>\n",
       "    </tr>\n",
       "  </tbody>\n",
       "</table>\n",
       "</div>"
      ]
     },
     "execution_count": 2,
     "metadata": {},
     "output_type": "execute_result"
    }
   ],
   "execution_count": 2
  },
  {
   "metadata": {
    "ExecuteTime": {
     "end_time": "2024-11-15T11:06:19.358189Z",
     "start_time": "2024-11-15T11:06:18.440889Z"
    }
   },
   "cell_type": "code",
   "source": [
    "# Split the dataset\n",
    "from sklearn.model_selection import train_test_split\n",
    "\n",
    "train_df, test_df = train_test_split(df, test_size=0.5, random_state=42)\n",
    "train_df.shape, test_df.shape"
   ],
   "id": "4d35a16ffac61778",
   "outputs": [
    {
     "data": {
      "text/plain": [
       "((25000, 2), (25000, 2))"
      ]
     },
     "execution_count": 3,
     "metadata": {},
     "output_type": "execute_result"
    }
   ],
   "execution_count": 3
  },
  {
   "metadata": {
    "ExecuteTime": {
     "end_time": "2024-11-15T11:07:21.677479Z",
     "start_time": "2024-11-15T11:06:19.406533Z"
    }
   },
   "cell_type": "code",
   "source": [
    "import nltk\n",
    "from nltk.corpus import stopwords\n",
    "import re\n",
    "\n",
    "nltk.download('stopwords')\n",
    "stopwords = set(stopwords.words('english'))\n",
    "\n",
    "nltk.download('punkt')\n",
    "\n",
    "stemmer = nltk.PorterStemmer()\n",
    "\n",
    "def preprocess_text(text):\n",
    "    # Convert to lowercase\n",
    "    text = text.lower()\n",
    "    # Remove special characters, including numbers\n",
    "    text = re.sub(r'\\W', ' ', text)\n",
    "    # Remove punctuation\n",
    "    text = re.sub(r'[^\\w\\s]', ' ', text)\n",
    "    # Remove stopwords\n",
    "    text = ' '.join([word for word in text.split() if word not in stopwords])\n",
    "    # stemming\n",
    "    text = ' '.join([stemmer.stem(word) for word in text.split()])\n",
    "    return text\n",
    "\n",
    "train_df['preproc_review'] = train_df['review'].apply(preprocess_text)\n",
    "test_df['preproc_review'] = test_df['review'].apply(preprocess_text)"
   ],
   "id": "b973103232079f75",
   "outputs": [
    {
     "name": "stderr",
     "output_type": "stream",
     "text": [
      "[nltk_data] Downloading package stopwords to /home/joao-\n",
      "[nltk_data]     correia/nltk_data...\n",
      "[nltk_data]   Package stopwords is already up-to-date!\n",
      "[nltk_data] Downloading package punkt to /home/joao-\n",
      "[nltk_data]     correia/nltk_data...\n",
      "[nltk_data]   Package punkt is already up-to-date!\n"
     ]
    }
   ],
   "execution_count": 4
  },
  {
   "metadata": {
    "ExecuteTime": {
     "end_time": "2024-11-15T11:07:36.520044Z",
     "start_time": "2024-11-15T11:07:21.686679Z"
    }
   },
   "cell_type": "code",
   "source": [
    "# build vocabulary\n",
    "def tokenize_text(text):\n",
    "    return nltk.word_tokenize(text)\n",
    "\n",
    "train_df['tokens'] = train_df['preproc_review'].apply(tokenize_text)\n",
    "test_df['tokens'] = test_df['preproc_review'].apply(tokenize_text)\n",
    "\n",
    "all_tokens = set([word for tokens in train_df['tokens'] for word in tokens])\n",
    "# get top 5000 words\n",
    "top_5000 = pd.Series([word for tokens in train_df['tokens'] for word in tokens]).value_counts().index[:5000]\n",
    "vocab = {word: i + 2 for i, word in enumerate(top_5000)}\n",
    "vocab['<unk>'] = 0\n",
    "vocab['<pad>'] = 1\n",
    "\n",
    "len(vocab)"
   ],
   "id": "2d5dc17df6189d98",
   "outputs": [
    {
     "data": {
      "text/plain": [
       "5002"
      ]
     },
     "execution_count": 5,
     "metadata": {},
     "output_type": "execute_result"
    }
   ],
   "execution_count": 5
  },
  {
   "metadata": {
    "ExecuteTime": {
     "end_time": "2024-11-15T11:07:37.106870Z",
     "start_time": "2024-11-15T11:07:36.563353Z"
    }
   },
   "cell_type": "code",
   "source": [
    "# Tokenize reviews\n",
    "def tokenize_review(tokens):\n",
    "    return [vocab.get(token, vocab['<unk>']) for token in tokens]\n",
    "\n",
    "train_df['tokenized'] = train_df['tokens'].apply(tokenize_review)\n",
    "test_df['tokenized'] = test_df['tokens'].apply(tokenize_review)"
   ],
   "id": "ca686b162ef1e561",
   "outputs": [],
   "execution_count": 6
  },
  {
   "metadata": {
    "ExecuteTime": {
     "end_time": "2024-11-15T11:07:37.151078Z",
     "start_time": "2024-11-15T11:07:37.142987Z"
    }
   },
   "cell_type": "code",
   "source": [
    "train_df.head()"
   ],
   "id": "570e293bcd709a1f",
   "outputs": [
    {
     "data": {
      "text/plain": [
       "                                                  review  sentiment  \\\n",
       "25858  \"Congo\" is based on the best-selling novel by ...          0   \n",
       "10784  Wow, here it finally is; the action \"movie\" wi...          0   \n",
       "24807  'Identity . . . . I am part of my surrounding...          1   \n",
       "49534  \"Sir\" John Gielgud must have become senile to ...          0   \n",
       "3345   Below average movie with poor music considerin...          0   \n",
       "\n",
       "                                          preproc_review  \\\n",
       "25858  congo base best sell novel michael crichton th...   \n",
       "10784  wow final action movi without action real low ...   \n",
       "24807  ident part surround becam separ abl make diffe...   \n",
       "49534  sir john gielgud must becom senil star mess mo...   \n",
       "3345   averag movi poor music consid movi base music ...   \n",
       "\n",
       "                                                  tokens  \\\n",
       "25858  [congo, base, best, sell, novel, michael, cric...   \n",
       "10784  [wow, final, action, movi, without, action, re...   \n",
       "24807  [ident, part, surround, becam, separ, abl, mak...   \n",
       "49534  [sir, john, gielgud, must, becom, senil, star,...   \n",
       "3345   [averag, movi, poor, music, consid, movi, base...   \n",
       "\n",
       "                                               tokenized  \n",
       "25858  [0, 323, 52, 1133, 507, 423, 0, 95, 302, 0, 28...  \n",
       "10784  [1132, 141, 110, 3, 131, 110, 72, 295, 256, 87...  \n",
       "24807  [1366, 67, 1235, 857, 1630, 432, 8, 0, 664, 16...  \n",
       "49534  [2150, 253, 0, 129, 142, 0, 82, 730, 3, 6, 5, ...  \n",
       "3345   [795, 3, 271, 81, 358, 3, 323, 81, 1662, 124, ...  "
      ],
      "text/html": [
       "<div>\n",
       "<style scoped>\n",
       "    .dataframe tbody tr th:only-of-type {\n",
       "        vertical-align: middle;\n",
       "    }\n",
       "\n",
       "    .dataframe tbody tr th {\n",
       "        vertical-align: top;\n",
       "    }\n",
       "\n",
       "    .dataframe thead th {\n",
       "        text-align: right;\n",
       "    }\n",
       "</style>\n",
       "<table border=\"1\" class=\"dataframe\">\n",
       "  <thead>\n",
       "    <tr style=\"text-align: right;\">\n",
       "      <th></th>\n",
       "      <th>review</th>\n",
       "      <th>sentiment</th>\n",
       "      <th>preproc_review</th>\n",
       "      <th>tokens</th>\n",
       "      <th>tokenized</th>\n",
       "    </tr>\n",
       "  </thead>\n",
       "  <tbody>\n",
       "    <tr>\n",
       "      <th>25858</th>\n",
       "      <td>\"Congo\" is based on the best-selling novel by ...</td>\n",
       "      <td>0</td>\n",
       "      <td>congo base best sell novel michael crichton th...</td>\n",
       "      <td>[congo, base, best, sell, novel, michael, cric...</td>\n",
       "      <td>[0, 323, 52, 1133, 507, 423, 0, 95, 302, 0, 28...</td>\n",
       "    </tr>\n",
       "    <tr>\n",
       "      <th>10784</th>\n",
       "      <td>Wow, here it finally is; the action \"movie\" wi...</td>\n",
       "      <td>0</td>\n",
       "      <td>wow final action movi without action real low ...</td>\n",
       "      <td>[wow, final, action, movi, without, action, re...</td>\n",
       "      <td>[1132, 141, 110, 3, 131, 110, 72, 295, 256, 87...</td>\n",
       "    </tr>\n",
       "    <tr>\n",
       "      <th>24807</th>\n",
       "      <td>'Identity . . . . I am part of my surrounding...</td>\n",
       "      <td>1</td>\n",
       "      <td>ident part surround becam separ abl make diffe...</td>\n",
       "      <td>[ident, part, surround, becam, separ, abl, mak...</td>\n",
       "      <td>[1366, 67, 1235, 857, 1630, 432, 8, 0, 664, 16...</td>\n",
       "    </tr>\n",
       "    <tr>\n",
       "      <th>49534</th>\n",
       "      <td>\"Sir\" John Gielgud must have become senile to ...</td>\n",
       "      <td>0</td>\n",
       "      <td>sir john gielgud must becom senil star mess mo...</td>\n",
       "      <td>[sir, john, gielgud, must, becom, senil, star,...</td>\n",
       "      <td>[2150, 253, 0, 129, 142, 0, 82, 730, 3, 6, 5, ...</td>\n",
       "    </tr>\n",
       "    <tr>\n",
       "      <th>3345</th>\n",
       "      <td>Below average movie with poor music considerin...</td>\n",
       "      <td>0</td>\n",
       "      <td>averag movi poor music consid movi base music ...</td>\n",
       "      <td>[averag, movi, poor, music, consid, movi, base...</td>\n",
       "      <td>[795, 3, 271, 81, 358, 3, 323, 81, 1662, 124, ...</td>\n",
       "    </tr>\n",
       "  </tbody>\n",
       "</table>\n",
       "</div>"
      ]
     },
     "execution_count": 7,
     "metadata": {},
     "output_type": "execute_result"
    }
   ],
   "execution_count": 7
  },
  {
   "metadata": {
    "ExecuteTime": {
     "end_time": "2024-11-15T11:07:37.647374Z",
     "start_time": "2024-11-15T11:07:37.228520Z"
    }
   },
   "cell_type": "code",
   "source": [
    "from torch.utils.data import TensorDataset, DataLoader\n",
    "\n",
    "MAX_LENGTH = 300\n",
    "\n",
    "def pad_or_truncate(indices, max_length=MAX_LENGTH):\n",
    "    if len(indices) > max_length:\n",
    "        return indices[:max_length]  # Truncate if longer than max_length\n",
    "    else:\n",
    "        return indices + [1] * (max_length - len(indices))  # Pad if shorter\n",
    "\n",
    "train_df['padded_tokenized'] = train_df['tokenized'].apply(lambda x: pad_or_truncate(x, MAX_LENGTH))\n",
    "test_df['padded_tokenized'] = test_df['tokenized'].apply(lambda x: pad_or_truncate(x, MAX_LENGTH))"
   ],
   "id": "116fc3f49260ae1c",
   "outputs": [],
   "execution_count": 8
  },
  {
   "metadata": {
    "ExecuteTime": {
     "end_time": "2024-11-15T11:07:39.133639Z",
     "start_time": "2024-11-15T11:07:37.686058Z"
    }
   },
   "cell_type": "code",
   "source": [
    "# Convert the data to tensors\n",
    "def prepare_data(df):\n",
    "    inputs = torch.tensor(df['padded_tokenized'].tolist())\n",
    "    labels = torch.tensor(df['sentiment'].tolist())\n",
    "    return TensorDataset(inputs, labels)\n",
    "\n",
    "train_data = prepare_data(train_df)\n",
    "test_data = prepare_data(test_df)\n",
    "\n",
    "train_loader = DataLoader(train_data, batch_size=32, shuffle=True)\n",
    "test_loader = DataLoader(test_data, batch_size=32)"
   ],
   "id": "560106d252698ec9",
   "outputs": [],
   "execution_count": 9
  },
  {
   "metadata": {},
   "cell_type": "markdown",
   "source": [
    "### Exercise 1.2 - Data Augmentation\n",
    "\n",
    "1. Define a function to replace random words with synonyms from WordNet in the reviews.\n",
    "2. Augment the training dataset by replacing words in a few reviews with synonyms.\n",
    "\n",
    "Note: Never augment the test dataset. It's essential to evaluate the model on the original data."
   ],
   "id": "7a2ad79060d1313f"
  },
  {
   "metadata": {
    "ExecuteTime": {
     "end_time": "2024-11-15T11:07:41.850663Z",
     "start_time": "2024-11-15T11:07:39.143032Z"
    }
   },
   "cell_type": "code",
   "source": [
    "import random\n",
    "from nltk.corpus import wordnet\n",
    "\n",
    "nltk.download('wordnet')\n",
    "\n",
    "def augment_text(text, max_augment=3):\n",
    "    tokens = text.split()[:20]\n",
    "    augmented_tokens = tokens.copy()\n",
    "    \n",
    "    for _ in range(max_augment):\n",
    "        if len(augmented_tokens) > 1:\n",
    "            rand_idx = random.randint(0, len(augmented_tokens) - 1)\n",
    "            word = augmented_tokens[rand_idx]\n",
    "            synonyms = wordnet.synsets(word)\n",
    "            if synonyms:\n",
    "                replacement = random.choice(synonyms).lemmas()[0].name()\n",
    "                augmented_tokens[rand_idx] = replacement\n",
    "    print(f\"Original: {' '.join(tokens)}\")\n",
    "    print(f\"Augmented: {' '.join(augmented_tokens)}\")\n",
    "    print('\\n\\n')\n",
    "    return ' '.join(augmented_tokens)\n",
    "\n",
    "# Apply augmentation to training set\n",
    "train_df['review'].iloc[:3].apply(lambda x: augment_text(x, max_augment=3))"
   ],
   "id": "cec1e57df2661d62",
   "outputs": [
    {
     "name": "stderr",
     "output_type": "stream",
     "text": [
      "[nltk_data] Downloading package wordnet to /home/joao-\n",
      "[nltk_data]     correia/nltk_data...\n",
      "[nltk_data]   Package wordnet is already up-to-date!\n"
     ]
    },
    {
     "name": "stdout",
     "output_type": "stream",
     "text": [
      "Original: \"Congo\" is based on the best-selling novel by Michael Crichton, which I thought lacked Crichton's usual charm, smart characters and\n",
      "Augmented: \"Congo\" is based on the best-selling novel by Michael Crichton, which one thought miss Crichton's usual charm, smart characters and\n",
      "\n",
      "\n",
      "\n",
      "Original: Wow, here it finally is; the action \"movie\" without action. In a real low-budget setting (don't miss the hilarious flying\n",
      "Augmented: Wow, here it finally is; the action \"movie\" without action. inch a real low-budget setting (don't miss the hilarious flying\n",
      "\n",
      "\n",
      "\n",
      "Original: 'Identity . . . . I am part of my surroundings and I became separate from them and it's being\n",
      "Augmented: 'Identity . . . . I am part of my surroundings and I became separate from them and it's being\n"
     ]
    },
    {
     "data": {
      "text/plain": [
       "25858    \"Congo\" is based on the best-selling novel by ...\n",
       "10784    Wow, here it finally is; the action \"movie\" wi...\n",
       "24807    'Identity . . . . I am part of my surrounding...\n",
       "Name: review, dtype: object"
      ]
     },
     "execution_count": 10,
     "metadata": {},
     "output_type": "execute_result"
    }
   ],
   "execution_count": 10
  },
  {
   "metadata": {},
   "cell_type": "markdown",
   "source": [
    "## 2. Data Exploration\n",
    "\n",
    "Before training our model, it's essential to explore the data. This helps us understand its distribution and visualize some examples.\n",
    "\n",
    "### Exercise 2 - Data Exploration\n",
    "1. Print the number of positive and negative reviews in the training and test datasets.\n",
    "2. Plot a histogram of the length of reviews in the training and test datasets.\n",
    "3. Print a few reviews and their corresponding sentiment labels."
   ],
   "id": "8c4d4b41cceb7666"
  },
  {
   "metadata": {
    "ExecuteTime": {
     "end_time": "2024-11-15T11:07:41.921298Z",
     "start_time": "2024-11-15T11:07:41.912045Z"
    }
   },
   "cell_type": "code",
   "source": [
    "# number of positive and negative reviews\n",
    "train_df['sentiment'].value_counts(), test_df['sentiment'].value_counts()"
   ],
   "id": "3d3e17130dd15243",
   "outputs": [
    {
     "data": {
      "text/plain": [
       "(sentiment\n",
       " 0    12517\n",
       " 1    12483\n",
       " Name: count, dtype: int64,\n",
       " sentiment\n",
       " 1    12517\n",
       " 0    12483\n",
       " Name: count, dtype: int64)"
      ]
     },
     "execution_count": 11,
     "metadata": {},
     "output_type": "execute_result"
    }
   ],
   "execution_count": 11
  },
  {
   "metadata": {
    "ExecuteTime": {
     "end_time": "2024-11-15T11:07:42.297614Z",
     "start_time": "2024-11-15T11:07:41.944059Z"
    }
   },
   "cell_type": "code",
   "source": [
    "# length of reviews (histogram)\n",
    "import matplotlib.pyplot as plt\n",
    "\n",
    "sizes = train_df['tokenized'].apply(len)\n",
    "plt.hist(sizes, bins=30)"
   ],
   "id": "757af2ea7a33129d",
   "outputs": [
    {
     "data": {
      "text/plain": [
       "(array([3.0260e+03, 1.0931e+04, 4.7480e+03, 2.4410e+03, 1.3860e+03,\n",
       "        9.0700e+02, 5.3200e+02, 3.6400e+02, 2.6400e+02, 1.7100e+02,\n",
       "        1.2300e+02, 6.9000e+01, 1.7000e+01, 6.0000e+00, 3.0000e+00,\n",
       "        3.0000e+00, 1.0000e+00, 3.0000e+00, 1.0000e+00, 2.0000e+00,\n",
       "        0.0000e+00, 0.0000e+00, 0.0000e+00, 0.0000e+00, 1.0000e+00,\n",
       "        0.0000e+00, 0.0000e+00, 0.0000e+00, 0.0000e+00, 1.0000e+00]),\n",
       " array([   4.        ,   52.36666667,  100.73333333,  149.1       ,\n",
       "         197.46666667,  245.83333333,  294.2       ,  342.56666667,\n",
       "         390.93333333,  439.3       ,  487.66666667,  536.03333333,\n",
       "         584.4       ,  632.76666667,  681.13333333,  729.5       ,\n",
       "         777.86666667,  826.23333333,  874.6       ,  922.96666667,\n",
       "         971.33333333, 1019.7       , 1068.06666667, 1116.43333333,\n",
       "        1164.8       , 1213.16666667, 1261.53333333, 1309.9       ,\n",
       "        1358.26666667, 1406.63333333, 1455.        ]),\n",
       " <BarContainer object of 30 artists>)"
      ]
     },
     "execution_count": 12,
     "metadata": {},
     "output_type": "execute_result"
    },
    {
     "data": {
      "text/plain": [
       "<Figure size 640x480 with 1 Axes>"
      ],
      "image/png": "[encoded data removed]"
     },
     "metadata": {},
     "output_type": "display_data"
    }
   ],
   "execution_count": 12
  },
  {
   "metadata": {
    "ExecuteTime": {
     "end_time": "2024-11-15T11:07:42.420818Z",
     "start_time": "2024-11-15T11:07:42.324530Z"
    }
   },
   "cell_type": "code",
   "source": [
    "sizes = test_df['tokenized'].apply(len)\n",
    "plt.hist(sizes, bins=30)"
   ],
   "id": "ba41e3c8301a24c3",
   "outputs": [
    {
     "data": {
      "text/plain": [
       "(array([2.124e+03, 8.784e+03, 5.773e+03, 2.861e+03, 1.838e+03, 1.132e+03,\n",
       "        7.550e+02, 5.450e+02, 3.500e+02, 2.590e+02, 1.810e+02, 1.680e+02,\n",
       "        1.160e+02, 6.900e+01, 3.300e+01, 7.000e+00, 2.000e+00, 0.000e+00,\n",
       "        0.000e+00, 0.000e+00, 0.000e+00, 0.000e+00, 0.000e+00, 1.000e+00,\n",
       "        0.000e+00, 0.000e+00, 0.000e+00, 0.000e+00, 0.000e+00, 2.000e+00]),\n",
       " array([   3. ,   43.4,   83.8,  124.2,  164.6,  205. ,  245.4,  285.8,\n",
       "         326.2,  366.6,  407. ,  447.4,  487.8,  528.2,  568.6,  609. ,\n",
       "         649.4,  689.8,  730.2,  770.6,  811. ,  851.4,  891.8,  932.2,\n",
       "         972.6, 1013. , 1053.4, 1093.8, 1134.2, 1174.6, 1215. ]),\n",
       " <BarContainer object of 30 artists>)"
      ]
     },
     "execution_count": 13,
     "metadata": {},
     "output_type": "execute_result"
    },
    {
     "data": {
      "text/plain": [
       "<Figure size 640x480 with 1 Axes>"
      ],
      "image/png": "[encoded data removed]"
     },
     "metadata": {},
     "output_type": "display_data"
    }
   ],
   "execution_count": 13
  },
  {
   "metadata": {
    "ExecuteTime": {
     "end_time": "2024-11-15T11:07:42.470805Z",
     "start_time": "2024-11-15T11:07:42.467747Z"
    }
   },
   "cell_type": "code",
   "source": [
    "# print reviews and sentiment labels\n",
    "for i in range(5):\n",
    "    print(f\"Review: {train_df['review'].iloc[i]}\\nSentiment: {train_df['sentiment'].iloc[i]}\\n\")"
   ],
   "id": "c6b4941645567b17",
   "outputs": [
    {
     "name": "stdout",
     "output_type": "stream",
     "text": [
      "Review: \"Congo\" is based on the best-selling novel by Michael Crichton, which I thought lacked Crichton's usual charm, smart characters and punch. Well, sorry to say, but the same goes for the film.<br /><br />Here's the plot:<br /><br />Greed is bad, this simple morality tale cautions. A megalomaniacal C.E.O. (Joe Don Baker) sends his son into the dangerous African Congo on a quest for a source of diamonds large enough and pure enough to function as powerful laser communications transmitter (or is it laser weapons?). When contact is lost with his son and the team, his daughter-in-law (Laura Linney), a former CIA operative and computer-freak, is sent after them. On her quest, she is accompanied by gee-whiz gadgetry and a few eccentric characters (including a mercenary (Ernie Hudson), a researcher with a talking gorilla (Dylan Walsh), and a a nutty Indiana-Jones-type looking for King Solomon's Mines (Tim Curry). After some narrow escapes from surface-to-air missiles and some African wildlife, they all discover that often what we most want turns out to be the source of our downfall.<br /><br /> The actors in this movie were not talented. Dylan Walsh acts like a pathetic crybaby, especially at the end; Ernie Hudson is unconvincing (is it no wonder he went on to star in TV films?) and Laura Linney is nothing special. I think I can safely say the only talented actors in this film had very small roles: Joe Don Baker and Tim Curry, an always enjoyable actor (although sometimes scarred for life by constantly being reminded of his \"Rocky Horror Picture\" days).<br /><br /> This movie also had some other problems, including awful direction style, cheesy dialogue and a just-plain-boring plot, which was completely hashed when compared to Crichton's novel.<br /><br /> Not even Stan Winston's creature effects could save this movie from being a disaster. I am deeply disappointed in this movie; there was not even a campy quality to redeem itself with. It was just plain awful, cheesy, boring and ridiculous, and proves to be one of the worst Crichton book-to-film productions.<br /><br />2/5 stars -<br /><br />John Ulmer\n",
      "Sentiment: 0\n",
      "\n",
      "Review: Wow, here it finally is; the action \"movie\" without action. In a real low-budget setting (don't miss the hilarious flying saucers flying by a few times) of a future Seattle we find a no-brain hardbody seeking to avenge her childhood.<br /><br />There is nothing even remotely original or interesting about the plot and the actors' performance is only rivalled in stupidity by the attempts to steal from other movies, mainly \"Matrix\" without having the money to do it right. Yes, we do get to see some running on walls and slow motion shoot-outs (45 secs approx.) but these scenes are about as cool as the stupid hardbody's attempts at making jokes about male incompetence now and then.<br /><br />And, yes, we are also served a number of leads that lead absolutely nowhere, as if the script was thought-out by the previously unseen cast while shooting the scenes.<br /><br />Believe me, it is as bad as it possibly can get. In fact, it doesn't deserve to be taken seriously, but perhaps I can make some of you not rent it and save your money.\n",
      "Sentiment: 0\n",
      "\n",
      "Review: 'Identity . . . . I am part of my surroundings and I became separate from them and it's being able to make those differentiations clearly that lets us have an identity and what's inside our identity is everything that's ever happened to us' (Ntozake Shange qtd in \"Fires in the Mirror\").<br /><br />Pieces like Decalogue V used to intimidate me. I felt that if I accepted them, than I would be compromising something. What I thought before really isn't worth getting into. I understand what Naturalism is trying to say. I experienced a tangible katharsis, and one that fell into existence piecemeal, and one that's still alive, that I still have to reckon with. It's still working inside me. <br /><br />The film wasn't sympathetic, per se. It doesn't need to say that the death penalty is a wicked thing. There are certainly wicked people; whether or not they should die is for another film. What Decalogue shows is that good, beautiful people exists who kill other people when their society and primal urges jack them up. <br /><br />The 'science' of naturalism is what has helped me to appreciate Decalogue V. It's not worth the writing space to go into why I would not let myself before, but I see now the worth in making art like this to 'make' people, or perhaps to make people do something. <br /><br />There's a method to Lazar's compromise of his . . . light. Much of that meaning makes sense only in retrospect. This should not be too strange of an idea: after all, how much of respectable science does not gain meaning in retrospect. I wince when I say it, but Naturalism seems so much more productive and so much less nihilistic when I have the power to say to myself, 'this ruin, this process, this natural process, makes me want to buck the system.' <br /><br />I do not think Naturalism is painting a doomsday portrait of humanity, telling us to give up our powdered wigs and head to the woods. Instead, I think that it is cataloging proofs and experiments, that we are, of course, free to ignore. We can ignore it all we want, if we want to give the Naturalists more corpses to bury. <br /><br />For surely, despite their aesthetic specifically designed without sympathy towards their characters' likely and catastrophic fate, they are impassioned by readerly inaction and writerly snobisme. I do see the delightful risk in the hope that the audience will understand what's to be done with what they see. As has been mentioned, there's danger in the hopeless seeing their fate immortalized in stone. There's danger in the hopeful disparaging the Natural because it doesn't correspond to their world view.<br /><br />And I don't think that the 'hopeful' need be either wealthy or fortunate. I have not seen it, but it seems that the film American Beauty proves the inadequacy of circumstance as a provider of vision or comfort. There are ascetics as well as gluttons as well as beggars who wonder where within themselves their humanity is, who grieve because they can't find anything that separates them from their landscape. <br /><br />Landscapes can be powerfully and beautifully portrayed, but in reality, landscapes do not enact. They change, sure, and dramatically, but only by a large set of Natural law which no one truly have power over. But it cannot be changed itself.\n",
      "Sentiment: 1\n",
      "\n",
      "Review: \"Sir\" John Gielgud must have become senile to star in a mess of a movie like this one.;<br /><br />This is one of those films, I suppose, that is considered \"art,\" but don't be fooled.....it's garbage. Stick to the \"art\" you can admire in a frame because the films that are labeled as such are usually unintelligible forgeries like this.<br /><br />In this masterpiece, Giegud recites Shakespeare's \"The Tempest\" while the camera pans away to nude people. one of them a little kid urinating in a swimming pool. Wow, this is heady stuff and real \"art,\" ain't it?? That's just one example. Most of the story makes no sense, is impossible to follow and, hence, is one that Liberal critics are afraid to say they didn't \"understand\" so they give it high marks to save their phony egos. You want Shakespeare? Read his books.\n",
      "Sentiment: 0\n",
      "\n",
      "Review: Below average movie with poor music considering a movie based on music??? Ordinary Script & Direction with full of blunders. Salman Khan was at his usual acting. Ajay's performance deteriorating with time as his looks,especially his styles as a Rock Star were pathetic. Asin was just a showpiece only. Overall I felt like wasting my money in cinema. Salman Khan remains as immature as 10 years ago compared to Aamir Khan. There were many songs in the movie all boring except \"Man Ko Ati\". The Most Important Song to impress the UK Music Sponsor was most unimpressive. \"Khanabadosh\" can be very easily understood by an English Music Sponsor. The other movie I saw last week was \"Wake Up Sid\" which was simple slow love story with good direction & acting despite average music\n",
      "Sentiment: 0\n"
     ]
    }
   ],
   "execution_count": 14
  },
  {
   "metadata": {},
   "cell_type": "markdown",
   "source": [
    "## 3. Model Building\n",
    "\n",
    "Now, we'll define our RNN architecture. A typical RNN consists of an embedding layer, RNN layers, and a fully connected layers.\n",
    "\n",
    "### Exercise\n",
    "1. Define a RNN class inheriting from torch.nn.Module.\n",
    "2. Include one Embedding layer, two LSTM layers, and two Linear layers."
   ],
   "id": "ebf01dbc897fa0e3"
  },
  {
   "metadata": {
    "ExecuteTime": {
     "end_time": "2024-11-15T11:07:42.537023Z",
     "start_time": "2024-11-15T11:07:42.520010Z"
    }
   },
   "cell_type": "code",
   "source": [
    "import torch.nn as nn\n",
    "import torch.nn.functional as F\n",
    "\n",
    "class RNNModel(nn.Module):\n",
    "    def __init__(self, vocab_size, embed_size, hidden_size, output_size):\n",
    "        super(RNNModel, self).__init__()\n",
    "        self.embedding = nn.Embedding(vocab_size, embed_size)\n",
    "        self.rnn = nn.LSTM(embed_size, hidden_size, batch_first=True)\n",
    "        self.rnn2 = nn.LSTM(hidden_size, hidden_size, batch_first=True)\n",
    "        self.fc = nn.Linear(hidden_size, int(hidden_size/2))\n",
    "        self.fc2 = nn.Linear(int(hidden_size/2), output_size)\n",
    "        self.sigmoid = nn.Sigmoid()\n",
    "\n",
    "    def forward(self, x):\n",
    "        x = self.embedding(x)\n",
    "        x, _ = self.rnn(x) # output, (h_n, c_n). h_n is the hidden state of the layer, c_n is the cell state of the layer\n",
    "        x, (hn, cn) = self.rnn2(x)\n",
    "        x = F.relu(self.fc(hn[-1]))\n",
    "        x = self.fc2(x)\n",
    "        return self.sigmoid(x)\n",
    "\n",
    "# Model initialization\n",
    "model = RNNModel(vocab_size=len(vocab), embed_size=128, hidden_size=64, output_size=1)\n",
    "model"
   ],
   "id": "86bc9381447392ae",
   "outputs": [
    {
     "data": {
      "text/plain": [
       "RNNModel(\n",
       "  (embedding): Embedding(5002, 128)\n",
       "  (rnn): LSTM(128, 64, batch_first=True)\n",
       "  (rnn2): LSTM(64, 64, batch_first=True)\n",
       "  (fc): Linear(in_features=64, out_features=32, bias=True)\n",
       "  (fc2): Linear(in_features=32, out_features=1, bias=True)\n",
       "  (sigmoid): Sigmoid()\n",
       ")"
      ]
     },
     "execution_count": 15,
     "metadata": {},
     "output_type": "execute_result"
    }
   ],
   "execution_count": 15
  },
  {
   "metadata": {},
   "cell_type": "markdown",
   "source": [
    "## 4. Model Training\n",
    "\n",
    "We'll now define the training loop to optimize our model using the binary cross-entropy loss function and the Adam optimizer.\n",
    "\n",
    "### Exercise\n",
    "1. Define a function to train the model for a specified number of epochs.\n",
    "2. Print the training loss after each epoch."
   ],
   "id": "ef72a0844d23519e"
  },
  {
   "metadata": {
    "ExecuteTime": {
     "end_time": "2024-11-15T11:07:42.863496Z",
     "start_time": "2024-11-15T11:07:42.574710Z"
    }
   },
   "cell_type": "code",
   "source": [
    "import torch\n",
    "import torch.optim as optim\n",
    "\n",
    "device = torch.device('cuda' if torch.cuda.is_available() else 'cpu')\n",
    "\n",
    "model = model.to(device)\n",
    "\n",
    "# Hyperparameters\n",
    "epochs = 5\n",
    "learning_rate = 0.001\n",
    "\n",
    "# Loss and optimizer\n",
    "loss_fn = nn.BCELoss()\n",
    "optimizer = optim.Adam(model.parameters(), lr=learning_rate)\n",
    "\n",
    "# Training loop\n",
    "for epoch in range(epochs):\n",
    "    model.train()\n",
    "    total_loss = 0\n",
    "    correct_preds = 0\n",
    "    total_preds = 0\n",
    "    for texts, labels in train_loader:\n",
    "        texts, labels = texts.to(device), labels.to(device)\n",
    "        optimizer.zero_grad()\n",
    "        outputs = model(texts)\n",
    "        loss = loss_fn(outputs.squeeze(), labels.float())\n",
    "        loss.backward()\n",
    "        optimizer.step()\n",
    "\n",
    "        total_loss += loss.item()\n",
    "        predictions = (outputs.squeeze() > 0.5).long()\n",
    "        correct_preds += (predictions == labels).sum().item()\n",
    "        total_preds += len(labels)\n",
    "\n",
    "    accuracy = correct_preds / total_preds\n",
    "    avg_loss = total_loss / len(train_loader)\n",
    "    print(f\"Epoch {epoch+1}/{epochs}, Loss: {avg_loss:.4f}, Accuracy: {accuracy*100:.2f}%\")"
   ],
   "id": "60e9b2d2d4323664",
   "outputs": [
    {
     "ename": "RuntimeError",
     "evalue": "CUDA error: CUDA-capable device(s) is/are busy or unavailable\nCUDA kernel errors might be asynchronously reported at some other API call, so the stacktrace below might be incorrect.\nFor debugging consider passing CUDA_LAUNCH_BLOCKING=1\nCompile with `TORCH_USE_CUDA_DSA` to enable device-side assertions.\n",
     "output_type": "error",
     "traceback": [
      "\u001B[0;31m---------------------------------------------------------------------------\u001B[0m",
      "\u001B[0;31mRuntimeError\u001B[0m                              Traceback (most recent call last)",
      "Cell \u001B[0;32mIn[16], line 6\u001B[0m\n\u001B[1;32m      2\u001B[0m \u001B[38;5;28;01mimport\u001B[39;00m \u001B[38;5;21;01mtorch\u001B[39;00m\u001B[38;5;21;01m.\u001B[39;00m\u001B[38;5;21;01moptim\u001B[39;00m \u001B[38;5;28;01mas\u001B[39;00m \u001B[38;5;21;01moptim\u001B[39;00m\n\u001B[1;32m      4\u001B[0m device \u001B[38;5;241m=\u001B[39m torch\u001B[38;5;241m.\u001B[39mdevice(\u001B[38;5;124m'\u001B[39m\u001B[38;5;124mcuda\u001B[39m\u001B[38;5;124m'\u001B[39m \u001B[38;5;28;01mif\u001B[39;00m torch\u001B[38;5;241m.\u001B[39mcuda\u001B[38;5;241m.\u001B[39mis_available() \u001B[38;5;28;01melse\u001B[39;00m \u001B[38;5;124m'\u001B[39m\u001B[38;5;124mcpu\u001B[39m\u001B[38;5;124m'\u001B[39m)\n\u001B[0;32m----> 6\u001B[0m model \u001B[38;5;241m=\u001B[39m \u001B[43mmodel\u001B[49m\u001B[38;5;241;43m.\u001B[39;49m\u001B[43mto\u001B[49m\u001B[43m(\u001B[49m\u001B[43mdevice\u001B[49m\u001B[43m)\u001B[49m\n\u001B[1;32m      8\u001B[0m \u001B[38;5;66;03m# Hyperparameters\u001B[39;00m\n\u001B[1;32m      9\u001B[0m epochs \u001B[38;5;241m=\u001B[39m \u001B[38;5;241m5\u001B[39m\n",
      "File \u001B[0;32m~/anaconda3/envs/dl-pytorch/lib/python3.10/site-packages/torch/nn/modules/module.py:1174\u001B[0m, in \u001B[0;36mModule.to\u001B[0;34m(self, *args, **kwargs)\u001B[0m\n\u001B[1;32m   1171\u001B[0m         \u001B[38;5;28;01melse\u001B[39;00m:\n\u001B[1;32m   1172\u001B[0m             \u001B[38;5;28;01mraise\u001B[39;00m\n\u001B[0;32m-> 1174\u001B[0m \u001B[38;5;28;01mreturn\u001B[39;00m \u001B[38;5;28;43mself\u001B[39;49m\u001B[38;5;241;43m.\u001B[39;49m\u001B[43m_apply\u001B[49m\u001B[43m(\u001B[49m\u001B[43mconvert\u001B[49m\u001B[43m)\u001B[49m\n",
      "File \u001B[0;32m~/anaconda3/envs/dl-pytorch/lib/python3.10/site-packages/torch/nn/modules/module.py:780\u001B[0m, in \u001B[0;36mModule._apply\u001B[0;34m(self, fn, recurse)\u001B[0m\n\u001B[1;32m    778\u001B[0m \u001B[38;5;28;01mif\u001B[39;00m recurse:\n\u001B[1;32m    779\u001B[0m     \u001B[38;5;28;01mfor\u001B[39;00m module \u001B[38;5;129;01min\u001B[39;00m \u001B[38;5;28mself\u001B[39m\u001B[38;5;241m.\u001B[39mchildren():\n\u001B[0;32m--> 780\u001B[0m         \u001B[43mmodule\u001B[49m\u001B[38;5;241;43m.\u001B[39;49m\u001B[43m_apply\u001B[49m\u001B[43m(\u001B[49m\u001B[43mfn\u001B[49m\u001B[43m)\u001B[49m\n\u001B[1;32m    782\u001B[0m \u001B[38;5;28;01mdef\u001B[39;00m \u001B[38;5;21mcompute_should_use_set_data\u001B[39m(tensor, tensor_applied):\n\u001B[1;32m    783\u001B[0m     \u001B[38;5;28;01mif\u001B[39;00m torch\u001B[38;5;241m.\u001B[39m_has_compatible_shallow_copy_type(tensor, tensor_applied):\n\u001B[1;32m    784\u001B[0m         \u001B[38;5;66;03m# If the new tensor has compatible tensor type as the existing tensor,\u001B[39;00m\n\u001B[1;32m    785\u001B[0m         \u001B[38;5;66;03m# the current behavior is to change the tensor in-place using `.data =`,\u001B[39;00m\n\u001B[0;32m   (...)\u001B[0m\n\u001B[1;32m    790\u001B[0m         \u001B[38;5;66;03m# global flag to let the user control whether they want the future\u001B[39;00m\n\u001B[1;32m    791\u001B[0m         \u001B[38;5;66;03m# behavior of overwriting the existing tensor or not.\u001B[39;00m\n",
      "File \u001B[0;32m~/anaconda3/envs/dl-pytorch/lib/python3.10/site-packages/torch/nn/modules/module.py:805\u001B[0m, in \u001B[0;36mModule._apply\u001B[0;34m(self, fn, recurse)\u001B[0m\n\u001B[1;32m    801\u001B[0m \u001B[38;5;66;03m# Tensors stored in modules are graph leaves, and we don't want to\u001B[39;00m\n\u001B[1;32m    802\u001B[0m \u001B[38;5;66;03m# track autograd history of `param_applied`, so we have to use\u001B[39;00m\n\u001B[1;32m    803\u001B[0m \u001B[38;5;66;03m# `with torch.no_grad():`\u001B[39;00m\n\u001B[1;32m    804\u001B[0m \u001B[38;5;28;01mwith\u001B[39;00m torch\u001B[38;5;241m.\u001B[39mno_grad():\n\u001B[0;32m--> 805\u001B[0m     param_applied \u001B[38;5;241m=\u001B[39m \u001B[43mfn\u001B[49m\u001B[43m(\u001B[49m\u001B[43mparam\u001B[49m\u001B[43m)\u001B[49m\n\u001B[1;32m    806\u001B[0m p_should_use_set_data \u001B[38;5;241m=\u001B[39m compute_should_use_set_data(param, param_applied)\n\u001B[1;32m    808\u001B[0m \u001B[38;5;66;03m# subclasses may have multiple child tensors so we need to use swap_tensors\u001B[39;00m\n",
      "File \u001B[0;32m~/anaconda3/envs/dl-pytorch/lib/python3.10/site-packages/torch/nn/modules/module.py:1160\u001B[0m, in \u001B[0;36mModule.to.<locals>.convert\u001B[0;34m(t)\u001B[0m\n\u001B[1;32m   1153\u001B[0m     \u001B[38;5;28;01mif\u001B[39;00m convert_to_format \u001B[38;5;129;01mis\u001B[39;00m \u001B[38;5;129;01mnot\u001B[39;00m \u001B[38;5;28;01mNone\u001B[39;00m \u001B[38;5;129;01mand\u001B[39;00m t\u001B[38;5;241m.\u001B[39mdim() \u001B[38;5;129;01min\u001B[39;00m (\u001B[38;5;241m4\u001B[39m, \u001B[38;5;241m5\u001B[39m):\n\u001B[1;32m   1154\u001B[0m         \u001B[38;5;28;01mreturn\u001B[39;00m t\u001B[38;5;241m.\u001B[39mto(\n\u001B[1;32m   1155\u001B[0m             device,\n\u001B[1;32m   1156\u001B[0m             dtype \u001B[38;5;28;01mif\u001B[39;00m t\u001B[38;5;241m.\u001B[39mis_floating_point() \u001B[38;5;129;01mor\u001B[39;00m t\u001B[38;5;241m.\u001B[39mis_complex() \u001B[38;5;28;01melse\u001B[39;00m \u001B[38;5;28;01mNone\u001B[39;00m,\n\u001B[1;32m   1157\u001B[0m             non_blocking,\n\u001B[1;32m   1158\u001B[0m             memory_format\u001B[38;5;241m=\u001B[39mconvert_to_format,\n\u001B[1;32m   1159\u001B[0m         )\n\u001B[0;32m-> 1160\u001B[0m     \u001B[38;5;28;01mreturn\u001B[39;00m \u001B[43mt\u001B[49m\u001B[38;5;241;43m.\u001B[39;49m\u001B[43mto\u001B[49m\u001B[43m(\u001B[49m\n\u001B[1;32m   1161\u001B[0m \u001B[43m        \u001B[49m\u001B[43mdevice\u001B[49m\u001B[43m,\u001B[49m\n\u001B[1;32m   1162\u001B[0m \u001B[43m        \u001B[49m\u001B[43mdtype\u001B[49m\u001B[43m \u001B[49m\u001B[38;5;28;43;01mif\u001B[39;49;00m\u001B[43m \u001B[49m\u001B[43mt\u001B[49m\u001B[38;5;241;43m.\u001B[39;49m\u001B[43mis_floating_point\u001B[49m\u001B[43m(\u001B[49m\u001B[43m)\u001B[49m\u001B[43m \u001B[49m\u001B[38;5;129;43;01mor\u001B[39;49;00m\u001B[43m \u001B[49m\u001B[43mt\u001B[49m\u001B[38;5;241;43m.\u001B[39;49m\u001B[43mis_complex\u001B[49m\u001B[43m(\u001B[49m\u001B[43m)\u001B[49m\u001B[43m \u001B[49m\u001B[38;5;28;43;01melse\u001B[39;49;00m\u001B[43m \u001B[49m\u001B[38;5;28;43;01mNone\u001B[39;49;00m\u001B[43m,\u001B[49m\n\u001B[1;32m   1163\u001B[0m \u001B[43m        \u001B[49m\u001B[43mnon_blocking\u001B[49m\u001B[43m,\u001B[49m\n\u001B[1;32m   1164\u001B[0m \u001B[43m    \u001B[49m\u001B[43m)\u001B[49m\n\u001B[1;32m   1165\u001B[0m \u001B[38;5;28;01mexcept\u001B[39;00m \u001B[38;5;167;01mNotImplementedError\u001B[39;00m \u001B[38;5;28;01mas\u001B[39;00m e:\n\u001B[1;32m   1166\u001B[0m     \u001B[38;5;28;01mif\u001B[39;00m \u001B[38;5;28mstr\u001B[39m(e) \u001B[38;5;241m==\u001B[39m \u001B[38;5;124m\"\u001B[39m\u001B[38;5;124mCannot copy out of meta tensor; no data!\u001B[39m\u001B[38;5;124m\"\u001B[39m:\n",
      "\u001B[0;31mRuntimeError\u001B[0m: CUDA error: CUDA-capable device(s) is/are busy or unavailable\nCUDA kernel errors might be asynchronously reported at some other API call, so the stacktrace below might be incorrect.\nFor debugging consider passing CUDA_LAUNCH_BLOCKING=1\nCompile with `TORCH_USE_CUDA_DSA` to enable device-side assertions.\n"
     ]
    }
   ],
   "execution_count": 16
  },
  {
   "metadata": {
    "ExecuteTime": {
     "end_time": "2024-11-15T11:07:42.868065102Z",
     "start_time": "2024-11-07T00:19:14.323327Z"
    }
   },
   "cell_type": "code",
   "source": [
    "print(texts)"
   ],
   "id": "2b113a98eea5dfbd",
   "outputs": [
    {
     "name": "stdout",
     "output_type": "stream",
     "text": [
      "tensor([[43593, 58655, 67253,  ..., 74555, 35961, 57393],\n",
      "        [ 2166,  8269, 19154,  ...,     1,     1,     1],\n",
      "        [17991, 52254, 59359,  ...,     1,     1,     1],\n",
      "        ...,\n",
      "        [46424, 24314, 73279,  ...,     1,     1,     1],\n",
      "        [36647, 42199,  1048,  ...,     1,     1,     1],\n",
      "        [10860, 11215, 25506,  ...,     1,     1,     1]], device='cuda:0')\n"
     ]
    }
   ],
   "execution_count": 86
  },
  {
   "metadata": {},
   "cell_type": "markdown",
   "source": [
    "## 5. Model Evaluation\n",
    "\n",
    "After training, we need to evaluate our model on the test dataset to understand its performance.\n",
    "\n",
    "### Exercise\n",
    "1. Define a function to evaluate the model's accuracy on the test set.\n",
    "2. Print the accuracy."
   ],
   "id": "5ffdb68841ef1798"
  },
  {
   "metadata": {
    "ExecuteTime": {
     "end_time": "2024-11-15T11:07:42.874021269Z",
     "start_time": "2024-11-07T00:16:23.436140Z"
    }
   },
   "cell_type": "code",
   "source": [
    "# Evaluation loop\n",
    "model.eval()\n",
    "correct_preds = 0\n",
    "total_preds = 0\n",
    "with torch.no_grad():\n",
    "    for texts, labels in test_loader:\n",
    "        texts, labels = texts.to(device), labels.to(device)\n",
    "        outputs = model(texts)\n",
    "        predictions = (outputs.squeeze() > 0).long()\n",
    "        correct_preds += (predictions == labels).sum().item()\n",
    "        total_preds += len(labels)\n",
    "\n",
    "accuracy = correct_preds / total_preds\n",
    "print(f\"Test Accuracy: {accuracy*100:.2f}%\")"
   ],
   "id": "753013a29969972c",
   "outputs": [
    {
     "name": "stdout",
     "output_type": "stream",
     "text": [
      "Test Accuracy: 50.07%\n"
     ]
    }
   ],
   "execution_count": 81
  },
  {
   "metadata": {
    "ExecuteTime": {
     "end_time": "2024-11-15T11:07:42.874489367Z",
     "start_time": "2024-11-06T23:18:07.817178Z"
    }
   },
   "cell_type": "code",
   "source": [],
   "id": "f97e3a9ed9ac1b32",
   "outputs": [],
   "execution_count": null
  }
 ],
 "metadata": {
  "kernelspec": {
   "display_name": "Python 3",
   "language": "python",
   "name": "python3"
  },
  "language_info": {
   "codemirror_mode": {
    "name": "ipython",
    "version": 2
   },
   "file_extension": ".py",
   "mimetype": "text/x-python",
   "name": "python",
   "nbconvert_exporter": "python",
   "pygments_lexer": "ipython2",
   "version": "2.7.6"
  }
 },
 "nbformat": 4,
 "nbformat_minor": 5
}
